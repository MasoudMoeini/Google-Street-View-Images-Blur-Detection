{
  "nbformat": 4,
  "nbformat_minor": 0,
  "metadata": {
    "colab": {
      "provenance": [],
      "collapsed_sections": [],
      "authorship_tag": "ABX9TyPzT7rUGsEx2EEN6hDr3ySo",
      "include_colab_link": true
    },
    "kernelspec": {
      "name": "python3",
      "display_name": "Python 3"
    },
    "language_info": {
      "name": "python"
    },
    "accelerator": "GPU",
    "gpuClass": "standard"
  },
  "cells": [
    {
      "cell_type": "markdown",
      "metadata": {
        "id": "view-in-github",
        "colab_type": "text"
      },
      "source": [
        "<a href=\"https://colab.research.google.com/github/MasoudMoeini/Google-Street-View-Images-Blur-Detection/blob/main/GoogLeNet_SBDN.ipynb\" target=\"_parent\"><img src=\"https://colab.research.google.com/assets/colab-badge.svg\" alt=\"Open In Colab\"/></a>"
      ]
    },
    {
      "cell_type": "code",
      "execution_count": 1,
      "metadata": {
        "id": "2BKZwvAmgIwk"
      },
      "outputs": [],
      "source": [
        "import os\n",
        "import numpy as np\n",
        "import matplotlib.pyplot as plt\n",
        "import tensorflow as tf\n",
        "import glob\n",
        "from PIL import Image\n",
        "from tensorflow import keras\n",
        "from keras.models import Sequential, Model,load_model\n",
        "from keras import layers\n",
        "from keras import regularizers\n",
        "from keras.layers import Input, Flatten, Dense, Dropout, BatchNormalization\n",
        "from keras.layers import Conv2D, MaxPooling2D, AveragePooling2D, ZeroPadding2D\n",
        "from keras.layers import Concatenate"
      ]
    },
    {
      "cell_type": "code",
      "source": [
        "!unzip -qq images.zip"
      ],
      "metadata": {
        "id": "mqkuW8mBxi54"
      },
      "execution_count": 2,
      "outputs": []
    },
    {
      "cell_type": "code",
      "source": [
        "!unzip -qq labels.zip"
      ],
      "metadata": {
        "id": "tG1v9kG2xjyd"
      },
      "execution_count": 3,
      "outputs": []
    },
    {
      "cell_type": "code",
      "source": [
        "from numpy import *\n",
        "images_folder= \"images/*.jpg\"\n",
        "labels_folder = \"labels/\"\n",
        "def data_preprocessing(images_folder,labels_folder):\n",
        "  total_img = []\n",
        "  class_label=[]\n",
        "  label = []\n",
        "  files = glob.glob (images_folder)\n",
        "  for myFile in files[:3000]:\n",
        "      image_name=os.path.split(myFile)[1]\n",
        "      class_label.append(float(image_name[0]))\n",
        "      image = array(Image.open(myFile))\n",
        "      label_image = array(Image.open(labels_folder+image_name))\n",
        "      label.append (label_image)\n",
        "      total_img.append (image)\n",
        "  total_img = np.array(total_img)\n",
        "  label = np.array(label)\n",
        "  class_label=np.array(class_label) \n",
        "  label= np.reshape(label,[label.shape[0],label.shape[1],label.shape[2],label.shape[3]])\n",
        "  total_img= np.reshape(total_img,[total_img.shape[0],total_img.shape[1],total_img.shape[2],total_img.shape[3]])\n",
        "  #np.save('class_labels', class_label)\n",
        "  #np.save('total-images',total_img)\n",
        "  #np.save('label-images',label)\n",
        "  return class_label,label,total_img"
      ],
      "metadata": {
        "id": "5Epl3gQLxqo8"
      },
      "execution_count": 4,
      "outputs": []
    },
    {
      "cell_type": "code",
      "source": [
        "class_labels,total_labels,total_images=data_preprocessing(images_folder,labels_folder)"
      ],
      "metadata": {
        "id": "dSA76HC9xw0e"
      },
      "execution_count": 5,
      "outputs": []
    },
    {
      "cell_type": "code",
      "source": [
        "def inception(x, filters):\n",
        "    # 1x1\n",
        "    path1 = Conv2D(filters=filters[0], kernel_size=(1,1), strides=1, padding='same', activation='relu')(x)\n",
        "\n",
        "    # 1x1->3x3\n",
        "    path2 = Conv2D(filters=filters[1][0], kernel_size=(1,1), strides=1, padding='same', activation='relu')(x)\n",
        "    path2 = Conv2D(filters=filters[1][1], kernel_size=(3,3), strides=1, padding='same', activation='relu')(path2)\n",
        "    \n",
        "    # 1x1->5x5\n",
        "    path3 = Conv2D(filters=filters[2][0], kernel_size=(1,1), strides=1, padding='same', activation='relu')(x)\n",
        "    path3 = Conv2D(filters=filters[2][1], kernel_size=(5,5), strides=1, padding='same', activation='relu')(path3)\n",
        "\n",
        "    # 3x3->1x1\n",
        "    path4 = MaxPooling2D(pool_size=(3,3), strides=1, padding='same')(x)\n",
        "    path4 = Conv2D(filters=filters[3], kernel_size=(1,1), strides=1, padding='same', activation='relu')(path4)\n",
        "\n",
        "    return Concatenate(axis=-1)([path1,path2,path3,path4])"
      ],
      "metadata": {
        "id": "prrk5YG1g417"
      },
      "execution_count": 7,
      "outputs": []
    },
    {
      "cell_type": "code",
      "source": [
        "def auxiliary(x, name=None):\n",
        "    layer = AveragePooling2D(pool_size=(5,5), strides=3, padding='valid')(x)\n",
        "    layer = Conv2D(filters=128, kernel_size=(1,1), strides=1, padding='same', activation='relu')(layer)\n",
        "    layer = Flatten()(layer)\n",
        "    layer = Dense(units=256, activation='relu')(layer)\n",
        "    layer = Dropout(0.4)(layer)\n",
        "    layer = Dense(units=1, activation='softmax', name=name)(layer)\n",
        "    return layer\n"
      ],
      "metadata": {
        "id": "n3za1F4Mg7Io"
      },
      "execution_count": 6,
      "outputs": []
    },
    {
      "cell_type": "code",
      "source": [
        "def identifier(x,name=None):\n",
        "  layer = layers.Conv2DTranspose(1024, (3, 3), strides=(1, 1), padding='same',activation=\"relu\")(x)\n",
        "  layer = layers.Conv2DTranspose(512, (3, 3), strides=(2, 2), padding='same',activation=\"relu\")(layer)\n",
        "  layer = layers.Conv2DTranspose(128, (3, 3), strides=(2, 2), padding='same',activation=\"relu\")(layer)\n",
        "  layer = layers.Conv2DTranspose(32, (3, 3), strides=(2, 2), padding='same',activation=\"relu\")(layer)\n",
        "  layer = layers.Conv2DTranspose(3, (3, 3), strides=(2, 2), padding='same',activation=\"relu\")(layer)\n",
        "  layer = layers.Conv2DTranspose(3, (3, 3), strides=(2, 2), padding='same',activation=\"relu\")(layer)\n",
        "  layer = layers.Conv2DTranspose(3, (3, 3), strides=(1, 1), padding='same',activation=\"sigmoid\")(layer)\n",
        "  layer = layers.Conv2DTranspose(3, (3, 3), strides=(1, 1), padding='same',activation=\"sigmoid\",name=name)(layer)\n",
        "  return layer\n"
      ],
      "metadata": {
        "id": "vlq6t_-mmgyq"
      },
      "execution_count": 8,
      "outputs": []
    },
    {
      "cell_type": "code",
      "source": [
        "def googlenet():\n",
        "    layer_in = Input(shape=(224, 224, 3))\n",
        "    \n",
        "    # stage-1\n",
        "    layer = Conv2D(filters=64, kernel_size=(7,7), strides=2, padding='same', activation='relu')(layer_in)\n",
        "    layer = MaxPooling2D(pool_size=(3,3), strides=2, padding='same')(layer)\n",
        "    layer = BatchNormalization()(layer)\n",
        "\n",
        "    # stage-2\n",
        "    layer = Conv2D(filters=64, kernel_size=(1,1), strides=1, padding='same', activation='relu')(layer)\n",
        "    layer = Conv2D(filters=192, kernel_size=(3,3), strides=1, padding='same', activation='relu')(layer)\n",
        "    layer = BatchNormalization()(layer)\n",
        "    layer = MaxPooling2D(pool_size=(3,3), strides=2, padding='same')(layer)\n",
        "\n",
        "    # stage-3\n",
        "    layer = inception(layer, [ 64,  (96,128), (16,32), 32]) #3a\n",
        "    layer = inception(layer, [128, (128,192), (32,96), 64]) #3b\n",
        "    layer = MaxPooling2D(pool_size=(3,3), strides=2, padding='same')(layer)\n",
        "    \n",
        "    # stage-4\n",
        "    layer = inception(layer, [192,  (96,208),  (16,48),  64]) #4a\n",
        "    aux1  = auxiliary(layer, name='aux1')\n",
        "    layer = inception(layer, [160, (112,224),  (24,64),  64]) #4b\n",
        "    layer = inception(layer, [128, (128,256),  (24,64),  64]) #4c\n",
        "    layer = inception(layer, [112, (144,288),  (32,64),  64]) #4d\n",
        "    aux2  = auxiliary(layer, name='aux2')\n",
        "    layer = inception(layer, [256, (160,320), (32,128), 128]) #4e\n",
        "    layer = MaxPooling2D(pool_size=(3,3), strides=2, padding='same')(layer)\n",
        "    \n",
        "    # stage-5\n",
        "    layer = inception(layer, [256, (160,320), (32,128), 128]) #5a\n",
        "    layer = inception(layer, [384, (192,384), (48,128), 128]) #5b\n",
        "    ident  = identifier(layer, name='ident')\n",
        "    layer = AveragePooling2D(pool_size=(7,7), strides=1, padding='valid')(layer)\n",
        "    \n",
        "    # stage-6\n",
        "    layer = Flatten()(layer)\n",
        "    layer = Dropout(0.4)(layer)\n",
        "    layer = Dense(units=256, activation='linear')(layer)\n",
        "    main = Dense(units=1, activation='softmax', name='main')(layer)\n",
        "    \n",
        "    model = Model(inputs=layer_in, outputs=[main, aux1, aux2,ident])\n",
        "    \n",
        "    return model"
      ],
      "metadata": {
        "id": "2d8-SUGjhE4l"
      },
      "execution_count": 9,
      "outputs": []
    },
    {
      "cell_type": "code",
      "source": [
        "model = googlenet()\n",
        "#keras.utils.plot_model(model, show_shapes=True)"
      ],
      "metadata": {
        "id": "aS-P9Wzwhc49"
      },
      "execution_count": 10,
      "outputs": []
    },
    {
      "cell_type": "code",
      "source": [
        "ACCURACY_THRESHOLD = 0.96\n",
        "class myCallback(tf.keras.callbacks.Callback):\n",
        "\tdef on_epoch_end(self, epoch, logs={}):\n",
        "\t\tif(logs.get('val_main_accuracy') > ACCURACY_THRESHOLD):\n",
        "\t\t\tprint(\"\\nReached %2.2f%% accuracy, so stopping training!!\" %(ACCURACY_THRESHOLD*100))\n",
        "\t\t\tself.model.stop_training = True\n",
        "\n",
        "# Instantiate a callback object\n",
        "callbacks = myCallback()"
      ],
      "metadata": {
        "id": "Wun3kRituUTm"
      },
      "execution_count": null,
      "outputs": []
    },
    {
      "cell_type": "code",
      "source": [
        "loss1=\"binary_crossentropy\"\n",
        "loss2=tf.keras.losses.MeanSquaredError()\n",
        "model.compile(keras.optimizers.Adam(learning_rate=1e-3),loss = [loss1,loss1,loss1,loss2],metrics=[\"accuracy\"])"
      ],
      "metadata": {
        "id": "fvXxADFHtgdO"
      },
      "execution_count": 11,
      "outputs": []
    },
    {
      "cell_type": "code",
      "source": [
        "class_label=class_labels[:2500]\n",
        "x_train = total_images[:2500].astype(np.float32)/ 255.0\n",
        "y_train=total_labels[:2500].astype(np.float32)/ 255.0\n",
        "y_train =(y_train,class_label)"
      ],
      "metadata": {
        "id": "EosxhEROy9gc"
      },
      "execution_count": 12,
      "outputs": []
    },
    {
      "cell_type": "code",
      "source": [
        "(y_train[0][0]).shape"
      ],
      "metadata": {
        "colab": {
          "base_uri": "https://localhost:8080/"
        },
        "id": "wXjZK8xzoWDI",
        "outputId": "ef759d9f-2971-4ac7-9f56-67a22c3ea313"
      },
      "execution_count": null,
      "outputs": [
        {
          "output_type": "execute_result",
          "data": {
            "text/plain": [
              "(224, 224, 3)"
            ]
          },
          "metadata": {},
          "execution_count": 61
        }
      ]
    },
    {
      "cell_type": "code",
      "source": [
        "history = model.fit(x_train,[y_train[1],y_train[1],y_train[1],y_train[0]], epochs=35,batch_size=20, validation_split=0.2,shuffle=True)\n",
        "model.save('googleNet_model.h5')"
      ],
      "metadata": {
        "colab": {
          "base_uri": "https://localhost:8080/"
        },
        "id": "jVAaj3cMwxqF",
        "outputId": "5e6d99f3-2c0d-45fc-e0cf-48c9ac667db7"
      },
      "execution_count": 26,
      "outputs": [
        {
          "output_type": "stream",
          "name": "stdout",
          "text": [
            "Epoch 1/35\n",
            "100/100 [==============================] - 19s 167ms/step - loss: 0.2406 - main_loss: 0.0579 - aux1_loss: 0.0575 - aux2_loss: 0.0489 - ident_loss: 0.0763 - main_accuracy: 0.5125 - aux1_accuracy: 0.5125 - aux2_accuracy: 0.5125 - ident_accuracy: 0.5348 - val_loss: 0.6196 - val_main_loss: 0.1973 - val_aux1_loss: 0.1565 - val_aux2_loss: 0.1845 - val_ident_loss: 0.0812 - val_main_accuracy: 0.4900 - val_aux1_accuracy: 0.4900 - val_aux2_accuracy: 0.4900 - val_ident_accuracy: 0.9865\n",
            "Epoch 2/35\n",
            "100/100 [==============================] - 17s 170ms/step - loss: 0.2333 - main_loss: 0.0535 - aux1_loss: 0.0553 - aux2_loss: 0.0481 - ident_loss: 0.0763 - main_accuracy: 0.5125 - aux1_accuracy: 0.5125 - aux2_accuracy: 0.5125 - ident_accuracy: 0.9767 - val_loss: 5.3747 - val_main_loss: 1.9952 - val_aux1_loss: 1.4772 - val_aux2_loss: 1.8211 - val_ident_loss: 0.0812 - val_main_accuracy: 0.4900 - val_aux1_accuracy: 0.4900 - val_aux2_accuracy: 0.4900 - val_ident_accuracy: 0.9864\n",
            "Epoch 3/35\n",
            "100/100 [==============================] - 17s 173ms/step - loss: 0.2467 - main_loss: 0.0624 - aux1_loss: 0.0523 - aux2_loss: 0.0557 - ident_loss: 0.0763 - main_accuracy: 0.5125 - aux1_accuracy: 0.5125 - aux2_accuracy: 0.5125 - ident_accuracy: 0.8393 - val_loss: 1.0081 - val_main_loss: 0.2580 - val_aux1_loss: 0.4285 - val_aux2_loss: 0.2404 - val_ident_loss: 0.0812 - val_main_accuracy: 0.4900 - val_aux1_accuracy: 0.4900 - val_aux2_accuracy: 0.4900 - val_ident_accuracy: 0.9866\n",
            "Epoch 4/35\n",
            "100/100 [==============================] - 17s 173ms/step - loss: 0.2356 - main_loss: 0.0574 - aux1_loss: 0.0525 - aux2_loss: 0.0494 - ident_loss: 0.0763 - main_accuracy: 0.5125 - aux1_accuracy: 0.5125 - aux2_accuracy: 0.5125 - ident_accuracy: 0.6525 - val_loss: 0.5301 - val_main_loss: 0.1508 - val_aux1_loss: 0.1623 - val_aux2_loss: 0.1359 - val_ident_loss: 0.0812 - val_main_accuracy: 0.4900 - val_aux1_accuracy: 0.4900 - val_aux2_accuracy: 0.4900 - val_ident_accuracy: 0.9864\n",
            "Epoch 5/35\n",
            "100/100 [==============================] - 16s 159ms/step - loss: 0.2267 - main_loss: 0.0574 - aux1_loss: 0.0459 - aux2_loss: 0.0471 - ident_loss: 0.0763 - main_accuracy: 0.5125 - aux1_accuracy: 0.5125 - aux2_accuracy: 0.5125 - ident_accuracy: 0.6134 - val_loss: 1.7047 - val_main_loss: 0.4849 - val_aux1_loss: 0.5999 - val_aux2_loss: 0.5387 - val_ident_loss: 0.0812 - val_main_accuracy: 0.4900 - val_aux1_accuracy: 0.4900 - val_aux2_accuracy: 0.4900 - val_ident_accuracy: 0.0045\n",
            "Epoch 6/35\n",
            "100/100 [==============================] - 17s 170ms/step - loss: 0.2174 - main_loss: 0.0495 - aux1_loss: 0.0474 - aux2_loss: 0.0442 - ident_loss: 0.0763 - main_accuracy: 0.5125 - aux1_accuracy: 0.5125 - aux2_accuracy: 0.5125 - ident_accuracy: 0.5741 - val_loss: 0.4825 - val_main_loss: 0.1122 - val_aux1_loss: 0.1453 - val_aux2_loss: 0.1438 - val_ident_loss: 0.0812 - val_main_accuracy: 0.4900 - val_aux1_accuracy: 0.4900 - val_aux2_accuracy: 0.4900 - val_ident_accuracy: 0.0045\n",
            "Epoch 7/35\n",
            "100/100 [==============================] - 16s 159ms/step - loss: 0.3493 - main_loss: 0.1035 - aux1_loss: 0.0858 - aux2_loss: 0.0836 - ident_loss: 0.0763 - main_accuracy: 0.5125 - aux1_accuracy: 0.5125 - aux2_accuracy: 0.5125 - ident_accuracy: 0.3186 - val_loss: 3.3148 - val_main_loss: 1.0323 - val_aux1_loss: 0.8933 - val_aux2_loss: 1.3081 - val_ident_loss: 0.0812 - val_main_accuracy: 0.4900 - val_aux1_accuracy: 0.4900 - val_aux2_accuracy: 0.4900 - val_ident_accuracy: 0.9866\n",
            "Epoch 8/35\n",
            "100/100 [==============================] - 16s 158ms/step - loss: 0.2807 - main_loss: 0.0742 - aux1_loss: 0.0660 - aux2_loss: 0.0642 - ident_loss: 0.0763 - main_accuracy: 0.5125 - aux1_accuracy: 0.5125 - aux2_accuracy: 0.5125 - ident_accuracy: 0.4759 - val_loss: 0.4734 - val_main_loss: 0.1095 - val_aux1_loss: 0.1658 - val_aux2_loss: 0.1169 - val_ident_loss: 0.0812 - val_main_accuracy: 0.4900 - val_aux1_accuracy: 0.4900 - val_aux2_accuracy: 0.4900 - val_ident_accuracy: 0.9866\n",
            "Epoch 9/35\n",
            "100/100 [==============================] - 17s 171ms/step - loss: 0.2371 - main_loss: 0.0578 - aux1_loss: 0.0523 - aux2_loss: 0.0506 - ident_loss: 0.0763 - main_accuracy: 0.5125 - aux1_accuracy: 0.5125 - aux2_accuracy: 0.5125 - ident_accuracy: 0.6036 - val_loss: 0.4034 - val_main_loss: 0.1142 - val_aux1_loss: 0.1041 - val_aux2_loss: 0.1039 - val_ident_loss: 0.0812 - val_main_accuracy: 0.4900 - val_aux1_accuracy: 0.4900 - val_aux2_accuracy: 0.4900 - val_ident_accuracy: 0.9866\n",
            "Epoch 10/35\n",
            "100/100 [==============================] - 16s 158ms/step - loss: 0.2131 - main_loss: 0.0466 - aux1_loss: 0.0473 - aux2_loss: 0.0429 - ident_loss: 0.0763 - main_accuracy: 0.5125 - aux1_accuracy: 0.5125 - aux2_accuracy: 0.5125 - ident_accuracy: 0.6527 - val_loss: 6.5991 - val_main_loss: 2.0726 - val_aux1_loss: 2.1715 - val_aux2_loss: 2.2738 - val_ident_loss: 0.0811 - val_main_accuracy: 0.4900 - val_aux1_accuracy: 0.4900 - val_aux2_accuracy: 0.4900 - val_ident_accuracy: 0.0044\n",
            "Epoch 11/35\n",
            "100/100 [==============================] - 17s 170ms/step - loss: 0.2212 - main_loss: 0.0528 - aux1_loss: 0.0462 - aux2_loss: 0.0459 - ident_loss: 0.0763 - main_accuracy: 0.5125 - aux1_accuracy: 0.5125 - aux2_accuracy: 0.5125 - ident_accuracy: 0.0437 - val_loss: 0.5093 - val_main_loss: 0.1737 - val_aux1_loss: 0.1289 - val_aux2_loss: 0.1256 - val_ident_loss: 0.0811 - val_main_accuracy: 0.4900 - val_aux1_accuracy: 0.4900 - val_aux2_accuracy: 0.4900 - val_ident_accuracy: 0.9866\n",
            "Epoch 12/35\n",
            "100/100 [==============================] - 17s 171ms/step - loss: 0.2450 - main_loss: 0.0600 - aux1_loss: 0.0597 - aux2_loss: 0.0490 - ident_loss: 0.0763 - main_accuracy: 0.5125 - aux1_accuracy: 0.5125 - aux2_accuracy: 0.5125 - ident_accuracy: 0.8589 - val_loss: 0.8184 - val_main_loss: 0.2676 - val_aux1_loss: 0.1942 - val_aux2_loss: 0.2755 - val_ident_loss: 0.0811 - val_main_accuracy: 0.4900 - val_aux1_accuracy: 0.4900 - val_aux2_accuracy: 0.4900 - val_ident_accuracy: 0.9862\n",
            "Epoch 13/35\n",
            "100/100 [==============================] - 16s 158ms/step - loss: 0.2102 - main_loss: 0.0491 - aux1_loss: 0.0464 - aux2_loss: 0.0384 - ident_loss: 0.0763 - main_accuracy: 0.5125 - aux1_accuracy: 0.5125 - aux2_accuracy: 0.5125 - ident_accuracy: 0.5348 - val_loss: 6.1632 - val_main_loss: 2.5881 - val_aux1_loss: 1.8011 - val_aux2_loss: 1.6929 - val_ident_loss: 0.0811 - val_main_accuracy: 0.4900 - val_aux1_accuracy: 0.4900 - val_aux2_accuracy: 0.4900 - val_ident_accuracy: 0.0044\n",
            "Epoch 14/35\n",
            "100/100 [==============================] - 17s 170ms/step - loss: 0.3012 - main_loss: 0.0844 - aux1_loss: 0.0716 - aux2_loss: 0.0689 - ident_loss: 0.0763 - main_accuracy: 0.5125 - aux1_accuracy: 0.5125 - aux2_accuracy: 0.5125 - ident_accuracy: 0.3482 - val_loss: 7.6103 - val_main_loss: 2.6545 - val_aux1_loss: 2.4904 - val_aux2_loss: 2.3842 - val_ident_loss: 0.0811 - val_main_accuracy: 0.4900 - val_aux1_accuracy: 0.4900 - val_aux2_accuracy: 0.4900 - val_ident_accuracy: 0.0045\n",
            "Epoch 15/35\n",
            "100/100 [==============================] - 17s 170ms/step - loss: 0.2847 - main_loss: 0.0712 - aux1_loss: 0.0679 - aux2_loss: 0.0693 - ident_loss: 0.0763 - main_accuracy: 0.5125 - aux1_accuracy: 0.5125 - aux2_accuracy: 0.5125 - ident_accuracy: 0.5741 - val_loss: 0.5703 - val_main_loss: 0.1929 - val_aux1_loss: 0.1419 - val_aux2_loss: 0.1544 - val_ident_loss: 0.0811 - val_main_accuracy: 0.4900 - val_aux1_accuracy: 0.4900 - val_aux2_accuracy: 0.4900 - val_ident_accuracy: 0.0045\n",
            "Epoch 16/35\n",
            "100/100 [==============================] - 16s 159ms/step - loss: 0.3179 - main_loss: 0.0938 - aux1_loss: 0.0784 - aux2_loss: 0.0695 - ident_loss: 0.0763 - main_accuracy: 0.5125 - aux1_accuracy: 0.5125 - aux2_accuracy: 0.5125 - ident_accuracy: 0.2304 - val_loss: 0.5071 - val_main_loss: 0.1245 - val_aux1_loss: 0.1570 - val_aux2_loss: 0.1445 - val_ident_loss: 0.0811 - val_main_accuracy: 0.4900 - val_aux1_accuracy: 0.4900 - val_aux2_accuracy: 0.4900 - val_ident_accuracy: 0.9867\n",
            "Epoch 17/35\n",
            "100/100 [==============================] - 16s 159ms/step - loss: 0.2759 - main_loss: 0.0859 - aux1_loss: 0.0496 - aux2_loss: 0.0641 - ident_loss: 0.0763 - main_accuracy: 0.5125 - aux1_accuracy: 0.5125 - aux2_accuracy: 0.5125 - ident_accuracy: 0.8884 - val_loss: 0.8588 - val_main_loss: 0.2546 - val_aux1_loss: 0.2899 - val_aux2_loss: 0.2332 - val_ident_loss: 0.0811 - val_main_accuracy: 0.4900 - val_aux1_accuracy: 0.4900 - val_aux2_accuracy: 0.4900 - val_ident_accuracy: 0.0045\n",
            "Epoch 18/35\n",
            "100/100 [==============================] - 16s 159ms/step - loss: 0.2357 - main_loss: 0.0634 - aux1_loss: 0.0444 - aux2_loss: 0.0516 - ident_loss: 0.0763 - main_accuracy: 0.5125 - aux1_accuracy: 0.5125 - aux2_accuracy: 0.5125 - ident_accuracy: 0.3286 - val_loss: 0.9589 - val_main_loss: 0.3696 - val_aux1_loss: 0.1797 - val_aux2_loss: 0.3285 - val_ident_loss: 0.0811 - val_main_accuracy: 0.4900 - val_aux1_accuracy: 0.4900 - val_aux2_accuracy: 0.4900 - val_ident_accuracy: 0.0044\n",
            "Epoch 19/35\n",
            "100/100 [==============================] - 17s 170ms/step - loss: 0.3389 - main_loss: 0.0991 - aux1_loss: 0.0860 - aux2_loss: 0.0776 - ident_loss: 0.0763 - main_accuracy: 0.5125 - aux1_accuracy: 0.5125 - aux2_accuracy: 0.5125 - ident_accuracy: 0.3286 - val_loss: 3.6132 - val_main_loss: 1.1454 - val_aux1_loss: 1.2001 - val_aux2_loss: 1.1866 - val_ident_loss: 0.0811 - val_main_accuracy: 0.4900 - val_aux1_accuracy: 0.4900 - val_aux2_accuracy: 0.4900 - val_ident_accuracy: 0.9866\n",
            "Epoch 20/35\n",
            "100/100 [==============================] - 16s 158ms/step - loss: 0.2834 - main_loss: 0.0755 - aux1_loss: 0.0709 - aux2_loss: 0.0608 - ident_loss: 0.0763 - main_accuracy: 0.5125 - aux1_accuracy: 0.5125 - aux2_accuracy: 0.5125 - ident_accuracy: 0.2402 - val_loss: 0.8686 - val_main_loss: 0.2433 - val_aux1_loss: 0.2418 - val_aux2_loss: 0.3024 - val_ident_loss: 0.0811 - val_main_accuracy: 0.4900 - val_aux1_accuracy: 0.4900 - val_aux2_accuracy: 0.4900 - val_ident_accuracy: 0.0045\n",
            "Epoch 21/35\n",
            "100/100 [==============================] - 16s 159ms/step - loss: 0.2178 - main_loss: 0.0496 - aux1_loss: 0.0465 - aux2_loss: 0.0455 - ident_loss: 0.0762 - main_accuracy: 0.5125 - aux1_accuracy: 0.5125 - aux2_accuracy: 0.5125 - ident_accuracy: 0.2893 - val_loss: 0.4151 - val_main_loss: 0.1305 - val_aux1_loss: 0.1049 - val_aux2_loss: 0.0986 - val_ident_loss: 0.0811 - val_main_accuracy: 0.4900 - val_aux1_accuracy: 0.4900 - val_aux2_accuracy: 0.4900 - val_ident_accuracy: 0.9866\n",
            "Epoch 22/35\n",
            "100/100 [==============================] - 16s 159ms/step - loss: 0.2144 - main_loss: 0.0507 - aux1_loss: 0.0435 - aux2_loss: 0.0439 - ident_loss: 0.0762 - main_accuracy: 0.5125 - aux1_accuracy: 0.5125 - aux2_accuracy: 0.5125 - ident_accuracy: 0.4170 - val_loss: 1.0914 - val_main_loss: 0.3141 - val_aux1_loss: 0.3473 - val_aux2_loss: 0.3488 - val_ident_loss: 0.0811 - val_main_accuracy: 0.4900 - val_aux1_accuracy: 0.4900 - val_aux2_accuracy: 0.4900 - val_ident_accuracy: 0.0048\n",
            "Epoch 23/35\n",
            "100/100 [==============================] - 17s 171ms/step - loss: 0.2327 - main_loss: 0.0543 - aux1_loss: 0.0526 - aux2_loss: 0.0495 - ident_loss: 0.0762 - main_accuracy: 0.5125 - aux1_accuracy: 0.5125 - aux2_accuracy: 0.5125 - ident_accuracy: 0.2893 - val_loss: 0.7142 - val_main_loss: 0.2173 - val_aux1_loss: 0.2280 - val_aux2_loss: 0.1878 - val_ident_loss: 0.0811 - val_main_accuracy: 0.4900 - val_aux1_accuracy: 0.4900 - val_aux2_accuracy: 0.4900 - val_ident_accuracy: 0.0045\n",
            "Epoch 24/35\n",
            "100/100 [==============================] - 16s 158ms/step - loss: 0.2338 - main_loss: 0.0534 - aux1_loss: 0.0524 - aux2_loss: 0.0518 - ident_loss: 0.0762 - main_accuracy: 0.5125 - aux1_accuracy: 0.5125 - aux2_accuracy: 0.5125 - ident_accuracy: 0.3384 - val_loss: 1.0327 - val_main_loss: 0.3162 - val_aux1_loss: 0.3188 - val_aux2_loss: 0.3166 - val_ident_loss: 0.0811 - val_main_accuracy: 0.4900 - val_aux1_accuracy: 0.4900 - val_aux2_accuracy: 0.4900 - val_ident_accuracy: 0.9866\n",
            "Epoch 25/35\n",
            "100/100 [==============================] - 17s 171ms/step - loss: 0.2096 - main_loss: 0.0471 - aux1_loss: 0.0459 - aux2_loss: 0.0404 - ident_loss: 0.0762 - main_accuracy: 0.5125 - aux1_accuracy: 0.5125 - aux2_accuracy: 0.5125 - ident_accuracy: 0.2205 - val_loss: 0.7657 - val_main_loss: 0.2229 - val_aux1_loss: 0.2392 - val_aux2_loss: 0.2225 - val_ident_loss: 0.0811 - val_main_accuracy: 0.4900 - val_aux1_accuracy: 0.4900 - val_aux2_accuracy: 0.4900 - val_ident_accuracy: 0.9865\n",
            "Epoch 26/35\n",
            "100/100 [==============================] - 16s 158ms/step - loss: 0.1744 - main_loss: 0.0348 - aux1_loss: 0.0338 - aux2_loss: 0.0296 - ident_loss: 0.0762 - main_accuracy: 0.5125 - aux1_accuracy: 0.5125 - aux2_accuracy: 0.5125 - ident_accuracy: 0.5938 - val_loss: 1.3062 - val_main_loss: 0.4568 - val_aux1_loss: 0.3576 - val_aux2_loss: 0.4108 - val_ident_loss: 0.0811 - val_main_accuracy: 0.4900 - val_aux1_accuracy: 0.4900 - val_aux2_accuracy: 0.4900 - val_ident_accuracy: 0.0045\n",
            "Epoch 27/35\n",
            "100/100 [==============================] - 17s 170ms/step - loss: 0.1838 - main_loss: 0.0371 - aux1_loss: 0.0366 - aux2_loss: 0.0339 - ident_loss: 0.0762 - main_accuracy: 0.5125 - aux1_accuracy: 0.5125 - aux2_accuracy: 0.5125 - ident_accuracy: 0.0045 - val_loss: 0.8425 - val_main_loss: 0.2948 - val_aux1_loss: 0.2282 - val_aux2_loss: 0.2384 - val_ident_loss: 0.0811 - val_main_accuracy: 0.4900 - val_aux1_accuracy: 0.4900 - val_aux2_accuracy: 0.4900 - val_ident_accuracy: 0.0045\n",
            "Epoch 28/35\n",
            "100/100 [==============================] - 17s 171ms/step - loss: 0.1948 - main_loss: 0.0412 - aux1_loss: 0.0393 - aux2_loss: 0.0381 - ident_loss: 0.0762 - main_accuracy: 0.5125 - aux1_accuracy: 0.5125 - aux2_accuracy: 0.5125 - ident_accuracy: 0.5348 - val_loss: 0.4548 - val_main_loss: 0.1473 - val_aux1_loss: 0.1028 - val_aux2_loss: 0.1236 - val_ident_loss: 0.0811 - val_main_accuracy: 0.4900 - val_aux1_accuracy: 0.4900 - val_aux2_accuracy: 0.4900 - val_ident_accuracy: 0.0045\n",
            "Epoch 29/35\n",
            "100/100 [==============================] - 17s 170ms/step - loss: 0.1907 - main_loss: 0.0430 - aux1_loss: 0.0361 - aux2_loss: 0.0354 - ident_loss: 0.0762 - main_accuracy: 0.5125 - aux1_accuracy: 0.5125 - aux2_accuracy: 0.5125 - ident_accuracy: 0.3973 - val_loss: 0.5295 - val_main_loss: 0.1288 - val_aux1_loss: 0.1538 - val_aux2_loss: 0.1658 - val_ident_loss: 0.0811 - val_main_accuracy: 0.4900 - val_aux1_accuracy: 0.4900 - val_aux2_accuracy: 0.4900 - val_ident_accuracy: 0.0045\n",
            "Epoch 30/35\n",
            "100/100 [==============================] - 17s 171ms/step - loss: 0.1884 - main_loss: 0.0412 - aux1_loss: 0.0349 - aux2_loss: 0.0360 - ident_loss: 0.0762 - main_accuracy: 0.5125 - aux1_accuracy: 0.5125 - aux2_accuracy: 0.5125 - ident_accuracy: 0.3089 - val_loss: 0.4083 - val_main_loss: 0.1053 - val_aux1_loss: 0.1153 - val_aux2_loss: 0.1067 - val_ident_loss: 0.0810 - val_main_accuracy: 0.4900 - val_aux1_accuracy: 0.4900 - val_aux2_accuracy: 0.4900 - val_ident_accuracy: 0.0045\n",
            "Epoch 31/35\n",
            "100/100 [==============================] - 16s 159ms/step - loss: 0.1634 - main_loss: 0.0359 - aux1_loss: 0.0245 - aux2_loss: 0.0268 - ident_loss: 0.0762 - main_accuracy: 0.5125 - aux1_accuracy: 0.5125 - aux2_accuracy: 0.5125 - ident_accuracy: 0.1518 - val_loss: 0.4955 - val_main_loss: 0.1223 - val_aux1_loss: 0.1621 - val_aux2_loss: 0.1300 - val_ident_loss: 0.0810 - val_main_accuracy: 0.4900 - val_aux1_accuracy: 0.4900 - val_aux2_accuracy: 0.4900 - val_ident_accuracy: 0.0045\n",
            "Epoch 32/35\n",
            "100/100 [==============================] - 16s 159ms/step - loss: 0.1792 - main_loss: 0.0346 - aux1_loss: 0.0340 - aux2_loss: 0.0344 - ident_loss: 0.0762 - main_accuracy: 0.5125 - aux1_accuracy: 0.5125 - aux2_accuracy: 0.5125 - ident_accuracy: 0.2893 - val_loss: 0.6033 - val_main_loss: 0.1878 - val_aux1_loss: 0.1738 - val_aux2_loss: 0.1606 - val_ident_loss: 0.0810 - val_main_accuracy: 0.4900 - val_aux1_accuracy: 0.4900 - val_aux2_accuracy: 0.4900 - val_ident_accuracy: 0.0045\n",
            "Epoch 33/35\n",
            "100/100 [==============================] - 16s 159ms/step - loss: 0.2250 - main_loss: 0.0528 - aux1_loss: 0.0511 - aux2_loss: 0.0448 - ident_loss: 0.0762 - main_accuracy: 0.5125 - aux1_accuracy: 0.5125 - aux2_accuracy: 0.5125 - ident_accuracy: 0.1518 - val_loss: 0.8711 - val_main_loss: 0.3350 - val_aux1_loss: 0.2183 - val_aux2_loss: 0.2368 - val_ident_loss: 0.0810 - val_main_accuracy: 0.4900 - val_aux1_accuracy: 0.4900 - val_aux2_accuracy: 0.4900 - val_ident_accuracy: 0.0045\n",
            "Epoch 34/35\n",
            "100/100 [==============================] - 16s 158ms/step - loss: 0.1848 - main_loss: 0.0366 - aux1_loss: 0.0390 - aux2_loss: 0.0330 - ident_loss: 0.0762 - main_accuracy: 0.5125 - aux1_accuracy: 0.5125 - aux2_accuracy: 0.5125 - ident_accuracy: 0.3875 - val_loss: 0.9004 - val_main_loss: 0.2341 - val_aux1_loss: 0.3293 - val_aux2_loss: 0.2560 - val_ident_loss: 0.0810 - val_main_accuracy: 0.4900 - val_aux1_accuracy: 0.4900 - val_aux2_accuracy: 0.4900 - val_ident_accuracy: 0.0045\n",
            "Epoch 35/35\n",
            "100/100 [==============================] - 16s 158ms/step - loss: 0.2339 - main_loss: 0.0615 - aux1_loss: 0.0501 - aux2_loss: 0.0461 - ident_loss: 0.0762 - main_accuracy: 0.5125 - aux1_accuracy: 0.5125 - aux2_accuracy: 0.5125 - ident_accuracy: 0.2402 - val_loss: 0.6152 - val_main_loss: 0.1948 - val_aux1_loss: 0.1739 - val_aux2_loss: 0.1655 - val_ident_loss: 0.0810 - val_main_accuracy: 0.4900 - val_aux1_accuracy: 0.4900 - val_aux2_accuracy: 0.4900 - val_ident_accuracy: 0.0045\n"
          ]
        }
      ]
    },
    {
      "cell_type": "code",
      "source": [
        "eval_images=total_images[2500:]\n",
        "eval_labels=total_labels[2500:]\n",
        "eval_class_label=class_labels[2500:]"
      ],
      "metadata": {
        "id": "w5VrdLZplpQ7"
      },
      "execution_count": 27,
      "outputs": []
    },
    {
      "cell_type": "code",
      "source": [
        "from keras.models import load_model\n",
        "from PIL import Image\n",
        "#images = np.load('test-blurry-images.npy')\n",
        "images = eval_images\n",
        "model = load_model(\"googleNet_model.h5\")\n",
        "predictions=[]\n",
        "for i in range(images.shape[0]):\n",
        "  img = images[i]\n",
        "  img = img.astype(np.float32)/ 255.0\n",
        "  img = np.expand_dims(img, -1)\n",
        "  img = np.expand_dims(img, 0)\n",
        "  pred = model.predict(img)\n",
        "  predictions.append(pred)"
      ],
      "metadata": {
        "id": "UUo_9Hf6lv84"
      },
      "execution_count": 28,
      "outputs": []
    },
    {
      "cell_type": "code",
      "source": [
        "predictions[71]"
      ],
      "metadata": {
        "colab": {
          "base_uri": "https://localhost:8080/"
        },
        "id": "UZjWVX8XrJ1s",
        "outputId": "3e13a993-5808-4e1f-e6e3-11db56ff9b9e"
      },
      "execution_count": 31,
      "outputs": [
        {
          "output_type": "execute_result",
          "data": {
            "text/plain": [
              "[array([[1.]], dtype=float32),\n",
              " array([[1.]], dtype=float32),\n",
              " array([[1.]], dtype=float32),\n",
              " array([[[[0.18336588, 0.23410691, 0.17932445],\n",
              "          [0.11488547, 0.13084283, 0.12751329],\n",
              "          [0.11488547, 0.13084283, 0.12751329],\n",
              "          ...,\n",
              "          [0.11488547, 0.13084283, 0.12751329],\n",
              "          [0.11488547, 0.13084283, 0.12751329],\n",
              "          [0.1640288 , 0.17688073, 0.14530444]],\n",
              " \n",
              "         [[0.16150714, 0.18104926, 0.152295  ],\n",
              "          [0.08324694, 0.08294944, 0.08348081],\n",
              "          [0.08324694, 0.08294944, 0.08348081],\n",
              "          ...,\n",
              "          [0.08324694, 0.08294944, 0.08348083],\n",
              "          [0.08324694, 0.08294944, 0.08348083],\n",
              "          [0.13090654, 0.11943522, 0.09458407]],\n",
              " \n",
              "         [[0.16150714, 0.18104929, 0.15229501],\n",
              "          [0.08324694, 0.08294944, 0.08348083],\n",
              "          [0.08324694, 0.08294944, 0.08348083],\n",
              "          ...,\n",
              "          [0.08324694, 0.08294944, 0.08348083],\n",
              "          [0.08324694, 0.08294944, 0.08348083],\n",
              "          [0.13090654, 0.11943522, 0.09458409]],\n",
              " \n",
              "         ...,\n",
              " \n",
              "         [[0.16150714, 0.18104926, 0.152295  ],\n",
              "          [0.08324694, 0.08294944, 0.08348083],\n",
              "          [0.08324694, 0.08294944, 0.08348083],\n",
              "          ...,\n",
              "          [0.08324694, 0.08294944, 0.08348083],\n",
              "          [0.08339086, 0.08381183, 0.08412709],\n",
              "          [0.13020325, 0.11966822, 0.09553572]],\n",
              " \n",
              "         [[0.16150714, 0.18104926, 0.152295  ],\n",
              "          [0.08324694, 0.08294944, 0.08348083],\n",
              "          [0.08324694, 0.08294944, 0.08348083],\n",
              "          ...,\n",
              "          [0.08324694, 0.08294944, 0.08348081],\n",
              "          [0.08317085, 0.08334706, 0.08394601],\n",
              "          [0.13125697, 0.11807039, 0.09450053]],\n",
              " \n",
              "         [[0.243273  , 0.24901387, 0.23088449],\n",
              "          [0.14502905, 0.15394002, 0.1582136 ],\n",
              "          [0.14502905, 0.15394002, 0.1582136 ],\n",
              "          ...,\n",
              "          [0.14502905, 0.15394002, 0.1582136 ],\n",
              "          [0.14551568, 0.15362248, 0.15710884],\n",
              "          [0.24053651, 0.17974323, 0.15959154]]]], dtype=float32)]"
            ]
          },
          "metadata": {},
          "execution_count": 31
        }
      ]
    },
    {
      "cell_type": "code",
      "source": [
        "y_pred_class=[]\n",
        "for i in range(len(predictions)):\n",
        "  predicted_class=(((predictions[i])[0])[0])[0]\n",
        "  if (predicted_class>0.5):\n",
        "    predicted_class=1.0\n",
        "  else:\n",
        "    predicted_class=0.0\n",
        "  y_pred_class.append(predicted_class)\n",
        "y_pred_class=np.array(y_pred_class)"
      ],
      "metadata": {
        "id": "waatgGS-l26-"
      },
      "execution_count": null,
      "outputs": []
    },
    {
      "cell_type": "code",
      "source": [
        "#y_pred_class"
      ],
      "metadata": {
        "id": "3Nim2lC1v7ZE"
      },
      "execution_count": null,
      "outputs": []
    },
    {
      "cell_type": "code",
      "source": [
        "#eval_class_label"
      ],
      "metadata": {
        "id": "M4plj9wDwA2O"
      },
      "execution_count": null,
      "outputs": []
    },
    {
      "cell_type": "markdown",
      "source": [
        "Confusion Matrix"
      ],
      "metadata": {
        "id": "pGcKRCC5l7ZV"
      }
    },
    {
      "cell_type": "code",
      "source": [
        "from sklearn.metrics import classification_report, confusion_matrix\n",
        "conf_m = confusion_matrix(eval_class_label, y_pred_class)\n",
        "conf_m"
      ],
      "metadata": {
        "colab": {
          "base_uri": "https://localhost:8080/"
        },
        "id": "801b9oCVl6iq",
        "outputId": "9064bf9b-812c-49e4-d9cd-a427e6053e46"
      },
      "execution_count": null,
      "outputs": [
        {
          "output_type": "execute_result",
          "data": {
            "text/plain": [
              "array([[ 0, 52],\n",
              "       [ 0, 48]])"
            ]
          },
          "metadata": {},
          "execution_count": 40
        }
      ]
    },
    {
      "cell_type": "code",
      "source": [
        "report = classification_report(eval_class_label, y_pred_class)\n",
        "print(report)"
      ],
      "metadata": {
        "colab": {
          "base_uri": "https://localhost:8080/"
        },
        "id": "sKmzQ4swl_1j",
        "outputId": "ec2e6290-b732-4fd7-8a52-a5aa8594e26d"
      },
      "execution_count": null,
      "outputs": [
        {
          "output_type": "stream",
          "name": "stdout",
          "text": [
            "              precision    recall  f1-score   support\n",
            "\n",
            "         0.0       0.00      0.00      0.00        52\n",
            "         1.0       0.48      1.00      0.65        48\n",
            "\n",
            "    accuracy                           0.48       100\n",
            "   macro avg       0.24      0.50      0.32       100\n",
            "weighted avg       0.23      0.48      0.31       100\n",
            "\n"
          ]
        },
        {
          "output_type": "stream",
          "name": "stderr",
          "text": [
            "/usr/local/lib/python3.7/dist-packages/sklearn/metrics/_classification.py:1318: UndefinedMetricWarning: Precision and F-score are ill-defined and being set to 0.0 in labels with no predicted samples. Use `zero_division` parameter to control this behavior.\n",
            "  _warn_prf(average, modifier, msg_start, len(result))\n",
            "/usr/local/lib/python3.7/dist-packages/sklearn/metrics/_classification.py:1318: UndefinedMetricWarning: Precision and F-score are ill-defined and being set to 0.0 in labels with no predicted samples. Use `zero_division` parameter to control this behavior.\n",
            "  _warn_prf(average, modifier, msg_start, len(result))\n",
            "/usr/local/lib/python3.7/dist-packages/sklearn/metrics/_classification.py:1318: UndefinedMetricWarning: Precision and F-score are ill-defined and being set to 0.0 in labels with no predicted samples. Use `zero_division` parameter to control this behavior.\n",
            "  _warn_prf(average, modifier, msg_start, len(result))\n"
          ]
        }
      ]
    },
    {
      "cell_type": "markdown",
      "source": [
        "Intersection over Union"
      ],
      "metadata": {
        "id": "s5ehrBlEmIty"
      }
    },
    {
      "cell_type": "code",
      "source": [
        "def get_iou_score(predictions,eval_labels):\n",
        "  iou_scores=[]\n",
        "  for i in range(len(predictions)):\n",
        "    true_label = eval_labels[i]/255.0\n",
        "    y_pred_label = np.where((((predictions[i])[1])[0])>0.5,1.0,0.0)\n",
        "    m = tf.keras.metrics.MeanIoU(num_classes=2)\n",
        "    m.update_state(true_label, y_pred_label)\n",
        "    iou_scores.append(m.result().numpy())\n",
        "  return mean(iou_scores)"
      ],
      "metadata": {
        "id": "sigLnUNsmC0w"
      },
      "execution_count": null,
      "outputs": []
    },
    {
      "cell_type": "code",
      "source": [
        "iou_score = get_iou_score(predictions,eval_labels)\n",
        "print('Average Intersection over Union IoU for Blur Detection: ',iou_score )"
      ],
      "metadata": {
        "colab": {
          "base_uri": "https://localhost:8080/"
        },
        "id": "CisVDIo5mQjh",
        "outputId": "877d87be-4dd5-4be4-f570-e593208b1fc7"
      },
      "execution_count": null,
      "outputs": [
        {
          "output_type": "stream",
          "name": "stdout",
          "text": [
            "Average Intersection over Union IoU for Blur Detection:  0.69963527\n"
          ]
        }
      ]
    }
  ]
}