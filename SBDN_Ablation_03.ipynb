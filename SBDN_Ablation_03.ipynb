{
  "nbformat": 4,
  "nbformat_minor": 0,
  "metadata": {
    "colab": {
      "provenance": [],
      "machine_shape": "hm",
      "authorship_tag": "ABX9TyOwf1SeWpeKbCLPpEQ4LjuT",
      "include_colab_link": true
    },
    "kernelspec": {
      "name": "python3",
      "display_name": "Python 3"
    },
    "language_info": {
      "name": "python"
    },
    "accelerator": "GPU",
    "gpuClass": "standard"
  },
  "cells": [
    {
      "cell_type": "markdown",
      "metadata": {
        "id": "view-in-github",
        "colab_type": "text"
      },
      "source": [
        "<a href=\"https://colab.research.google.com/github/MasoudMoeini/Google-Street-View-Images-Blur-Detection/blob/main/SBDN_Ablation_03.ipynb\" target=\"_parent\"><img src=\"https://colab.research.google.com/assets/colab-badge.svg\" alt=\"Open In Colab\"/></a>"
      ]
    },
    {
      "cell_type": "code",
      "execution_count": null,
      "metadata": {
        "id": "FwIyBoJJGU-7"
      },
      "outputs": [],
      "source": [
        "import cv2\n",
        "import numpy as np\n",
        "import os\n",
        "import glob\n",
        "import matplotlib.pyplot as plt\n",
        "from PIL import Image\n",
        "import tensorflow as tf\n",
        "from tensorflow import keras\n",
        "from keras import layers\n",
        "from keras.models import Sequential, Model,load_model\n",
        "from keras.optimizers import gradient_descent_v2 \n",
        "from google.colab.patches import cv2_imshow\n",
        "from keras.layers import Input, Add, Dense, Activation, ZeroPadding2D, BatchNormalization, Flatten, Conv2D, AveragePooling2D, MaxPooling2D, GlobalMaxPooling2D,MaxPool2D\n",
        "from keras.preprocessing import image\n",
        "from keras.initializers import glorot_uniform\n",
        "from keras import regularizers"
      ]
    },
    {
      "cell_type": "code",
      "source": [
        "!unzip -qq shi800train.zip"
      ],
      "metadata": {
        "id": "UN-3Xh7eJ0mc"
      },
      "execution_count": null,
      "outputs": []
    },
    {
      "cell_type": "code",
      "source": [
        "!unzip -qq shi800train-gt.zip"
      ],
      "metadata": {
        "id": "oayF0RXzFWz5"
      },
      "execution_count": null,
      "outputs": []
    },
    {
      "cell_type": "code",
      "source": [
        "from numpy import *\n",
        "images_folder= \"shi800train/*\"\n",
        "labels_folder = \"shi800train-gt/\"\n",
        "def data_preprocessing(images_folder,labels_folder):\n",
        "  total_img = []\n",
        "  label = []\n",
        "  files = glob.glob (images_folder)\n",
        "  for myFile in files:\n",
        "      image_name=os.path.split(myFile)[1]\n",
        "      # image resize\n",
        "      image = Image.open(myFile)\n",
        "      image = image.resize((224, 224))\n",
        "      image = np.asarray(image)\n",
        "      total_img.append(image)\n",
        "      #Gt\n",
        "      image_name=image_name[:-3]\n",
        "      image_name=image_name+'png'\n",
        "      label_image = Image.open(labels_folder+image_name)\n",
        "      label_image = label_image.resize((224, 224))\n",
        "      label_image = np.asarray(label_image)\n",
        "      if (label_image.shape!=(224,224)):\n",
        "        label_image=label_image[:,:,0]\n",
        "      label.append (label_image)\n",
        "  total_img = np.array(total_img)\n",
        "  label = np.array(label)\n",
        "  label= np.reshape(label,[label.shape[0],label.shape[1],label.shape[2]])\n",
        "  total_img= np.reshape(total_img,[total_img.shape[0],total_img.shape[1],total_img.shape[2],total_img.shape[3]]) \n",
        "  return label,total_img"
      ],
      "metadata": {
        "id": "ld7MfddsKv8q"
      },
      "execution_count": null,
      "outputs": []
    },
    {
      "cell_type": "code",
      "source": [
        "CHUK_labels,CHUK_images=data_preprocessing(images_folder,labels_folder)"
      ],
      "metadata": {
        "id": "xilvlhatK3mJ"
      },
      "execution_count": null,
      "outputs": []
    },
    {
      "cell_type": "code",
      "source": [
        "CHUK_images.shape"
      ],
      "metadata": {
        "colab": {
          "base_uri": "https://localhost:8080/"
        },
        "id": "QVg004lMK8Zn",
        "outputId": "18bda73a-4638-46cb-cf61-6264dc1b8cc2"
      },
      "execution_count": null,
      "outputs": [
        {
          "output_type": "execute_result",
          "data": {
            "text/plain": [
              "(800, 224, 224, 3)"
            ]
          },
          "metadata": {},
          "execution_count": 19
        }
      ]
    },
    {
      "cell_type": "code",
      "source": [
        "CHUK_labels.shape"
      ],
      "metadata": {
        "colab": {
          "base_uri": "https://localhost:8080/"
        },
        "id": "Kr5n3dVtGNEU",
        "outputId": "54b32a61-9d88-429e-c70c-772d486ddf9e"
      },
      "execution_count": null,
      "outputs": [
        {
          "output_type": "execute_result",
          "data": {
            "text/plain": [
              "(800, 224, 224)"
            ]
          },
          "metadata": {},
          "execution_count": 20
        }
      ]
    },
    {
      "cell_type": "code",
      "source": [
        "def identity_block(X, f, filters, stage, block):\n",
        "   \n",
        "    conv_name_base = 'res' + str(stage) + block + '_branch'\n",
        "    bn_name_base = 'bn' + str(stage) + block + '_branch'\n",
        "    F1, F2, F3 = filters\n",
        "\n",
        "    X_shortcut = X\n",
        "   \n",
        "    X = Conv2D(filters=F1, kernel_size=(1, 1), strides=(1, 1), padding='valid', name=conv_name_base + '2a', kernel_initializer=glorot_uniform(seed=0))(X)\n",
        "    X = BatchNormalization(axis=3, name=bn_name_base + '2a')(X)\n",
        "    X = Activation('relu')(X)\n",
        "\n",
        "    X = Conv2D(filters=F2, kernel_size=(f, f), strides=(1, 1), padding='same', name=conv_name_base + '2b', kernel_initializer=glorot_uniform(seed=0))(X)\n",
        "    X = BatchNormalization(axis=3, name=bn_name_base + '2b')(X)\n",
        "    X = Activation('relu')(X)\n",
        "\n",
        "    X = Conv2D(filters=F3, kernel_size=(1, 1), strides=(1, 1), padding='valid', name=conv_name_base + '2c', kernel_initializer=glorot_uniform(seed=0))(X)\n",
        "    X = BatchNormalization(axis=3, name=bn_name_base + '2c')(X)\n",
        "\n",
        "    X = Add()([X, X_shortcut])# SKIP Connection\n",
        "    X = Activation('relu')(X)\n",
        "\n",
        "    return X"
      ],
      "metadata": {
        "id": "SBJB2EglLB-H"
      },
      "execution_count": null,
      "outputs": []
    },
    {
      "cell_type": "code",
      "source": [
        "def convolutional_block(X, f, filters, stage, block, s=2):\n",
        "   \n",
        "    conv_name_base = 'res' + str(stage) + block + '_branch'\n",
        "    bn_name_base = 'bn' + str(stage) + block + '_branch'\n",
        "\n",
        "    F1, F2, F3 = filters\n",
        "\n",
        "    X_shortcut = X\n",
        "\n",
        "    X = Conv2D(filters=F1, kernel_size=(1, 1), strides=(s, s), padding='valid', name=conv_name_base + '2a', kernel_initializer=glorot_uniform(seed=0))(X)\n",
        "    X = BatchNormalization(axis=3, name=bn_name_base + '2a')(X)\n",
        "    X = Activation('relu')(X)\n",
        "\n",
        "    X = Conv2D(filters=F2, kernel_size=(f, f), strides=(1, 1), padding='same', name=conv_name_base + '2b', kernel_initializer=glorot_uniform(seed=0))(X)\n",
        "    X = BatchNormalization(axis=3, name=bn_name_base + '2b')(X)\n",
        "    X = Activation('relu')(X)\n",
        "\n",
        "    X = Conv2D(filters=F3, kernel_size=(1, 1), strides=(1, 1), padding='valid', name=conv_name_base + '2c', kernel_initializer=glorot_uniform(seed=0))(X)\n",
        "    X = BatchNormalization(axis=3, name=bn_name_base + '2c')(X)\n",
        "\n",
        "    X_shortcut = Conv2D(filters=F3, kernel_size=(1, 1), strides=(s, s), padding='valid', name=conv_name_base + '1', kernel_initializer=glorot_uniform(seed=0))(X_shortcut)\n",
        "    X_shortcut = BatchNormalization(axis=3, name=bn_name_base + '1')(X_shortcut)\n",
        "\n",
        "    X = Add()([X, X_shortcut])\n",
        "    X = Activation('relu')(X)\n",
        "\n",
        "    return X"
      ],
      "metadata": {
        "id": "S-1piaKJLGuQ"
      },
      "execution_count": null,
      "outputs": []
    },
    {
      "cell_type": "code",
      "source": [
        "def decoder_network(HLSF):\n",
        "  # 7*7*2048 is input tensor \n",
        "  #decoder \n",
        "  dec2 = layers.Conv2DTranspose(2048, (3, 3), strides=2, activation=\"relu\", padding=\"same\")(HLSF) #14*14*2048\n",
        "  dec3 = layers.Conv2DTranspose(512, (3, 3), strides=2, activation=\"relu\", padding=\"same\")(dec2)#28*28*512\n",
        "  dec4 = layers.Conv2DTranspose(128, (3, 3), strides=2, activation=\"relu\", padding=\"same\")(dec3)#56*56*128\n",
        "  dec5 = layers.Conv2DTranspose(32, (3, 3), strides=2, activation=\"relu\", padding=\"same\")(dec4)#112*112*32\n",
        "  dec6 = layers.Conv2DTranspose(3, (3, 3), strides=2, activation=\"relu\", padding=\"same\")(dec5)#224*224*3\n",
        "  dec7 = layers.Conv2DTranspose(3, (3, 3), strides=1, activation=\"relu\",padding=\"same\")(dec6)#224*224*1\n",
        "  dec8 = layers.Conv2DTranspose(1, (3, 3), strides=1, activation=\"relu\",padding=\"same\",kernel_regularizer=regularizers.L2(l2=0.005),\n",
        "      bias_regularizer=regularizers.L2(l2=0.0005),name='DecBM')(dec7)#224*224*1\n",
        "  #FusionNetwork1\n",
        "  Upsam_Deep1 = layers.Conv2DTranspose(128, (3, 3), strides=32, activation=\"relu\", padding=\"same\")(HLSF)\n",
        "  Upsam_Deep2 = layers.Conv2DTranspose(128, (3, 3), strides=16, activation=\"relu\", padding=\"same\")(dec2)\n",
        "  Upsam_Deep3 = layers.Conv2DTranspose(128, (3, 3), strides=8, activation=\"relu\", padding=\"same\")(dec3)\n",
        "  concatted_deep = tf.keras.layers.Concatenate(axis=3)([Upsam_Deep1,Upsam_Deep2,Upsam_Deep3])\n",
        "  result_concatted_deep= layers.Conv2D(1, (1, 1), strides=1, activation=\"relu\", padding=\"same\",name='HLBM')(concatted_deep) #224*224*1\n",
        "  #FusionNetwork2\n",
        "  #Upsam_Shallow1=layers.Conv2DTranspose(16, (3, 3), strides=4, activation=\"relu\", padding=\"same\")(dec4)\n",
        "  #Upsam_Shallow2=layers.Conv2DTranspose(16, (3, 3), strides=2, activation=\"relu\", padding=\"same\")(dec5)\n",
        "  #concatted_Shallow = tf.keras.layers.Concatenate()([Upsam_Shallow1,Upsam_Shallow2,dec6])\n",
        "  #result_concatted_Shallow= layers.Conv2D(1, (1, 1), strides=1, activation=\"relu\", padding=\"same\",name='LLBM')(concatted_Shallow) #224*224*1\n",
        "  #Concatenate all results\n",
        "  concatted_all = tf.keras.layers.Concatenate()([dec7,result_concatted_deep])\n",
        "  final_output= layers.Conv2D(1, (1, 1), strides=1, activation=\"sigmoid\", padding=\"same\",kernel_regularizer=regularizers.L2(l2=0.005),\n",
        "      bias_regularizer=regularizers.L2(l2=0.0005),name='FBME')(concatted_all) #224*224*1\n",
        "  return final_output"
      ],
      "metadata": {
        "id": "kqgADHTkLIC_"
      },
      "execution_count": 78,
      "outputs": []
    },
    {
      "cell_type": "code",
      "source": [
        "data_augmentation = keras.Sequential(\n",
        "    [\n",
        "        layers.RandomFlip(\"horizontal\"),\n",
        "        layers.RandomRotation(0.1),\n",
        "    ]\n",
        ")"
      ],
      "metadata": {
        "id": "BHwKu1lsLqKd"
      },
      "execution_count": 79,
      "outputs": []
    },
    {
      "cell_type": "code",
      "source": [
        "def ResNet50():\n",
        "    X_input = layers.Input(shape=(224, 224, 3))\n",
        "    X = data_augmentation(X_input)\n",
        "    X = layers.Rescaling(1./255)(X)\n",
        "    X = ZeroPadding2D((3, 3))(X_input)\n",
        "    X = Conv2D(64, (7, 7), strides=(2, 2), name='conv1', kernel_initializer=glorot_uniform(seed=0))(X)\n",
        "    X = BatchNormalization(axis=3, name='bn_conv1')(X)\n",
        "    X = Activation('relu')(X)\n",
        "    X = MaxPooling2D((3, 3), strides=(2, 2))(X)\n",
        "\n",
        "    X = convolutional_block(X, f=3, filters=[64, 64, 256], stage=2, block='a', s=1)\n",
        "    X = identity_block(X, 3, [64, 64, 256], stage=2, block='b')\n",
        "    X = identity_block(X, 3, [64, 64, 256], stage=2, block='c')\n",
        "\n",
        "\n",
        "    X = convolutional_block(X, f=3, filters=[128, 128, 512], stage=3, block='a', s=2)\n",
        "    X = identity_block(X, 3, [128, 128, 512], stage=3, block='b')\n",
        "    X = identity_block(X, 3, [128, 128, 512], stage=3, block='c')\n",
        "    X = identity_block(X, 3, [128, 128, 512], stage=3, block='d')\n",
        "\n",
        "    X = convolutional_block(X, f=3, filters=[256, 256, 1024], stage=4, block='a', s=2)\n",
        "    X = identity_block(X, 3, [256, 256, 1024], stage=4, block='b')\n",
        "    X = identity_block(X, 3, [256, 256, 1024], stage=4, block='c')\n",
        "    X = identity_block(X, 3, [256, 256, 1024], stage=4, block='d')\n",
        "    X = identity_block(X, 3, [256, 256, 1024], stage=4, block='e')\n",
        "    X = identity_block(X, 3, [256, 256, 1024], stage=4, block='f')\n",
        "    X = X = convolutional_block(X, f=3, filters=[512, 512, 2048], stage=5, block='a', s=2)\n",
        "    X = identity_block(X, 3, [512, 512, 2048], stage=5, block='b')\n",
        "    X = identity_block(X, 3, [512, 512, 2048], stage=5, block='c')\n",
        "    #7*7*2048\n",
        "    output1=decoder_network(X)\n",
        "    #X = AveragePooling2D(pool_size=(2, 2), padding='same')(X)\n",
        "    #X = Flatten()(X)\n",
        "    #X = Dense(256, activation='relu', name='fc1',kernel_initializer=glorot_uniform(seed=0))(X)\n",
        "    #X = Dense(128, activation='relu', name='fc2',kernel_initializer=glorot_uniform(seed=0))(X)\n",
        "    #main = Dense( 1,activation='sigmoid', name='main',kernel_initializer=glorot_uniform(seed=0))(X)\n",
        "    model = Model(inputs=X_input, outputs=output1, name='ResNet50')\n",
        "    return model"
      ],
      "metadata": {
        "id": "Ms3LyVLlLNcg"
      },
      "execution_count": 80,
      "outputs": []
    },
    {
      "cell_type": "code",
      "source": [
        "model= ResNet50()\n",
        "model.summary()"
      ],
      "metadata": {
        "id": "N8S-12BaLyrd",
        "colab": {
          "base_uri": "https://localhost:8080/"
        },
        "outputId": "1c4ce4ea-2955-4325-e311-a5e2a5989fb5"
      },
      "execution_count": 81,
      "outputs": [
        {
          "output_type": "stream",
          "name": "stdout",
          "text": [
            "Model: \"ResNet50\"\n",
            "__________________________________________________________________________________________________\n",
            " Layer (type)                   Output Shape         Param #     Connected to                     \n",
            "==================================================================================================\n",
            " input_3 (InputLayer)           [(None, 224, 224, 3  0           []                               \n",
            "                                )]                                                                \n",
            "                                                                                                  \n",
            " zero_padding2d_2 (ZeroPadding2  (None, 230, 230, 3)  0          ['input_3[0][0]']                \n",
            " D)                                                                                               \n",
            "                                                                                                  \n",
            " conv1 (Conv2D)                 (None, 112, 112, 64  9472        ['zero_padding2d_2[0][0]']       \n",
            "                                )                                                                 \n",
            "                                                                                                  \n",
            " bn_conv1 (BatchNormalization)  (None, 112, 112, 64  256         ['conv1[0][0]']                  \n",
            "                                )                                                                 \n",
            "                                                                                                  \n",
            " activation_98 (Activation)     (None, 112, 112, 64  0           ['bn_conv1[0][0]']               \n",
            "                                )                                                                 \n",
            "                                                                                                  \n",
            " max_pooling2d_2 (MaxPooling2D)  (None, 55, 55, 64)  0           ['activation_98[0][0]']          \n",
            "                                                                                                  \n",
            " res2a_branch2a (Conv2D)        (None, 55, 55, 64)   4160        ['max_pooling2d_2[0][0]']        \n",
            "                                                                                                  \n",
            " bn2a_branch2a (BatchNormalizat  (None, 55, 55, 64)  256         ['res2a_branch2a[0][0]']         \n",
            " ion)                                                                                             \n",
            "                                                                                                  \n",
            " activation_99 (Activation)     (None, 55, 55, 64)   0           ['bn2a_branch2a[0][0]']          \n",
            "                                                                                                  \n",
            " res2a_branch2b (Conv2D)        (None, 55, 55, 64)   36928       ['activation_99[0][0]']          \n",
            "                                                                                                  \n",
            " bn2a_branch2b (BatchNormalizat  (None, 55, 55, 64)  256         ['res2a_branch2b[0][0]']         \n",
            " ion)                                                                                             \n",
            "                                                                                                  \n",
            " activation_100 (Activation)    (None, 55, 55, 64)   0           ['bn2a_branch2b[0][0]']          \n",
            "                                                                                                  \n",
            " res2a_branch2c (Conv2D)        (None, 55, 55, 256)  16640       ['activation_100[0][0]']         \n",
            "                                                                                                  \n",
            " res2a_branch1 (Conv2D)         (None, 55, 55, 256)  16640       ['max_pooling2d_2[0][0]']        \n",
            "                                                                                                  \n",
            " bn2a_branch2c (BatchNormalizat  (None, 55, 55, 256)  1024       ['res2a_branch2c[0][0]']         \n",
            " ion)                                                                                             \n",
            "                                                                                                  \n",
            " bn2a_branch1 (BatchNormalizati  (None, 55, 55, 256)  1024       ['res2a_branch1[0][0]']          \n",
            " on)                                                                                              \n",
            "                                                                                                  \n",
            " add_32 (Add)                   (None, 55, 55, 256)  0           ['bn2a_branch2c[0][0]',          \n",
            "                                                                  'bn2a_branch1[0][0]']           \n",
            "                                                                                                  \n",
            " activation_101 (Activation)    (None, 55, 55, 256)  0           ['add_32[0][0]']                 \n",
            "                                                                                                  \n",
            " res2b_branch2a (Conv2D)        (None, 55, 55, 64)   16448       ['activation_101[0][0]']         \n",
            "                                                                                                  \n",
            " bn2b_branch2a (BatchNormalizat  (None, 55, 55, 64)  256         ['res2b_branch2a[0][0]']         \n",
            " ion)                                                                                             \n",
            "                                                                                                  \n",
            " activation_102 (Activation)    (None, 55, 55, 64)   0           ['bn2b_branch2a[0][0]']          \n",
            "                                                                                                  \n",
            " res2b_branch2b (Conv2D)        (None, 55, 55, 64)   36928       ['activation_102[0][0]']         \n",
            "                                                                                                  \n",
            " bn2b_branch2b (BatchNormalizat  (None, 55, 55, 64)  256         ['res2b_branch2b[0][0]']         \n",
            " ion)                                                                                             \n",
            "                                                                                                  \n",
            " activation_103 (Activation)    (None, 55, 55, 64)   0           ['bn2b_branch2b[0][0]']          \n",
            "                                                                                                  \n",
            " res2b_branch2c (Conv2D)        (None, 55, 55, 256)  16640       ['activation_103[0][0]']         \n",
            "                                                                                                  \n",
            " bn2b_branch2c (BatchNormalizat  (None, 55, 55, 256)  1024       ['res2b_branch2c[0][0]']         \n",
            " ion)                                                                                             \n",
            "                                                                                                  \n",
            " add_33 (Add)                   (None, 55, 55, 256)  0           ['bn2b_branch2c[0][0]',          \n",
            "                                                                  'activation_101[0][0]']         \n",
            "                                                                                                  \n",
            " activation_104 (Activation)    (None, 55, 55, 256)  0           ['add_33[0][0]']                 \n",
            "                                                                                                  \n",
            " res2c_branch2a (Conv2D)        (None, 55, 55, 64)   16448       ['activation_104[0][0]']         \n",
            "                                                                                                  \n",
            " bn2c_branch2a (BatchNormalizat  (None, 55, 55, 64)  256         ['res2c_branch2a[0][0]']         \n",
            " ion)                                                                                             \n",
            "                                                                                                  \n",
            " activation_105 (Activation)    (None, 55, 55, 64)   0           ['bn2c_branch2a[0][0]']          \n",
            "                                                                                                  \n",
            " res2c_branch2b (Conv2D)        (None, 55, 55, 64)   36928       ['activation_105[0][0]']         \n",
            "                                                                                                  \n",
            " bn2c_branch2b (BatchNormalizat  (None, 55, 55, 64)  256         ['res2c_branch2b[0][0]']         \n",
            " ion)                                                                                             \n",
            "                                                                                                  \n",
            " activation_106 (Activation)    (None, 55, 55, 64)   0           ['bn2c_branch2b[0][0]']          \n",
            "                                                                                                  \n",
            " res2c_branch2c (Conv2D)        (None, 55, 55, 256)  16640       ['activation_106[0][0]']         \n",
            "                                                                                                  \n",
            " bn2c_branch2c (BatchNormalizat  (None, 55, 55, 256)  1024       ['res2c_branch2c[0][0]']         \n",
            " ion)                                                                                             \n",
            "                                                                                                  \n",
            " add_34 (Add)                   (None, 55, 55, 256)  0           ['bn2c_branch2c[0][0]',          \n",
            "                                                                  'activation_104[0][0]']         \n",
            "                                                                                                  \n",
            " activation_107 (Activation)    (None, 55, 55, 256)  0           ['add_34[0][0]']                 \n",
            "                                                                                                  \n",
            " res3a_branch2a (Conv2D)        (None, 28, 28, 128)  32896       ['activation_107[0][0]']         \n",
            "                                                                                                  \n",
            " bn3a_branch2a (BatchNormalizat  (None, 28, 28, 128)  512        ['res3a_branch2a[0][0]']         \n",
            " ion)                                                                                             \n",
            "                                                                                                  \n",
            " activation_108 (Activation)    (None, 28, 28, 128)  0           ['bn3a_branch2a[0][0]']          \n",
            "                                                                                                  \n",
            " res3a_branch2b (Conv2D)        (None, 28, 28, 128)  147584      ['activation_108[0][0]']         \n",
            "                                                                                                  \n",
            " bn3a_branch2b (BatchNormalizat  (None, 28, 28, 128)  512        ['res3a_branch2b[0][0]']         \n",
            " ion)                                                                                             \n",
            "                                                                                                  \n",
            " activation_109 (Activation)    (None, 28, 28, 128)  0           ['bn3a_branch2b[0][0]']          \n",
            "                                                                                                  \n",
            " res3a_branch2c (Conv2D)        (None, 28, 28, 512)  66048       ['activation_109[0][0]']         \n",
            "                                                                                                  \n",
            " res3a_branch1 (Conv2D)         (None, 28, 28, 512)  131584      ['activation_107[0][0]']         \n",
            "                                                                                                  \n",
            " bn3a_branch2c (BatchNormalizat  (None, 28, 28, 512)  2048       ['res3a_branch2c[0][0]']         \n",
            " ion)                                                                                             \n",
            "                                                                                                  \n",
            " bn3a_branch1 (BatchNormalizati  (None, 28, 28, 512)  2048       ['res3a_branch1[0][0]']          \n",
            " on)                                                                                              \n",
            "                                                                                                  \n",
            " add_35 (Add)                   (None, 28, 28, 512)  0           ['bn3a_branch2c[0][0]',          \n",
            "                                                                  'bn3a_branch1[0][0]']           \n",
            "                                                                                                  \n",
            " activation_110 (Activation)    (None, 28, 28, 512)  0           ['add_35[0][0]']                 \n",
            "                                                                                                  \n",
            " res3b_branch2a (Conv2D)        (None, 28, 28, 128)  65664       ['activation_110[0][0]']         \n",
            "                                                                                                  \n",
            " bn3b_branch2a (BatchNormalizat  (None, 28, 28, 128)  512        ['res3b_branch2a[0][0]']         \n",
            " ion)                                                                                             \n",
            "                                                                                                  \n",
            " activation_111 (Activation)    (None, 28, 28, 128)  0           ['bn3b_branch2a[0][0]']          \n",
            "                                                                                                  \n",
            " res3b_branch2b (Conv2D)        (None, 28, 28, 128)  147584      ['activation_111[0][0]']         \n",
            "                                                                                                  \n",
            " bn3b_branch2b (BatchNormalizat  (None, 28, 28, 128)  512        ['res3b_branch2b[0][0]']         \n",
            " ion)                                                                                             \n",
            "                                                                                                  \n",
            " activation_112 (Activation)    (None, 28, 28, 128)  0           ['bn3b_branch2b[0][0]']          \n",
            "                                                                                                  \n",
            " res3b_branch2c (Conv2D)        (None, 28, 28, 512)  66048       ['activation_112[0][0]']         \n",
            "                                                                                                  \n",
            " bn3b_branch2c (BatchNormalizat  (None, 28, 28, 512)  2048       ['res3b_branch2c[0][0]']         \n",
            " ion)                                                                                             \n",
            "                                                                                                  \n",
            " add_36 (Add)                   (None, 28, 28, 512)  0           ['bn3b_branch2c[0][0]',          \n",
            "                                                                  'activation_110[0][0]']         \n",
            "                                                                                                  \n",
            " activation_113 (Activation)    (None, 28, 28, 512)  0           ['add_36[0][0]']                 \n",
            "                                                                                                  \n",
            " res3c_branch2a (Conv2D)        (None, 28, 28, 128)  65664       ['activation_113[0][0]']         \n",
            "                                                                                                  \n",
            " bn3c_branch2a (BatchNormalizat  (None, 28, 28, 128)  512        ['res3c_branch2a[0][0]']         \n",
            " ion)                                                                                             \n",
            "                                                                                                  \n",
            " activation_114 (Activation)    (None, 28, 28, 128)  0           ['bn3c_branch2a[0][0]']          \n",
            "                                                                                                  \n",
            " res3c_branch2b (Conv2D)        (None, 28, 28, 128)  147584      ['activation_114[0][0]']         \n",
            "                                                                                                  \n",
            " bn3c_branch2b (BatchNormalizat  (None, 28, 28, 128)  512        ['res3c_branch2b[0][0]']         \n",
            " ion)                                                                                             \n",
            "                                                                                                  \n",
            " activation_115 (Activation)    (None, 28, 28, 128)  0           ['bn3c_branch2b[0][0]']          \n",
            "                                                                                                  \n",
            " res3c_branch2c (Conv2D)        (None, 28, 28, 512)  66048       ['activation_115[0][0]']         \n",
            "                                                                                                  \n",
            " bn3c_branch2c (BatchNormalizat  (None, 28, 28, 512)  2048       ['res3c_branch2c[0][0]']         \n",
            " ion)                                                                                             \n",
            "                                                                                                  \n",
            " add_37 (Add)                   (None, 28, 28, 512)  0           ['bn3c_branch2c[0][0]',          \n",
            "                                                                  'activation_113[0][0]']         \n",
            "                                                                                                  \n",
            " activation_116 (Activation)    (None, 28, 28, 512)  0           ['add_37[0][0]']                 \n",
            "                                                                                                  \n",
            " res3d_branch2a (Conv2D)        (None, 28, 28, 128)  65664       ['activation_116[0][0]']         \n",
            "                                                                                                  \n",
            " bn3d_branch2a (BatchNormalizat  (None, 28, 28, 128)  512        ['res3d_branch2a[0][0]']         \n",
            " ion)                                                                                             \n",
            "                                                                                                  \n",
            " activation_117 (Activation)    (None, 28, 28, 128)  0           ['bn3d_branch2a[0][0]']          \n",
            "                                                                                                  \n",
            " res3d_branch2b (Conv2D)        (None, 28, 28, 128)  147584      ['activation_117[0][0]']         \n",
            "                                                                                                  \n",
            " bn3d_branch2b (BatchNormalizat  (None, 28, 28, 128)  512        ['res3d_branch2b[0][0]']         \n",
            " ion)                                                                                             \n",
            "                                                                                                  \n",
            " activation_118 (Activation)    (None, 28, 28, 128)  0           ['bn3d_branch2b[0][0]']          \n",
            "                                                                                                  \n",
            " res3d_branch2c (Conv2D)        (None, 28, 28, 512)  66048       ['activation_118[0][0]']         \n",
            "                                                                                                  \n",
            " bn3d_branch2c (BatchNormalizat  (None, 28, 28, 512)  2048       ['res3d_branch2c[0][0]']         \n",
            " ion)                                                                                             \n",
            "                                                                                                  \n",
            " add_38 (Add)                   (None, 28, 28, 512)  0           ['bn3d_branch2c[0][0]',          \n",
            "                                                                  'activation_116[0][0]']         \n",
            "                                                                                                  \n",
            " activation_119 (Activation)    (None, 28, 28, 512)  0           ['add_38[0][0]']                 \n",
            "                                                                                                  \n",
            " res4a_branch2a (Conv2D)        (None, 14, 14, 256)  131328      ['activation_119[0][0]']         \n",
            "                                                                                                  \n",
            " bn4a_branch2a (BatchNormalizat  (None, 14, 14, 256)  1024       ['res4a_branch2a[0][0]']         \n",
            " ion)                                                                                             \n",
            "                                                                                                  \n",
            " activation_120 (Activation)    (None, 14, 14, 256)  0           ['bn4a_branch2a[0][0]']          \n",
            "                                                                                                  \n",
            " res4a_branch2b (Conv2D)        (None, 14, 14, 256)  590080      ['activation_120[0][0]']         \n",
            "                                                                                                  \n",
            " bn4a_branch2b (BatchNormalizat  (None, 14, 14, 256)  1024       ['res4a_branch2b[0][0]']         \n",
            " ion)                                                                                             \n",
            "                                                                                                  \n",
            " activation_121 (Activation)    (None, 14, 14, 256)  0           ['bn4a_branch2b[0][0]']          \n",
            "                                                                                                  \n",
            " res4a_branch2c (Conv2D)        (None, 14, 14, 1024  263168      ['activation_121[0][0]']         \n",
            "                                )                                                                 \n",
            "                                                                                                  \n",
            " res4a_branch1 (Conv2D)         (None, 14, 14, 1024  525312      ['activation_119[0][0]']         \n",
            "                                )                                                                 \n",
            "                                                                                                  \n",
            " bn4a_branch2c (BatchNormalizat  (None, 14, 14, 1024  4096       ['res4a_branch2c[0][0]']         \n",
            " ion)                           )                                                                 \n",
            "                                                                                                  \n",
            " bn4a_branch1 (BatchNormalizati  (None, 14, 14, 1024  4096       ['res4a_branch1[0][0]']          \n",
            " on)                            )                                                                 \n",
            "                                                                                                  \n",
            " add_39 (Add)                   (None, 14, 14, 1024  0           ['bn4a_branch2c[0][0]',          \n",
            "                                )                                 'bn4a_branch1[0][0]']           \n",
            "                                                                                                  \n",
            " activation_122 (Activation)    (None, 14, 14, 1024  0           ['add_39[0][0]']                 \n",
            "                                )                                                                 \n",
            "                                                                                                  \n",
            " res4b_branch2a (Conv2D)        (None, 14, 14, 256)  262400      ['activation_122[0][0]']         \n",
            "                                                                                                  \n",
            " bn4b_branch2a (BatchNormalizat  (None, 14, 14, 256)  1024       ['res4b_branch2a[0][0]']         \n",
            " ion)                                                                                             \n",
            "                                                                                                  \n",
            " activation_123 (Activation)    (None, 14, 14, 256)  0           ['bn4b_branch2a[0][0]']          \n",
            "                                                                                                  \n",
            " res4b_branch2b (Conv2D)        (None, 14, 14, 256)  590080      ['activation_123[0][0]']         \n",
            "                                                                                                  \n",
            " bn4b_branch2b (BatchNormalizat  (None, 14, 14, 256)  1024       ['res4b_branch2b[0][0]']         \n",
            " ion)                                                                                             \n",
            "                                                                                                  \n",
            " activation_124 (Activation)    (None, 14, 14, 256)  0           ['bn4b_branch2b[0][0]']          \n",
            "                                                                                                  \n",
            " res4b_branch2c (Conv2D)        (None, 14, 14, 1024  263168      ['activation_124[0][0]']         \n",
            "                                )                                                                 \n",
            "                                                                                                  \n",
            " bn4b_branch2c (BatchNormalizat  (None, 14, 14, 1024  4096       ['res4b_branch2c[0][0]']         \n",
            " ion)                           )                                                                 \n",
            "                                                                                                  \n",
            " add_40 (Add)                   (None, 14, 14, 1024  0           ['bn4b_branch2c[0][0]',          \n",
            "                                )                                 'activation_122[0][0]']         \n",
            "                                                                                                  \n",
            " activation_125 (Activation)    (None, 14, 14, 1024  0           ['add_40[0][0]']                 \n",
            "                                )                                                                 \n",
            "                                                                                                  \n",
            " res4c_branch2a (Conv2D)        (None, 14, 14, 256)  262400      ['activation_125[0][0]']         \n",
            "                                                                                                  \n",
            " bn4c_branch2a (BatchNormalizat  (None, 14, 14, 256)  1024       ['res4c_branch2a[0][0]']         \n",
            " ion)                                                                                             \n",
            "                                                                                                  \n",
            " activation_126 (Activation)    (None, 14, 14, 256)  0           ['bn4c_branch2a[0][0]']          \n",
            "                                                                                                  \n",
            " res4c_branch2b (Conv2D)        (None, 14, 14, 256)  590080      ['activation_126[0][0]']         \n",
            "                                                                                                  \n",
            " bn4c_branch2b (BatchNormalizat  (None, 14, 14, 256)  1024       ['res4c_branch2b[0][0]']         \n",
            " ion)                                                                                             \n",
            "                                                                                                  \n",
            " activation_127 (Activation)    (None, 14, 14, 256)  0           ['bn4c_branch2b[0][0]']          \n",
            "                                                                                                  \n",
            " res4c_branch2c (Conv2D)        (None, 14, 14, 1024  263168      ['activation_127[0][0]']         \n",
            "                                )                                                                 \n",
            "                                                                                                  \n",
            " bn4c_branch2c (BatchNormalizat  (None, 14, 14, 1024  4096       ['res4c_branch2c[0][0]']         \n",
            " ion)                           )                                                                 \n",
            "                                                                                                  \n",
            " add_41 (Add)                   (None, 14, 14, 1024  0           ['bn4c_branch2c[0][0]',          \n",
            "                                )                                 'activation_125[0][0]']         \n",
            "                                                                                                  \n",
            " activation_128 (Activation)    (None, 14, 14, 1024  0           ['add_41[0][0]']                 \n",
            "                                )                                                                 \n",
            "                                                                                                  \n",
            " res4d_branch2a (Conv2D)        (None, 14, 14, 256)  262400      ['activation_128[0][0]']         \n",
            "                                                                                                  \n",
            " bn4d_branch2a (BatchNormalizat  (None, 14, 14, 256)  1024       ['res4d_branch2a[0][0]']         \n",
            " ion)                                                                                             \n",
            "                                                                                                  \n",
            " activation_129 (Activation)    (None, 14, 14, 256)  0           ['bn4d_branch2a[0][0]']          \n",
            "                                                                                                  \n",
            " res4d_branch2b (Conv2D)        (None, 14, 14, 256)  590080      ['activation_129[0][0]']         \n",
            "                                                                                                  \n",
            " bn4d_branch2b (BatchNormalizat  (None, 14, 14, 256)  1024       ['res4d_branch2b[0][0]']         \n",
            " ion)                                                                                             \n",
            "                                                                                                  \n",
            " activation_130 (Activation)    (None, 14, 14, 256)  0           ['bn4d_branch2b[0][0]']          \n",
            "                                                                                                  \n",
            " res4d_branch2c (Conv2D)        (None, 14, 14, 1024  263168      ['activation_130[0][0]']         \n",
            "                                )                                                                 \n",
            "                                                                                                  \n",
            " bn4d_branch2c (BatchNormalizat  (None, 14, 14, 1024  4096       ['res4d_branch2c[0][0]']         \n",
            " ion)                           )                                                                 \n",
            "                                                                                                  \n",
            " add_42 (Add)                   (None, 14, 14, 1024  0           ['bn4d_branch2c[0][0]',          \n",
            "                                )                                 'activation_128[0][0]']         \n",
            "                                                                                                  \n",
            " activation_131 (Activation)    (None, 14, 14, 1024  0           ['add_42[0][0]']                 \n",
            "                                )                                                                 \n",
            "                                                                                                  \n",
            " res4e_branch2a (Conv2D)        (None, 14, 14, 256)  262400      ['activation_131[0][0]']         \n",
            "                                                                                                  \n",
            " bn4e_branch2a (BatchNormalizat  (None, 14, 14, 256)  1024       ['res4e_branch2a[0][0]']         \n",
            " ion)                                                                                             \n",
            "                                                                                                  \n",
            " activation_132 (Activation)    (None, 14, 14, 256)  0           ['bn4e_branch2a[0][0]']          \n",
            "                                                                                                  \n",
            " res4e_branch2b (Conv2D)        (None, 14, 14, 256)  590080      ['activation_132[0][0]']         \n",
            "                                                                                                  \n",
            " bn4e_branch2b (BatchNormalizat  (None, 14, 14, 256)  1024       ['res4e_branch2b[0][0]']         \n",
            " ion)                                                                                             \n",
            "                                                                                                  \n",
            " activation_133 (Activation)    (None, 14, 14, 256)  0           ['bn4e_branch2b[0][0]']          \n",
            "                                                                                                  \n",
            " res4e_branch2c (Conv2D)        (None, 14, 14, 1024  263168      ['activation_133[0][0]']         \n",
            "                                )                                                                 \n",
            "                                                                                                  \n",
            " bn4e_branch2c (BatchNormalizat  (None, 14, 14, 1024  4096       ['res4e_branch2c[0][0]']         \n",
            " ion)                           )                                                                 \n",
            "                                                                                                  \n",
            " add_43 (Add)                   (None, 14, 14, 1024  0           ['bn4e_branch2c[0][0]',          \n",
            "                                )                                 'activation_131[0][0]']         \n",
            "                                                                                                  \n",
            " activation_134 (Activation)    (None, 14, 14, 1024  0           ['add_43[0][0]']                 \n",
            "                                )                                                                 \n",
            "                                                                                                  \n",
            " res4f_branch2a (Conv2D)        (None, 14, 14, 256)  262400      ['activation_134[0][0]']         \n",
            "                                                                                                  \n",
            " bn4f_branch2a (BatchNormalizat  (None, 14, 14, 256)  1024       ['res4f_branch2a[0][0]']         \n",
            " ion)                                                                                             \n",
            "                                                                                                  \n",
            " activation_135 (Activation)    (None, 14, 14, 256)  0           ['bn4f_branch2a[0][0]']          \n",
            "                                                                                                  \n",
            " res4f_branch2b (Conv2D)        (None, 14, 14, 256)  590080      ['activation_135[0][0]']         \n",
            "                                                                                                  \n",
            " bn4f_branch2b (BatchNormalizat  (None, 14, 14, 256)  1024       ['res4f_branch2b[0][0]']         \n",
            " ion)                                                                                             \n",
            "                                                                                                  \n",
            " activation_136 (Activation)    (None, 14, 14, 256)  0           ['bn4f_branch2b[0][0]']          \n",
            "                                                                                                  \n",
            " res4f_branch2c (Conv2D)        (None, 14, 14, 1024  263168      ['activation_136[0][0]']         \n",
            "                                )                                                                 \n",
            "                                                                                                  \n",
            " bn4f_branch2c (BatchNormalizat  (None, 14, 14, 1024  4096       ['res4f_branch2c[0][0]']         \n",
            " ion)                           )                                                                 \n",
            "                                                                                                  \n",
            " add_44 (Add)                   (None, 14, 14, 1024  0           ['bn4f_branch2c[0][0]',          \n",
            "                                )                                 'activation_134[0][0]']         \n",
            "                                                                                                  \n",
            " activation_137 (Activation)    (None, 14, 14, 1024  0           ['add_44[0][0]']                 \n",
            "                                )                                                                 \n",
            "                                                                                                  \n",
            " res5a_branch2a (Conv2D)        (None, 7, 7, 512)    524800      ['activation_137[0][0]']         \n",
            "                                                                                                  \n",
            " bn5a_branch2a (BatchNormalizat  (None, 7, 7, 512)   2048        ['res5a_branch2a[0][0]']         \n",
            " ion)                                                                                             \n",
            "                                                                                                  \n",
            " activation_138 (Activation)    (None, 7, 7, 512)    0           ['bn5a_branch2a[0][0]']          \n",
            "                                                                                                  \n",
            " res5a_branch2b (Conv2D)        (None, 7, 7, 512)    2359808     ['activation_138[0][0]']         \n",
            "                                                                                                  \n",
            " bn5a_branch2b (BatchNormalizat  (None, 7, 7, 512)   2048        ['res5a_branch2b[0][0]']         \n",
            " ion)                                                                                             \n",
            "                                                                                                  \n",
            " activation_139 (Activation)    (None, 7, 7, 512)    0           ['bn5a_branch2b[0][0]']          \n",
            "                                                                                                  \n",
            " res5a_branch2c (Conv2D)        (None, 7, 7, 2048)   1050624     ['activation_139[0][0]']         \n",
            "                                                                                                  \n",
            " res5a_branch1 (Conv2D)         (None, 7, 7, 2048)   2099200     ['activation_137[0][0]']         \n",
            "                                                                                                  \n",
            " bn5a_branch2c (BatchNormalizat  (None, 7, 7, 2048)  8192        ['res5a_branch2c[0][0]']         \n",
            " ion)                                                                                             \n",
            "                                                                                                  \n",
            " bn5a_branch1 (BatchNormalizati  (None, 7, 7, 2048)  8192        ['res5a_branch1[0][0]']          \n",
            " on)                                                                                              \n",
            "                                                                                                  \n",
            " add_45 (Add)                   (None, 7, 7, 2048)   0           ['bn5a_branch2c[0][0]',          \n",
            "                                                                  'bn5a_branch1[0][0]']           \n",
            "                                                                                                  \n",
            " activation_140 (Activation)    (None, 7, 7, 2048)   0           ['add_45[0][0]']                 \n",
            "                                                                                                  \n",
            " res5b_branch2a (Conv2D)        (None, 7, 7, 512)    1049088     ['activation_140[0][0]']         \n",
            "                                                                                                  \n",
            " bn5b_branch2a (BatchNormalizat  (None, 7, 7, 512)   2048        ['res5b_branch2a[0][0]']         \n",
            " ion)                                                                                             \n",
            "                                                                                                  \n",
            " activation_141 (Activation)    (None, 7, 7, 512)    0           ['bn5b_branch2a[0][0]']          \n",
            "                                                                                                  \n",
            " res5b_branch2b (Conv2D)        (None, 7, 7, 512)    2359808     ['activation_141[0][0]']         \n",
            "                                                                                                  \n",
            " bn5b_branch2b (BatchNormalizat  (None, 7, 7, 512)   2048        ['res5b_branch2b[0][0]']         \n",
            " ion)                                                                                             \n",
            "                                                                                                  \n",
            " activation_142 (Activation)    (None, 7, 7, 512)    0           ['bn5b_branch2b[0][0]']          \n",
            "                                                                                                  \n",
            " res5b_branch2c (Conv2D)        (None, 7, 7, 2048)   1050624     ['activation_142[0][0]']         \n",
            "                                                                                                  \n",
            " bn5b_branch2c (BatchNormalizat  (None, 7, 7, 2048)  8192        ['res5b_branch2c[0][0]']         \n",
            " ion)                                                                                             \n",
            "                                                                                                  \n",
            " add_46 (Add)                   (None, 7, 7, 2048)   0           ['bn5b_branch2c[0][0]',          \n",
            "                                                                  'activation_140[0][0]']         \n",
            "                                                                                                  \n",
            " activation_143 (Activation)    (None, 7, 7, 2048)   0           ['add_46[0][0]']                 \n",
            "                                                                                                  \n",
            " res5c_branch2a (Conv2D)        (None, 7, 7, 512)    1049088     ['activation_143[0][0]']         \n",
            "                                                                                                  \n",
            " bn5c_branch2a (BatchNormalizat  (None, 7, 7, 512)   2048        ['res5c_branch2a[0][0]']         \n",
            " ion)                                                                                             \n",
            "                                                                                                  \n",
            " activation_144 (Activation)    (None, 7, 7, 512)    0           ['bn5c_branch2a[0][0]']          \n",
            "                                                                                                  \n",
            " res5c_branch2b (Conv2D)        (None, 7, 7, 512)    2359808     ['activation_144[0][0]']         \n",
            "                                                                                                  \n",
            " bn5c_branch2b (BatchNormalizat  (None, 7, 7, 512)   2048        ['res5c_branch2b[0][0]']         \n",
            " ion)                                                                                             \n",
            "                                                                                                  \n",
            " activation_145 (Activation)    (None, 7, 7, 512)    0           ['bn5c_branch2b[0][0]']          \n",
            "                                                                                                  \n",
            " res5c_branch2c (Conv2D)        (None, 7, 7, 2048)   1050624     ['activation_145[0][0]']         \n",
            "                                                                                                  \n",
            " bn5c_branch2c (BatchNormalizat  (None, 7, 7, 2048)  8192        ['res5c_branch2c[0][0]']         \n",
            " ion)                                                                                             \n",
            "                                                                                                  \n",
            " add_47 (Add)                   (None, 7, 7, 2048)   0           ['bn5c_branch2c[0][0]',          \n",
            "                                                                  'activation_143[0][0]']         \n",
            "                                                                                                  \n",
            " activation_146 (Activation)    (None, 7, 7, 2048)   0           ['add_47[0][0]']                 \n",
            "                                                                                                  \n",
            " conv2d_transpose_15 (Conv2DTra  (None, 14, 14, 2048  37750784   ['activation_146[0][0]']         \n",
            " nspose)                        )                                                                 \n",
            "                                                                                                  \n",
            " conv2d_transpose_16 (Conv2DTra  (None, 28, 28, 512)  9437696    ['conv2d_transpose_15[0][0]']    \n",
            " nspose)                                                                                          \n",
            "                                                                                                  \n",
            " conv2d_transpose_17 (Conv2DTra  (None, 56, 56, 128)  589952     ['conv2d_transpose_16[0][0]']    \n",
            " nspose)                                                                                          \n",
            "                                                                                                  \n",
            " conv2d_transpose_18 (Conv2DTra  (None, 112, 112, 32  36896      ['conv2d_transpose_17[0][0]']    \n",
            " nspose)                        )                                                                 \n",
            "                                                                                                  \n",
            " conv2d_transpose_21 (Conv2DTra  (None, 224, 224, 12  2359424    ['activation_146[0][0]']         \n",
            " nspose)                        8)                                                                \n",
            "                                                                                                  \n",
            " conv2d_transpose_22 (Conv2DTra  (None, 224, 224, 12  2359424    ['conv2d_transpose_15[0][0]']    \n",
            " nspose)                        8)                                                                \n",
            "                                                                                                  \n",
            " conv2d_transpose_23 (Conv2DTra  (None, 224, 224, 12  589952     ['conv2d_transpose_16[0][0]']    \n",
            " nspose)                        8)                                                                \n",
            "                                                                                                  \n",
            " conv2d_transpose_19 (Conv2DTra  (None, 224, 224, 3)  867        ['conv2d_transpose_18[0][0]']    \n",
            " nspose)                                                                                          \n",
            "                                                                                                  \n",
            " concatenate_2 (Concatenate)    (None, 224, 224, 38  0           ['conv2d_transpose_21[0][0]',    \n",
            "                                4)                                'conv2d_transpose_22[0][0]',    \n",
            "                                                                  'conv2d_transpose_23[0][0]']    \n",
            "                                                                                                  \n",
            " conv2d_transpose_20 (Conv2DTra  (None, 224, 224, 3)  84         ['conv2d_transpose_19[0][0]']    \n",
            " nspose)                                                                                          \n",
            "                                                                                                  \n",
            " HLBM (Conv2D)                  (None, 224, 224, 1)  385         ['concatenate_2[0][0]']          \n",
            "                                                                                                  \n",
            " concatenate_3 (Concatenate)    (None, 224, 224, 4)  0           ['conv2d_transpose_20[0][0]',    \n",
            "                                                                  'HLBM[0][0]']                   \n",
            "                                                                                                  \n",
            " FBME (Conv2D)                  (None, 224, 224, 1)  5           ['concatenate_3[0][0]']          \n",
            "                                                                                                  \n",
            "==================================================================================================\n",
            "Total params: 76,713,181\n",
            "Trainable params: 76,660,061\n",
            "Non-trainable params: 53,120\n",
            "__________________________________________________________________________________________________\n"
          ]
        }
      ]
    },
    {
      "cell_type": "code",
      "source": [
        "class StopOnPoint(tf.keras.callbacks.Callback):\n",
        "    def __init__(self, point):\n",
        "        super(StopOnPoint, self).__init__()\n",
        "        self.point = point\n",
        "    def on_epoch_end(self, epoch, logs=None): \n",
        "        accuracy = logs[\"accuracy\"]\n",
        "        if accuracy >= self.point:\n",
        "            self.model.stop_training = True\n",
        "callbacks = [StopOnPoint(0.995)]"
      ],
      "metadata": {
        "id": "D0lfiNDOL3Ab"
      },
      "execution_count": 82,
      "outputs": []
    },
    {
      "cell_type": "code",
      "source": [
        "loss1=tf.keras.losses.MeanSquaredError()\n",
        "model.compile(keras.optimizers.Adam(learning_rate=1e-3),loss = [loss1],metrics=[\"accuracy\"])"
      ],
      "metadata": {
        "id": "uiVla0XVL7Og"
      },
      "execution_count": 83,
      "outputs": []
    },
    {
      "cell_type": "code",
      "source": [
        "x_train = CHUK_images.astype(np.float32)/ 255.0\n",
        "y_train=CHUK_labels.astype(np.float32)/ 255.0\n",
        "y_train=np.where(y_train>0.5,1.0,0.0)\n",
        "y_train=(y_train)"
      ],
      "metadata": {
        "id": "PJsG9rdkMDtx"
      },
      "execution_count": 84,
      "outputs": []
    },
    {
      "cell_type": "code",
      "source": [
        "history = model.fit(x_train,y_train, epochs=120,batch_size=25, validation_split=0.0,shuffle=True,callbacks=[callbacks])\n",
        "model.save('sbdn-ablation-03-deep-model.h5')"
      ],
      "metadata": {
        "colab": {
          "base_uri": "https://localhost:8080/"
        },
        "id": "-KwsCmIUMD2n",
        "outputId": "8643b01a-d7ca-40a3-b2d6-0413e05032e9"
      },
      "execution_count": 85,
      "outputs": [
        {
          "output_type": "stream",
          "name": "stdout",
          "text": [
            "Epoch 1/120\n",
            "32/32 [==============================] - 34s 835ms/step - loss: 0.2296 - accuracy: 0.6002\n",
            "Epoch 2/120\n",
            "32/32 [==============================] - 27s 849ms/step - loss: 0.2030 - accuracy: 0.6239\n",
            "Epoch 3/120\n",
            "32/32 [==============================] - 27s 852ms/step - loss: 0.1974 - accuracy: 0.6872\n",
            "Epoch 4/120\n",
            "32/32 [==============================] - 27s 839ms/step - loss: 0.1920 - accuracy: 0.7235\n",
            "Epoch 5/120\n",
            "32/32 [==============================] - 27s 845ms/step - loss: 0.1840 - accuracy: 0.7442\n",
            "Epoch 6/120\n",
            "32/32 [==============================] - 27s 843ms/step - loss: 0.1855 - accuracy: 0.7418\n",
            "Epoch 7/120\n",
            "32/32 [==============================] - 27s 842ms/step - loss: 0.1812 - accuracy: 0.7492\n",
            "Epoch 8/120\n",
            "32/32 [==============================] - 27s 843ms/step - loss: 0.1791 - accuracy: 0.7561\n",
            "Epoch 9/120\n",
            "32/32 [==============================] - 27s 843ms/step - loss: 0.1752 - accuracy: 0.7636\n",
            "Epoch 10/120\n",
            "32/32 [==============================] - 27s 842ms/step - loss: 0.1680 - accuracy: 0.7735\n",
            "Epoch 11/120\n",
            "32/32 [==============================] - 27s 842ms/step - loss: 0.1663 - accuracy: 0.7758\n",
            "Epoch 12/120\n",
            "32/32 [==============================] - 27s 844ms/step - loss: 0.1650 - accuracy: 0.7767\n",
            "Epoch 13/120\n",
            "32/32 [==============================] - 27s 843ms/step - loss: 0.1626 - accuracy: 0.7814\n",
            "Epoch 14/120\n",
            "32/32 [==============================] - 27s 842ms/step - loss: 0.1594 - accuracy: 0.7866\n",
            "Epoch 15/120\n",
            "32/32 [==============================] - 27s 842ms/step - loss: 0.1525 - accuracy: 0.8000\n",
            "Epoch 16/120\n",
            "32/32 [==============================] - 27s 842ms/step - loss: 0.1506 - accuracy: 0.8009\n",
            "Epoch 17/120\n",
            "32/32 [==============================] - 27s 842ms/step - loss: 0.1504 - accuracy: 0.8014\n",
            "Epoch 18/120\n",
            "32/32 [==============================] - 27s 842ms/step - loss: 0.1456 - accuracy: 0.8132\n",
            "Epoch 19/120\n",
            "32/32 [==============================] - 27s 843ms/step - loss: 0.1445 - accuracy: 0.8097\n",
            "Epoch 20/120\n",
            "32/32 [==============================] - 27s 843ms/step - loss: 0.1377 - accuracy: 0.8265\n",
            "Epoch 21/120\n",
            "32/32 [==============================] - 27s 844ms/step - loss: 0.1343 - accuracy: 0.8309\n",
            "Epoch 22/120\n",
            "32/32 [==============================] - 27s 843ms/step - loss: 0.1333 - accuracy: 0.8324\n",
            "Epoch 23/120\n",
            "32/32 [==============================] - 27s 843ms/step - loss: 0.1346 - accuracy: 0.8277\n",
            "Epoch 24/120\n",
            "32/32 [==============================] - 27s 843ms/step - loss: 0.1252 - accuracy: 0.8448\n",
            "Epoch 25/120\n",
            "32/32 [==============================] - 27s 843ms/step - loss: 0.1246 - accuracy: 0.8456\n",
            "Epoch 26/120\n",
            "32/32 [==============================] - 27s 844ms/step - loss: 0.1260 - accuracy: 0.8398\n",
            "Epoch 27/120\n",
            "32/32 [==============================] - 27s 843ms/step - loss: 0.1212 - accuracy: 0.8482\n",
            "Epoch 28/120\n",
            "32/32 [==============================] - 27s 842ms/step - loss: 0.1177 - accuracy: 0.8546\n",
            "Epoch 29/120\n",
            "32/32 [==============================] - 27s 842ms/step - loss: 0.1161 - accuracy: 0.8571\n",
            "Epoch 30/120\n",
            "32/32 [==============================] - 27s 843ms/step - loss: 0.1111 - accuracy: 0.8647\n",
            "Epoch 31/120\n",
            "32/32 [==============================] - 27s 842ms/step - loss: 0.1047 - accuracy: 0.8753\n",
            "Epoch 32/120\n",
            "32/32 [==============================] - 27s 842ms/step - loss: 0.1008 - accuracy: 0.8813\n",
            "Epoch 33/120\n",
            "32/32 [==============================] - 27s 843ms/step - loss: 0.0959 - accuracy: 0.8902\n",
            "Epoch 34/120\n",
            "32/32 [==============================] - 27s 843ms/step - loss: 0.0985 - accuracy: 0.8842\n",
            "Epoch 35/120\n",
            "32/32 [==============================] - 27s 844ms/step - loss: 0.0927 - accuracy: 0.8933\n",
            "Epoch 36/120\n",
            "32/32 [==============================] - 27s 843ms/step - loss: 0.0909 - accuracy: 0.8960\n",
            "Epoch 37/120\n",
            "32/32 [==============================] - 27s 842ms/step - loss: 0.0914 - accuracy: 0.8934\n",
            "Epoch 38/120\n",
            "32/32 [==============================] - 27s 842ms/step - loss: 0.0885 - accuracy: 0.8977\n",
            "Epoch 39/120\n",
            "32/32 [==============================] - 27s 842ms/step - loss: 0.0840 - accuracy: 0.9042\n",
            "Epoch 40/120\n",
            "32/32 [==============================] - 27s 843ms/step - loss: 0.0778 - accuracy: 0.9148\n",
            "Epoch 41/120\n",
            "32/32 [==============================] - 27s 844ms/step - loss: 0.0751 - accuracy: 0.9184\n",
            "Epoch 42/120\n",
            "32/32 [==============================] - 27s 844ms/step - loss: 0.0712 - accuracy: 0.9239\n",
            "Epoch 43/120\n",
            "32/32 [==============================] - 27s 844ms/step - loss: 0.0673 - accuracy: 0.9296\n",
            "Epoch 44/120\n",
            "32/32 [==============================] - 27s 843ms/step - loss: 0.0669 - accuracy: 0.9294\n",
            "Epoch 45/120\n",
            "32/32 [==============================] - 27s 842ms/step - loss: 0.0682 - accuracy: 0.9262\n",
            "Epoch 46/120\n",
            "32/32 [==============================] - 27s 843ms/step - loss: 0.0689 - accuracy: 0.9245\n",
            "Epoch 47/120\n",
            "32/32 [==============================] - 27s 842ms/step - loss: 0.0640 - accuracy: 0.9317\n",
            "Epoch 48/120\n",
            "32/32 [==============================] - 27s 843ms/step - loss: 0.0591 - accuracy: 0.9389\n",
            "Epoch 49/120\n",
            "32/32 [==============================] - 27s 844ms/step - loss: 0.0594 - accuracy: 0.9379\n",
            "Epoch 50/120\n",
            "32/32 [==============================] - 27s 844ms/step - loss: 0.0571 - accuracy: 0.9409\n",
            "Epoch 51/120\n",
            "32/32 [==============================] - 27s 844ms/step - loss: 0.0550 - accuracy: 0.9435\n",
            "Epoch 52/120\n",
            "32/32 [==============================] - 27s 843ms/step - loss: 0.0526 - accuracy: 0.9469\n",
            "Epoch 53/120\n",
            "32/32 [==============================] - 27s 844ms/step - loss: 0.0498 - accuracy: 0.9508\n",
            "Epoch 54/120\n",
            "32/32 [==============================] - 27s 844ms/step - loss: 0.0498 - accuracy: 0.9499\n",
            "Epoch 55/120\n",
            "32/32 [==============================] - 27s 843ms/step - loss: 0.0480 - accuracy: 0.9523\n",
            "Epoch 56/120\n",
            "32/32 [==============================] - 27s 843ms/step - loss: 0.0452 - accuracy: 0.9559\n",
            "Epoch 57/120\n",
            "32/32 [==============================] - 27s 843ms/step - loss: 0.0433 - accuracy: 0.9583\n",
            "Epoch 58/120\n",
            "32/32 [==============================] - 27s 843ms/step - loss: 0.0415 - accuracy: 0.9607\n",
            "Epoch 59/120\n",
            "32/32 [==============================] - 27s 843ms/step - loss: 0.0403 - accuracy: 0.9620\n",
            "Epoch 60/120\n",
            "32/32 [==============================] - 27s 843ms/step - loss: 0.0396 - accuracy: 0.9626\n",
            "Epoch 61/120\n",
            "32/32 [==============================] - 27s 844ms/step - loss: 0.0382 - accuracy: 0.9642\n",
            "Epoch 62/120\n",
            "32/32 [==============================] - 27s 845ms/step - loss: 0.0360 - accuracy: 0.9672\n",
            "Epoch 63/120\n",
            "32/32 [==============================] - 27s 844ms/step - loss: 0.0344 - accuracy: 0.9692\n",
            "Epoch 64/120\n",
            "32/32 [==============================] - 27s 844ms/step - loss: 0.0329 - accuracy: 0.9709\n",
            "Epoch 65/120\n",
            "32/32 [==============================] - 27s 844ms/step - loss: 0.0313 - accuracy: 0.9730\n",
            "Epoch 66/120\n",
            "32/32 [==============================] - 27s 843ms/step - loss: 0.0301 - accuracy: 0.9744\n",
            "Epoch 67/120\n",
            "32/32 [==============================] - 27s 843ms/step - loss: 0.0296 - accuracy: 0.9748\n",
            "Epoch 68/120\n",
            "32/32 [==============================] - 27s 843ms/step - loss: 0.0290 - accuracy: 0.9752\n",
            "Epoch 69/120\n",
            "32/32 [==============================] - 27s 845ms/step - loss: 0.0286 - accuracy: 0.9754\n",
            "Epoch 70/120\n",
            "32/32 [==============================] - 27s 844ms/step - loss: 0.0275 - accuracy: 0.9768\n",
            "Epoch 71/120\n",
            "32/32 [==============================] - 27s 842ms/step - loss: 0.0264 - accuracy: 0.9781\n",
            "Epoch 72/120\n",
            "32/32 [==============================] - 27s 844ms/step - loss: 0.0251 - accuracy: 0.9796\n",
            "Epoch 73/120\n",
            "32/32 [==============================] - 27s 844ms/step - loss: 0.0237 - accuracy: 0.9813\n",
            "Epoch 74/120\n",
            "32/32 [==============================] - 27s 844ms/step - loss: 0.0236 - accuracy: 0.9812\n",
            "Epoch 75/120\n",
            "32/32 [==============================] - 27s 844ms/step - loss: 0.0256 - accuracy: 0.9780\n",
            "Epoch 76/120\n",
            "32/32 [==============================] - 27s 844ms/step - loss: 0.0251 - accuracy: 0.9785\n",
            "Epoch 77/120\n",
            "32/32 [==============================] - 27s 844ms/step - loss: 0.0237 - accuracy: 0.9802\n",
            "Epoch 78/120\n",
            "32/32 [==============================] - 27s 843ms/step - loss: 0.0228 - accuracy: 0.9814\n",
            "Epoch 79/120\n",
            "32/32 [==============================] - 27s 843ms/step - loss: 0.0215 - accuracy: 0.9831\n",
            "Epoch 80/120\n",
            "32/32 [==============================] - 27s 843ms/step - loss: 0.0200 - accuracy: 0.9849\n",
            "Epoch 81/120\n",
            "32/32 [==============================] - 27s 843ms/step - loss: 0.0191 - accuracy: 0.9861\n",
            "Epoch 82/120\n",
            "32/32 [==============================] - 27s 844ms/step - loss: 0.0181 - accuracy: 0.9874\n",
            "Epoch 83/120\n",
            "32/32 [==============================] - 27s 844ms/step - loss: 0.0175 - accuracy: 0.9880\n",
            "Epoch 84/120\n",
            "32/32 [==============================] - 27s 844ms/step - loss: 0.0168 - accuracy: 0.9888\n",
            "Epoch 85/120\n",
            "32/32 [==============================] - 27s 843ms/step - loss: 0.0162 - accuracy: 0.9894\n",
            "Epoch 86/120\n",
            "32/32 [==============================] - 27s 843ms/step - loss: 0.0159 - accuracy: 0.9897\n",
            "Epoch 87/120\n",
            "32/32 [==============================] - 27s 842ms/step - loss: 0.0156 - accuracy: 0.9899\n",
            "Epoch 88/120\n",
            "32/32 [==============================] - 27s 843ms/step - loss: 0.0152 - accuracy: 0.9903\n",
            "Epoch 89/120\n",
            "32/32 [==============================] - 27s 843ms/step - loss: 0.0149 - accuracy: 0.9906\n",
            "Epoch 90/120\n",
            "32/32 [==============================] - 27s 843ms/step - loss: 0.0146 - accuracy: 0.9909\n",
            "Epoch 91/120\n",
            "32/32 [==============================] - 27s 843ms/step - loss: 0.0143 - accuracy: 0.9911\n",
            "Epoch 92/120\n",
            "32/32 [==============================] - 27s 843ms/step - loss: 0.0138 - accuracy: 0.9916\n",
            "Epoch 93/120\n",
            "32/32 [==============================] - 27s 843ms/step - loss: 0.0137 - accuracy: 0.9917\n",
            "Epoch 94/120\n",
            "32/32 [==============================] - 27s 844ms/step - loss: 0.0133 - accuracy: 0.9921\n",
            "Epoch 95/120\n",
            "32/32 [==============================] - 27s 844ms/step - loss: 0.0130 - accuracy: 0.9923\n",
            "Epoch 96/120\n",
            "32/32 [==============================] - 27s 843ms/step - loss: 0.0129 - accuracy: 0.9925\n",
            "Epoch 97/120\n",
            "32/32 [==============================] - 27s 843ms/step - loss: 0.0125 - accuracy: 0.9929\n",
            "Epoch 98/120\n",
            "32/32 [==============================] - 27s 844ms/step - loss: 0.0179 - accuracy: 0.9855\n",
            "Epoch 99/120\n",
            "32/32 [==============================] - 27s 845ms/step - loss: 0.0777 - accuracy: 0.9035\n",
            "Epoch 100/120\n",
            "32/32 [==============================] - 27s 844ms/step - loss: 0.1145 - accuracy: 0.8477\n",
            "Epoch 101/120\n",
            "32/32 [==============================] - 27s 843ms/step - loss: 0.0833 - accuracy: 0.8910\n",
            "Epoch 102/120\n",
            "32/32 [==============================] - 27s 843ms/step - loss: 0.0579 - accuracy: 0.9279\n",
            "Epoch 103/120\n",
            "32/32 [==============================] - 27s 843ms/step - loss: 0.0429 - accuracy: 0.9496\n",
            "Epoch 104/120\n",
            "32/32 [==============================] - 27s 843ms/step - loss: 0.0322 - accuracy: 0.9651\n",
            "Epoch 105/120\n",
            "32/32 [==============================] - 27s 845ms/step - loss: 0.0233 - accuracy: 0.9775\n",
            "Epoch 106/120\n",
            "32/32 [==============================] - 27s 845ms/step - loss: 0.0186 - accuracy: 0.9839\n",
            "Epoch 107/120\n",
            "32/32 [==============================] - 27s 844ms/step - loss: 0.0157 - accuracy: 0.9879\n",
            "Epoch 108/120\n",
            "32/32 [==============================] - 27s 846ms/step - loss: 0.0140 - accuracy: 0.9902\n",
            "Epoch 109/120\n",
            "32/32 [==============================] - 27s 844ms/step - loss: 0.0131 - accuracy: 0.9913\n",
            "Epoch 110/120\n",
            "32/32 [==============================] - 27s 844ms/step - loss: 0.0124 - accuracy: 0.9924\n",
            "Epoch 111/120\n",
            "32/32 [==============================] - 27s 843ms/step - loss: 0.0119 - accuracy: 0.9930\n",
            "Epoch 112/120\n",
            "32/32 [==============================] - 27s 843ms/step - loss: 0.0115 - accuracy: 0.9934\n",
            "Epoch 113/120\n",
            "32/32 [==============================] - 27s 843ms/step - loss: 0.0112 - accuracy: 0.9938\n",
            "Epoch 114/120\n",
            "32/32 [==============================] - 27s 842ms/step - loss: 0.0109 - accuracy: 0.9942\n",
            "Epoch 115/120\n",
            "32/32 [==============================] - 27s 844ms/step - loss: 0.0106 - accuracy: 0.9944\n",
            "Epoch 116/120\n",
            "32/32 [==============================] - 27s 842ms/step - loss: 0.0104 - accuracy: 0.9946\n",
            "Epoch 117/120\n",
            "32/32 [==============================] - 27s 843ms/step - loss: 0.0104 - accuracy: 0.9945\n",
            "Epoch 118/120\n",
            "32/32 [==============================] - 27s 843ms/step - loss: 0.0104 - accuracy: 0.9945\n",
            "Epoch 119/120\n",
            "32/32 [==============================] - 27s 843ms/step - loss: 0.0100 - accuracy: 0.9949\n",
            "Epoch 120/120\n",
            "32/32 [==============================] - 27s 843ms/step - loss: 0.0099 - accuracy: 0.9951\n"
          ]
        }
      ]
    },
    {
      "cell_type": "code",
      "source": [
        "history_dict = history.history\n",
        "print(history_dict.keys())"
      ],
      "metadata": {
        "colab": {
          "base_uri": "https://localhost:8080/"
        },
        "id": "AKC5KCCIQlnk",
        "outputId": "7d6561bd-2f4e-4c8c-ec55-6f1599638792"
      },
      "execution_count": 86,
      "outputs": [
        {
          "output_type": "stream",
          "name": "stdout",
          "text": [
            "dict_keys(['loss', 'accuracy'])\n"
          ]
        }
      ]
    },
    {
      "cell_type": "code",
      "source": [
        "model = load_model(\"sbdn-ablation-03-deep-model.h5\")"
      ],
      "metadata": {
        "id": "ER5iaMB6Q6Tp"
      },
      "execution_count": 87,
      "outputs": []
    },
    {
      "cell_type": "code",
      "source": [
        "import pandas as pd\n",
        "hist_df = pd.DataFrame(history.history)\n",
        "hist_csv_file = 'sbdn-shi-history.csv'\n",
        "with open(hist_csv_file, mode='w') as f:\n",
        "    hist_df.to_csv(f)"
      ],
      "metadata": {
        "id": "1XVFNd71QozD"
      },
      "execution_count": 88,
      "outputs": []
    },
    {
      "cell_type": "code",
      "source": [
        "import matplotlib.pyplot as plt\n",
        "plt.plot(history.history[\"accuracy\"])\n",
        "#plt.plot(history.history['val_accuracy'])\n",
        "plt.plot(history.history['loss'])\n",
        "#plt.plot(history.history['val_loss'])\n",
        "plt.title(\"model accuracy\")\n",
        "plt.ylabel(\"Accuracy\")\n",
        "plt.xlabel(\"Epoch\")\n",
        "plt.legend([\"Accuracy\",\"loss\"])\n",
        "plt.show()"
      ],
      "metadata": {
        "colab": {
          "base_uri": "https://localhost:8080/",
          "height": 295
        },
        "id": "lqVirRptQpnE",
        "outputId": "24f2c17b-8fc2-40c9-bcd0-59648d039808"
      },
      "execution_count": 89,
      "outputs": [
        {
          "output_type": "display_data",
          "data": {
            "text/plain": [
              "<Figure size 432x288 with 1 Axes>"
            ],
            "image/png": "[encoded data removed]"
          },
          "metadata": {
            "needs_background": "light"
          }
        }
      ]
    },
    {
      "cell_type": "code",
      "source": [
        "!unzip -qq shi200test.zip\n",
        "!unzip -qq shi200test-gt.zip"
      ],
      "metadata": {
        "id": "VHc-Gj6hLcN_"
      },
      "execution_count": null,
      "outputs": []
    },
    {
      "cell_type": "code",
      "source": [
        "images_folder= \"shi200test/*\"\n",
        "labels_folder = \"shi200test-gt/\"\n",
        "def data_preprocessing(images_folder,labels_folder):\n",
        "  total_img = []\n",
        "  label = []\n",
        "  labels_identities=[]\n",
        "  files = glob.glob (images_folder)\n",
        "  for myFile in files:\n",
        "      image_name=os.path.split(myFile)[1]\n",
        "      # image resize\n",
        "      image = Image.open(myFile)\n",
        "      image = image.resize((224, 224))\n",
        "      image = np.asarray(image)\n",
        "      total_img.append(image)\n",
        "      #Gt\n",
        "      image_name=image_name[:-3]\n",
        "      image_name=image_name+'png'\n",
        "      labels_identities.append(image_name)\n",
        "      label_image = Image.open(labels_folder+image_name)\n",
        "      label_image = label_image.resize((224, 224))\n",
        "      label_image = np.asarray(label_image)\n",
        "      if (label_image.shape!=(224,224)):\n",
        "        label_image=label_image[:,:,0]\n",
        "      label.append (label_image)\n",
        "  total_img = np.array(total_img)\n",
        "  label = np.array(label)\n",
        "  label= np.reshape(label,[label.shape[0],label.shape[1],label.shape[2]])\n",
        "  total_img= np.reshape(total_img,[total_img.shape[0],total_img.shape[1],total_img.shape[2],total_img.shape[3]]) \n",
        "  return label,total_img,labels_identities"
      ],
      "metadata": {
        "id": "2xG3PvuFLqV3"
      },
      "execution_count": 90,
      "outputs": []
    },
    {
      "cell_type": "code",
      "source": [
        "eval_labels,eval_images,labels_names=data_preprocessing(images_folder,labels_folder)"
      ],
      "metadata": {
        "id": "VEtgwMDrLu1X"
      },
      "execution_count": 91,
      "outputs": []
    },
    {
      "cell_type": "code",
      "source": [
        "eval_images.shape"
      ],
      "metadata": {
        "colab": {
          "base_uri": "https://localhost:8080/"
        },
        "id": "tr-F9ebGLwpb",
        "outputId": "59e9502a-2249-4a07-a0ee-56eb284ef4cb"
      },
      "execution_count": 92,
      "outputs": [
        {
          "output_type": "execute_result",
          "data": {
            "text/plain": [
              "(200, 224, 224, 3)"
            ]
          },
          "metadata": {},
          "execution_count": 92
        }
      ]
    },
    {
      "cell_type": "code",
      "source": [
        "eval_labels.shape"
      ],
      "metadata": {
        "colab": {
          "base_uri": "https://localhost:8080/"
        },
        "id": "RAmjGM5tL0rl",
        "outputId": "690aad95-e036-4ef1-8fd0-2b48fbb07e95"
      },
      "execution_count": 93,
      "outputs": [
        {
          "output_type": "execute_result",
          "data": {
            "text/plain": [
              "(200, 224, 224)"
            ]
          },
          "metadata": {},
          "execution_count": 93
        }
      ]
    },
    {
      "cell_type": "code",
      "source": [
        "\n",
        "from keras.models import load_model\n",
        "from PIL import Image\n",
        "images = eval_images\n",
        "predictions=[]\n",
        "for i in range(images.shape[0]):\n",
        "  img = images[i]\n",
        "  img = img.astype(np.float32)/ 255.0\n",
        "  img = np.expand_dims(img, -1)\n",
        "  img = np.expand_dims(img, 0)\n",
        "  pred = model.predict(img)\n",
        "  predictions.append(pred)"
      ],
      "metadata": {
        "id": "q48BJRIcL91z"
      },
      "execution_count": null,
      "outputs": []
    },
    {
      "cell_type": "code",
      "source": [
        "len(predictions)"
      ],
      "metadata": {
        "colab": {
          "base_uri": "https://localhost:8080/"
        },
        "id": "o_bBVM1JQ31n",
        "outputId": "934e4c7b-e729-41fb-9182-8bdfacb55ca8"
      },
      "execution_count": null,
      "outputs": [
        {
          "output_type": "execute_result",
          "data": {
            "text/plain": [
              "200"
            ]
          },
          "metadata": {},
          "execution_count": 36
        }
      ]
    },
    {
      "cell_type": "markdown",
      "source": [
        "## **Evaluation with Shi et al (Chuk) Dataset**"
      ],
      "metadata": {
        "id": "Z-7A18OFTQvq"
      }
    },
    {
      "cell_type": "markdown",
      "source": [
        "## Instantiate Optimal Threshould for Evaluation Ground Truths"
      ],
      "metadata": {
        "id": "SSvGXwoXROxm"
      }
    },
    {
      "cell_type": "code",
      "source": [
        "ground_truth_total=eval_labels/255.0\n",
        "ground_truth_total=np.where(ground_truth_total>0.5,1.0,0.0)"
      ],
      "metadata": {
        "id": "b7A9wPNgRRGo"
      },
      "execution_count": 95,
      "outputs": []
    },
    {
      "cell_type": "code",
      "source": [
        "pred_labels_total=[]\n",
        "for i in range(len(predictions)):\n",
        "  hh = (predictions[i])[0]\n",
        "  hh = hh[:,:,0]\n",
        "  pred_labels_total.append(hh)\n",
        "pred_labels_total=np.array(pred_labels_total)"
      ],
      "metadata": {
        "id": "7ufrTDIlMU-2"
      },
      "execution_count": 96,
      "outputs": []
    },
    {
      "cell_type": "markdown",
      "source": [
        "## Mean Absolute Error"
      ],
      "metadata": {
        "id": "UChJBbGeRWD4"
      }
    },
    {
      "cell_type": "code",
      "source": [
        "def get_mae(true_label, y_pred_label):\n",
        "  absolute_error=[]\n",
        "  for i in range(0,len(true_label)):\n",
        "    y_pred = np.where(y_pred_label[i]>0.5,1.0,0.0)\n",
        "    y_true=true_label[i]\n",
        "    mae = tf.keras.losses.MeanAbsoluteError()\n",
        "    m = mae(y_true, y_pred).numpy()\n",
        "    absolute_error.append(m)\n",
        "  return mean(absolute_error)\n",
        "mean_absolute_error= get_mae(ground_truth_total,pred_labels_total)\n",
        "print('Mean Absolute Error for Evaluation set: ',mean_absolute_error)"
      ],
      "metadata": {
        "colab": {
          "base_uri": "https://localhost:8080/"
        },
        "id": "kvINYOQWRaAO",
        "outputId": "84c34418-a6a3-4a58-a966-7efe42f18e48"
      },
      "execution_count": 97,
      "outputs": [
        {
          "output_type": "stream",
          "name": "stdout",
          "text": [
            "Mean Absolute Error for Evaluation set:  0.1865816326530612\n"
          ]
        }
      ]
    },
    {
      "cell_type": "markdown",
      "source": [
        "## Average Optimal Image Scale OIS-F score"
      ],
      "metadata": {
        "id": "WcD-6EhfSYn7"
      }
    },
    {
      "cell_type": "code",
      "source": [
        "from sklearn.metrics import precision_score,recall_score\n",
        "threshoulds=[0.3,0.4,0.5,0.6,0.7]\n",
        "beta2=0.2\n",
        "def recall_precison(y_true,y_pred):\n",
        "  OIS_F=[]\n",
        "  Fb=[]\n",
        "  for i in range(0,len(y_pred)):\n",
        "    OIS_F_thr=[]\n",
        "    fb_thr=[]\n",
        "    for thr in threshoulds:\n",
        "      pr=np.where(y_pred[i]>thr,1.0,0.0)\n",
        "      #pr=reshape(pr,[224,224])\n",
        "      pred_precision_score=precision_score(y_true[i],pr, average='weighted')\n",
        "      pred_recall_score=recall_score(y_true[i],pr, average='weighted')\n",
        "      OIS=2*pred_precision_score*pred_recall_score/(pred_precision_score+pred_recall_score)\n",
        "      fb=(1+beta2)*pred_precision_score*pred_recall_score/(beta2 * pred_precision_score+pred_recall_score)\n",
        "      fb_thr.append(fb)\n",
        "      OIS_F_thr.append(OIS)\n",
        "    Fb.append(fb_thr)\n",
        "    OIS_F.append(OIS_F_thr)\n",
        "  return OIS_F,Fb"
      ],
      "metadata": {
        "id": "cEgayh4_MmDI"
      },
      "execution_count": 98,
      "outputs": []
    },
    {
      "cell_type": "code",
      "source": [
        "OIS_array,Fb_array=recall_precison(ground_truth_total,pred_labels_total)"
      ],
      "metadata": {
        "id": "xSQoNrKcMoWl"
      },
      "execution_count": null,
      "outputs": []
    },
    {
      "cell_type": "code",
      "source": [
        "def Fb_score(Fb_array):\n",
        "  best_Fb=[]\n",
        "  for results in Fb_array:\n",
        "    f_score=max(results)\n",
        "    best_Fb.append(f_score)\n",
        "  return np.nanmean(best_Fb)\n",
        "mean_Fb_score= Fb_score(Fb_array)\n",
        "print('F-measure score: ',mean_Fb_score)"
      ],
      "metadata": {
        "colab": {
          "base_uri": "https://localhost:8080/"
        },
        "id": "ZPDDGQ8mMrWb",
        "outputId": "401a3cbb-1f1b-46bd-e563-75ffef59391e"
      },
      "execution_count": 100,
      "outputs": [
        {
          "output_type": "stream",
          "name": "stdout",
          "text": [
            "F-measure score:  0.8509302872336048\n"
          ]
        }
      ]
    },
    {
      "cell_type": "code",
      "source": [
        "def OIS_F_score(OIS_array):\n",
        "  best_OIS_F=[]\n",
        "  index_max=[]\n",
        "  for results in OIS_array:\n",
        "    f_score=max(results)\n",
        "    best_OIS_F.append(f_score)\n",
        "    index = results.index(f_score)\n",
        "    index_max.append(index)\n",
        "  return best_OIS_F,index_max\n",
        "OIS_f1,indexes=OIS_F_score(OIS_array)\n",
        "print('Average Optimal Image Scale F score: ',np.nanmean(OIS_f1))"
      ],
      "metadata": {
        "colab": {
          "base_uri": "https://localhost:8080/"
        },
        "id": "2QutMmzYMvO6",
        "outputId": "2aa72b57-8bb6-427b-f0dd-2a0e98e4f6f5"
      },
      "execution_count": 101,
      "outputs": [
        {
          "output_type": "stream",
          "name": "stdout",
          "text": [
            "Average Optimal Image Scale F score:  0.842527593709728\n"
          ]
        }
      ]
    },
    {
      "cell_type": "markdown",
      "source": [
        "## Precision Recall Graph"
      ],
      "metadata": {
        "id": "G-y9EdT1R3Np"
      }
    },
    {
      "cell_type": "code",
      "source": [
        "Y_ts_pred =reshape(predictions,[len(predictions),224,224])\n",
        "Y_ts_pred = Y_ts_pred.reshape(Y_ts_pred.shape[0]*Y_ts_pred.shape[1]*Y_ts_pred.shape[2], 1)\n",
        "print(Y_ts_pred.shape)\n",
        "Y_ts = ground_truth_total.reshape(ground_truth_total.shape[0]*ground_truth_total.shape[1]*ground_truth_total.shape[2], 1)\n",
        "print(Y_ts.shape)\n",
        "Y_ts_pred = np.where(Y_ts_pred>0.5, 1, 0)\n",
        "Y_ts  = np.where(Y_ts>0.5, 1, 0)"
      ],
      "metadata": {
        "colab": {
          "base_uri": "https://localhost:8080/"
        },
        "id": "bafWnsf5R15A",
        "outputId": "9f9b49f5-6f14-4f8d-e07c-e690c63a74ca"
      },
      "execution_count": 102,
      "outputs": [
        {
          "output_type": "stream",
          "name": "stdout",
          "text": [
            "(10035200, 1)\n",
            "(10035200, 1)\n"
          ]
        }
      ]
    },
    {
      "cell_type": "code",
      "source": [
        "from sklearn.metrics import precision_recall_curve\n",
        "from sklearn.metrics import average_precision_score\n",
        "import numpy as np\n",
        "import matplotlib.pyplot as plt\n",
        "precision, recall, thresholds = precision_recall_curve(Y_ts, Y_ts_pred)\n",
        "average_precision = average_precision_score(Y_ts, Y_ts_pred)\n",
        "precision = np.fliplr([precision])[0]  #to avoid getting negative AUC)\n",
        "recall = np.fliplr([recall])[0]  #to avoid getting negative AUC)\n",
        "AUC_prec_rec = np.trapz(precision,recall)\n",
        "print(\"\\nArea under Precision-Recall curve: \" +str(AUC_prec_rec))\n",
        "prec_rec_curve = plt.figure()\n",
        "plt.figure(figsize=(10,5))\n",
        "plt.plot(recall,precision,'-',label='Area Under the Curve (AUC = %0.4f)' % AUC_prec_rec,color=\"darkorange\")\n",
        "plt.title('Precision - Recall curve',fontsize=18)\n",
        "plt.xlabel(\"Recall\",fontsize=16)\n",
        "plt.ylabel(\"Precision\",fontsize=16)\n",
        "plt.legend(loc=\"best\",prop={'size': 14})\n",
        "plt.savefig(\"Precision_recall.png\")\n",
        "print(\"Average Precision Scores: \" +str(average_precision))"
      ],
      "metadata": {
        "colab": {
          "base_uri": "https://localhost:8080/",
          "height": 428
        },
        "id": "m1uFZ1QFSBnS",
        "outputId": "e5ae18ba-f468-47f6-a37e-b6ba4034e688"
      },
      "execution_count": 103,
      "outputs": [
        {
          "output_type": "stream",
          "name": "stdout",
          "text": [
            "\n",
            "Area under Precision-Recall curve: 0.9052658371686398\n",
            "Average Precision Scores: 0.8292118002203723\n"
          ]
        },
        {
          "output_type": "display_data",
          "data": {
            "text/plain": [
              "<Figure size 432x288 with 0 Axes>"
            ]
          },
          "metadata": {}
        },
        {
          "output_type": "display_data",
          "data": {
            "text/plain": [
              "<Figure size 720x360 with 1 Axes>"
            ],
            "image/png": "[encoded data removed]"
          },
          "metadata": {
            "needs_background": "light"
          }
        }
      ]
    },
    {
      "cell_type": "code",
      "source": [
        "beta2=0.3\n",
        "fb=(1+beta2)*precision[1]*recall[1]/((beta2 * precision[1])+recall[1])\n",
        "fb"
      ],
      "metadata": {
        "colab": {
          "base_uri": "https://localhost:8080/"
        },
        "id": "UBm1HuXKSFv4",
        "outputId": "c85cd0f1-76cb-4859-ba65-5587eb0cacdd"
      },
      "execution_count": 106,
      "outputs": [
        {
          "output_type": "execute_result",
          "data": {
            "text/plain": [
              "0.856955258897835"
            ]
          },
          "metadata": {},
          "execution_count": 106
        }
      ]
    },
    {
      "cell_type": "markdown",
      "source": [
        "## **Evaluation with DUT Dataset**"
      ],
      "metadata": {
        "id": "OicAog5BTAhn"
      }
    },
    {
      "cell_type": "code",
      "source": [
        "!unzip -qq dut500-source.zip"
      ],
      "metadata": {
        "id": "bPXqrv9GTKM2"
      },
      "execution_count": null,
      "outputs": []
    },
    {
      "cell_type": "code",
      "source": [
        "!unzip -qq dut500-gt.zip"
      ],
      "metadata": {
        "id": "KTos1gkNUzhH"
      },
      "execution_count": null,
      "outputs": []
    },
    {
      "cell_type": "code",
      "source": [
        "from numpy import *\n",
        "images_folder= \"dut500-source/*.bmp\"\n",
        "labels_folder = \"dut500-gt/\"\n",
        "def data_preprocessing(images_folder,labels_folder):\n",
        "  total_img = []\n",
        "  label = []\n",
        "  files = glob.glob (images_folder)\n",
        "  for myFile in files:\n",
        "      image_name=os.path.split(myFile)[1]\n",
        "      img = Image.open(myFile)\n",
        "      new_img = img.resize( (224, 224))\n",
        "      image = array(new_img)\n",
        "      new_label=Image.open(labels_folder+image_name)\n",
        "      new_label = new_label.resize((224, 224))\n",
        "      label_image = array(new_label)\n",
        "      label.append (label_image)\n",
        "      total_img.append (image)\n",
        "  total_img = np.array(total_img)\n",
        "  label = np.array(label)\n",
        "  label= np.reshape(label,[label.shape[0],label.shape[1],label.shape[2]])\n",
        "  total_img= np.reshape(total_img,[total_img.shape[0],total_img.shape[1],total_img.shape[2],total_img.shape[3]])\n",
        "  return label,total_img"
      ],
      "metadata": {
        "id": "iiK0-vyTUe-Z"
      },
      "execution_count": 107,
      "outputs": []
    },
    {
      "cell_type": "code",
      "source": [
        "DUT_labels,DUT_images=data_preprocessing(images_folder,labels_folder)"
      ],
      "metadata": {
        "id": "AvywuY6CWRhJ"
      },
      "execution_count": 108,
      "outputs": []
    },
    {
      "cell_type": "code",
      "source": [
        "DUT_images.shape"
      ],
      "metadata": {
        "colab": {
          "base_uri": "https://localhost:8080/"
        },
        "id": "8z9LrchRWqVV",
        "outputId": "76d70aa5-3932-473a-ca8d-b2b5ac97a0b6"
      },
      "execution_count": 109,
      "outputs": [
        {
          "output_type": "execute_result",
          "data": {
            "text/plain": [
              "(500, 224, 224, 3)"
            ]
          },
          "metadata": {},
          "execution_count": 109
        }
      ]
    },
    {
      "cell_type": "code",
      "source": [
        "DUT_labels.shape"
      ],
      "metadata": {
        "colab": {
          "base_uri": "https://localhost:8080/"
        },
        "id": "75vViDQGWszu",
        "outputId": "9695b7c3-e0e3-4653-f262-ed3f516a0e97"
      },
      "execution_count": 110,
      "outputs": [
        {
          "output_type": "execute_result",
          "data": {
            "text/plain": [
              "(500, 224, 224)"
            ]
          },
          "metadata": {},
          "execution_count": 110
        }
      ]
    },
    {
      "cell_type": "code",
      "source": [
        "from keras.models import load_model\n",
        "from PIL import Image\n",
        "images = DUT_images\n",
        "predictions=[]\n",
        "for i in range(images.shape[0]):\n",
        "  img = images[i]\n",
        "  img = img.astype(np.float32)/ 255.0\n",
        "  img = np.expand_dims(img, -1)\n",
        "  img = np.expand_dims(img, 0)\n",
        "  pred = model.predict(img)\n",
        "  predictions.append(pred)"
      ],
      "metadata": {
        "id": "pPl0X8OmW_tp"
      },
      "execution_count": null,
      "outputs": []
    },
    {
      "cell_type": "code",
      "source": [
        "ground_truth_total=DUT_labels/255.0\n",
        "ground_truth_total=np.where(ground_truth_total>0.5,0.0,1.0)"
      ],
      "metadata": {
        "id": "bCNm0PCeXZje"
      },
      "execution_count": 112,
      "outputs": []
    },
    {
      "cell_type": "code",
      "source": [
        "def get_mae(true_label, y_pred_label):\n",
        "  absolute_error=[]\n",
        "  for i in range(0,len(true_label)):\n",
        "    #true_label = eval_labels[i]/255.0\n",
        "    pp=np.where(((y_pred_label[i])[0])>0.5,1.0,0.0)\n",
        "    y_pred=reshape(pp,[224,224])\n",
        "    y_true=true_label[i]\n",
        "    mae = tf.keras.losses.MeanAbsoluteError()\n",
        "    m = mae(y_true, y_pred).numpy()\n",
        "    absolute_error.append(m)\n",
        "  return mean(absolute_error)\n",
        "mean_absolute_error= get_mae(ground_truth_total,predictions)\n",
        "print('Mean Absolute Error for Evaluation set: ',mean_absolute_error)"
      ],
      "metadata": {
        "colab": {
          "base_uri": "https://localhost:8080/"
        },
        "id": "caIUce8tXooZ",
        "outputId": "6d4e02af-2369-4931-e412-129266d73d53"
      },
      "execution_count": 113,
      "outputs": [
        {
          "output_type": "stream",
          "name": "stdout",
          "text": [
            "Mean Absolute Error for Evaluation set:  0.15236172672193876\n"
          ]
        }
      ]
    },
    {
      "cell_type": "markdown",
      "source": [
        "## Precision-Recall "
      ],
      "metadata": {
        "id": "YT79n8TDUoc4"
      }
    },
    {
      "cell_type": "code",
      "source": [
        "Y_ts_pred =reshape(predictions,[len(predictions),224,224])\n",
        "Y_ts_pred = Y_ts_pred.reshape(Y_ts_pred.shape[0]*Y_ts_pred.shape[1]*Y_ts_pred.shape[2], 1)\n",
        "print(Y_ts_pred.shape)\n",
        "Y_ts = ground_truth_total.reshape(ground_truth_total.shape[0]*ground_truth_total.shape[1]*ground_truth_total.shape[2], 1)\n",
        "print(Y_ts.shape)\n",
        "Y_ts_pred = np.where(Y_ts_pred>0.5, 1, 0)\n",
        "Y_ts  = np.where(Y_ts>0.5, 1, 0)"
      ],
      "metadata": {
        "id": "NGaK6ve3UrTQ",
        "outputId": "403f7739-943a-4025-f07d-e4d24c3aa63c",
        "colab": {
          "base_uri": "https://localhost:8080/"
        }
      },
      "execution_count": 114,
      "outputs": [
        {
          "output_type": "stream",
          "name": "stdout",
          "text": [
            "(25088000, 1)\n",
            "(25088000, 1)\n"
          ]
        }
      ]
    },
    {
      "cell_type": "code",
      "source": [
        "from sklearn.metrics import precision_recall_curve\n",
        "from sklearn.metrics import average_precision_score\n",
        "import numpy as np\n",
        "import matplotlib.pyplot as plt\n",
        "precision, recall, thresholds = precision_recall_curve(Y_ts, Y_ts_pred)\n",
        "average_precision = average_precision_score(Y_ts, Y_ts_pred)\n",
        "precision = np.fliplr([precision])[0]  #to avoid getting negative AUC)\n",
        "recall = np.fliplr([recall])[0]  #to avoid getting negative AUC)\n",
        "AUC_prec_rec = np.trapz(precision,recall)\n",
        "print(\"\\nArea under Precision-Recall curve: \" +str(AUC_prec_rec))\n",
        "prec_rec_curve = plt.figure()\n",
        "plt.figure(figsize=(10,5))\n",
        "plt.plot(recall,precision,'-',label='Area Under the Curve (AUC = %0.4f)' % AUC_prec_rec,color=\"darkorange\")\n",
        "plt.title('Precision - Recall curve',fontsize=18)\n",
        "plt.xlabel(\"Recall\",fontsize=16)\n",
        "plt.ylabel(\"Precision\",fontsize=16)\n",
        "plt.legend(loc=\"best\",prop={'size': 14})\n",
        "plt.savefig(\"Precision_recall.png\")\n",
        "print(\"Average Precision Scores: \" +str(average_precision))"
      ],
      "metadata": {
        "colab": {
          "base_uri": "https://localhost:8080/",
          "height": 428
        },
        "id": "RUew4DG1VAZB",
        "outputId": "8f8999d0-fcf7-45da-b938-3dd00c77d0bf"
      },
      "execution_count": 115,
      "outputs": [
        {
          "output_type": "stream",
          "name": "stdout",
          "text": [
            "\n",
            "Area under Precision-Recall curve: 0.9194905160454617\n",
            "Average Precision Scores: 0.8482812316055041\n"
          ]
        },
        {
          "output_type": "display_data",
          "data": {
            "text/plain": [
              "<Figure size 432x288 with 0 Axes>"
            ]
          },
          "metadata": {}
        },
        {
          "output_type": "display_data",
          "data": {
            "text/plain": [
              "<Figure size 720x360 with 1 Axes>"
            ],
            "image/png": "[encoded data removed]"
          },
          "metadata": {
            "needs_background": "light"
          }
        }
      ]
    },
    {
      "cell_type": "code",
      "source": [
        "beta2=0.3\n",
        "fb=(1+beta2)*precision[1]*recall[1]/((beta2 * precision[1])+recall[1])\n",
        "fb"
      ],
      "metadata": {
        "colab": {
          "base_uri": "https://localhost:8080/"
        },
        "id": "qJAtuE6vVIoO",
        "outputId": "502bdab5-fad7-4c1b-b470-9ea25fc2dde8"
      },
      "execution_count": 118,
      "outputs": [
        {
          "output_type": "execute_result",
          "data": {
            "text/plain": [
              "0.8753005965078794"
            ]
          },
          "metadata": {},
          "execution_count": 118
        }
      ]
    },
    {
      "cell_type": "code",
      "source": [
        "from sklearn.metrics import precision_score,recall_score\n",
        "threshoulds=[0.3,0.4,0.5,0.6,0.7]\n",
        "beta2=0.2\n",
        "def recall_precison(y_true,y_pred):\n",
        "  OIS_F=[]\n",
        "  Fb=[]\n",
        "  for i in range(0,len(y_pred)):\n",
        "    OIS_F_thr=[]\n",
        "    fb_thr=[]\n",
        "    for thr in threshoulds:\n",
        "      pr=np.where(((y_pred[i])[0])>thr,1.0,0.0)\n",
        "      pr=reshape(pr,[224,224])\n",
        "      pred_precision_score=precision_score(y_true[i],pr, average='weighted')\n",
        "      pred_recall_score=recall_score(y_true[i],pr, average='weighted')\n",
        "      OIS=2*pred_precision_score*pred_recall_score/(pred_precision_score+pred_recall_score)\n",
        "      fb=(1+beta2)*pred_precision_score*pred_recall_score/(beta2 * pred_precision_score+pred_recall_score)\n",
        "      fb_thr.append(fb)\n",
        "      OIS_F_thr.append(OIS)\n",
        "    Fb.append(fb_thr)\n",
        "    OIS_F.append(OIS_F_thr)\n",
        "  return OIS_F,Fb"
      ],
      "metadata": {
        "id": "_f7dXoLGX0sj"
      },
      "execution_count": 119,
      "outputs": []
    },
    {
      "cell_type": "code",
      "source": [
        "OIS_array,Fb_array=recall_precison(ground_truth_total,predictions)"
      ],
      "metadata": {
        "id": "Vxag1g3xYMH9"
      },
      "execution_count": null,
      "outputs": []
    },
    {
      "cell_type": "code",
      "source": [
        "def Fb_score(Fb_array):\n",
        "  best_Fb=[]\n",
        "  for results in Fb_array:\n",
        "    f_score=max(results)\n",
        "    best_Fb.append(f_score)\n",
        "  return np.nanmean(best_Fb)\n",
        "mean_Fb_score= Fb_score(Fb_array)\n",
        "print('Fb score: ',mean_Fb_score)"
      ],
      "metadata": {
        "colab": {
          "base_uri": "https://localhost:8080/"
        },
        "id": "caeGx74rYhBt",
        "outputId": "fd3f76c5-dbbe-47c6-c70d-d72c8acab374"
      },
      "execution_count": 121,
      "outputs": [
        {
          "output_type": "stream",
          "name": "stdout",
          "text": [
            "Fb score:  0.8952631582570413\n"
          ]
        }
      ]
    },
    {
      "cell_type": "code",
      "source": [
        "def OIS_F_score(OIS_array):\n",
        "  best_OIS_F=[]\n",
        "  index_max=[]\n",
        "  for results in OIS_array:\n",
        "    f_score=max(results)\n",
        "    best_OIS_F.append(f_score)\n",
        "    index = results.index(f_score)\n",
        "    index_max.append(index)\n",
        "  return best_OIS_F,index_max\n",
        "OIS_f1,indexes=OIS_F_score(OIS_array)\n",
        "print('Average Optimal Image Scale F score: ',np.nanmean(OIS_f1))"
      ],
      "metadata": {
        "colab": {
          "base_uri": "https://localhost:8080/"
        },
        "id": "YJEmJVQIYv9B",
        "outputId": "f334323a-a297-4c46-ea2f-6c013ff602e7"
      },
      "execution_count": 122,
      "outputs": [
        {
          "output_type": "stream",
          "name": "stdout",
          "text": [
            "Average Optimal Image Scale F score:  0.9078917632223747\n"
          ]
        }
      ]
    }
  ]
}