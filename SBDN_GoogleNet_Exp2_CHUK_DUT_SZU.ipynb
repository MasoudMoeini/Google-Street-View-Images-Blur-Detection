{
  "nbformat": 4,
  "nbformat_minor": 0,
  "metadata": {
    "colab": {
      "provenance": [],
      "toc_visible": true,
      "machine_shape": "hm",
      "authorship_tag": "ABX9TyOrfy/qty80mhFWhIjND5KY",
      "include_colab_link": true
    },
    "kernelspec": {
      "name": "python3",
      "display_name": "Python 3"
    },
    "language_info": {
      "name": "python"
    },
    "accelerator": "GPU",
    "gpuClass": "standard"
  },
  "cells": [
    {
      "cell_type": "markdown",
      "metadata": {
        "id": "view-in-github",
        "colab_type": "text"
      },
      "source": [
        "<a href=\"https://colab.research.google.com/github/MasoudMoeini/Google-Street-View-Images-Blur-Detection/blob/main/SBDN_GoogleNet_Exp2_CHUK_DUT_SZU.ipynb\" target=\"_parent\"><img src=\"https://colab.research.google.com/assets/colab-badge.svg\" alt=\"Open In Colab\"/></a>"
      ]
    },
    {
      "cell_type": "code",
      "execution_count": null,
      "metadata": {
        "id": "AK1xxTagBKXt"
      },
      "outputs": [],
      "source": [
        "import os\n",
        "import cv2\n",
        "import numpy as np\n",
        "import matplotlib.pyplot as plt\n",
        "import tensorflow as tf\n",
        "import glob\n",
        "from PIL import Image\n",
        "from tensorflow import keras\n",
        "from keras.models import Sequential, Model,load_model\n",
        "from keras import layers\n",
        "from keras import regularizers\n",
        "from keras.layers import Input, Flatten, Dense, Dropout, BatchNormalization\n",
        "from keras.layers import Conv2D, MaxPooling2D, AveragePooling2D, ZeroPadding2D\n",
        "from keras.layers import Concatenate\n",
        "from keras import regularizers"
      ]
    },
    {
      "cell_type": "code",
      "source": [
        "!unzip -qq BlurDatasetImage.zip"
      ],
      "metadata": {
        "id": "KYpx1LlHBkgk"
      },
      "execution_count": null,
      "outputs": []
    },
    {
      "cell_type": "code",
      "source": [
        "!unzip -qq BlurDatasetGT.zip"
      ],
      "metadata": {
        "id": "LcGnfj2xBlGV"
      },
      "execution_count": null,
      "outputs": []
    },
    {
      "cell_type": "code",
      "source": [
        "from numpy import *\n",
        "images_folder= \"image/*\"\n",
        "labels_folder = \"gt/\"\n",
        "def data_preprocessing(images_folder,labels_folder):\n",
        "  total_img = []\n",
        "  labels = []\n",
        "  files = glob.glob (images_folder)\n",
        "  for myFile in files:\n",
        "    image_name=os.path.split(myFile)[1]\n",
        "    if image_name[:12]=='out_of_focus':\n",
        "    # image resize\n",
        "      img = Image.open(myFile)\n",
        "      img = img.resize((224, 224))\n",
        "      img = np.asarray(img)\n",
        "      total_img.append(img)\n",
        "      #Gt \n",
        "      image_name=image_name[:-3]\n",
        "      image_name=image_name+'png'\n",
        "      label = Image.open(labels_folder+image_name)\n",
        "      label = label.resize((224, 224))\n",
        "      label = np.asarray(label)\n",
        "      if (label.shape!=(224,224)):\n",
        "        label=label[:,:,0]\n",
        "      labels.append(label)\n",
        "  total_img = np.array(total_img)\n",
        "  labels = np.asarray(labels)\n",
        "  label= np.reshape(labels,[labels.shape[0],labels.shape[1],labels.shape[2]])\n",
        "  total_img= np.reshape(total_img,[total_img.shape[0],total_img.shape[1],total_img.shape[2],total_img.shape[3]])\n",
        "  return labels,total_img"
      ],
      "metadata": {
        "id": "J2rbE_ofBnyz"
      },
      "execution_count": null,
      "outputs": []
    },
    {
      "cell_type": "code",
      "source": [
        "CHUK_labels,CHUK_images=data_preprocessing(images_folder,labels_folder)"
      ],
      "metadata": {
        "id": "_Fip3hHYBxnS"
      },
      "execution_count": null,
      "outputs": []
    },
    {
      "cell_type": "code",
      "source": [
        "CHUK_images.shape"
      ],
      "metadata": {
        "id": "-F9mlXwbB3-6"
      },
      "execution_count": null,
      "outputs": []
    },
    {
      "cell_type": "code",
      "source": [
        "CHUK_labels.shape"
      ],
      "metadata": {
        "id": "ax3YiL0nB61e"
      },
      "execution_count": null,
      "outputs": []
    }
  ]
}