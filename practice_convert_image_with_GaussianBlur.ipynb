{
 "cells": [
  {
   "cell_type": "code",
   "execution_count": 165,
   "id": "4bcb558d",
   "metadata": {},
   "outputs": [],
   "source": [
    "from PIL import Image, ImageFilter"
   ]
  },
  {
   "cell_type": "code",
   "execution_count": 166,
   "id": "48c5d844",
   "metadata": {},
   "outputs": [
    {
     "name": "stdout",
     "output_type": "stream",
     "text": [
      "image w: 1280, image h: 1024\n"
     ]
    }
   ],
   "source": [
    "image = Image.open(r\"part1/000091_1.jpg\")\n",
    "# Size of the image in pixels (size of original image)\n",
    "width, height = image.size\n",
    "print(f\"image w: {width}, image h: {height}\")"
   ]
  },
  {
   "cell_type": "code",
   "execution_count": 173,
   "id": "ba33f6ec",
   "metadata": {},
   "outputs": [
    {
     "name": "stdout",
     "output_type": "stream",
     "text": [
      "(1024, 1280, 3)\n"
     ]
    }
   ],
   "source": [
    "# Import packages\n",
    "import cv2\n",
    "import numpy as np\n",
    "image =Image.open(r'part1/000091_1.jpg')\n",
    "image.show()\n",
    "img = cv2.imread('part1/000091_1.jpg')\n",
    "\n",
    "print(img.shape) # Print image shape\n",
    "\n",
    "# Cropping an image\n",
    "cropped_image = img[int(2*height / 4):1000, 100:400]#image axis[top to down,left to the righ]\n",
    "cropped_image=cv2.cvtColor(cropped_image, cv2.COLOR_BGR2RGB)\n",
    "cropped_image_p=Image.fromarray(cropped_image)\n",
    "cropped_image_p.show()\n",
    "blurred_image = cropped_image_p.filter(ImageFilter.GaussianBlur(10))\n",
    "blurred_image.show()\n",
    "image.paste(blurred_image, (100, int( 2*height / 4)))\n",
    "#image.paste(blurred_image,(int( height / 4), 800))\n",
    "image.show()\n",
    "# Save the cropped image\n",
    "image.save('output.jpg')"
   ]
  },
  {
   "cell_type": "code",
   "execution_count": 160,
   "id": "1a8541c1",
   "metadata": {},
   "outputs": [],
   "source": [
    "dic ={'1':{'h1':int( height / 4),'h2':800,'w1':900,'w2':1100,'left':900},\n",
    "      '2':{'h1':int( height / 3),'h2':600,'w1':100,'w2':500,'left':100},\n",
    "       '3':{'h1':int( height / 4),'h2':700,'w1':500,'w2':800,'left':500},\n",
    "       '4':{'h1':int( height / 4),'h2':700,'w1':700,'w2':1000,'left':700},\n",
    "       '5':{'h1':int( height / 4),'h2':1000,'w1':100,'w2':400,'left':100},\n",
    "       '6':{'h1':int(2* height / 4),'h2':1000,'w1':100,'w2':400,'left':900},\n",
    "       '7':{'h1':int(height / 4),'h2':900,'w1':100,'w2':400,'left':100},\n",
    "       '8':{'h1':int(height / 5),'h2':800,'w1':800,'w2':1100,'left':900}}"
   ]
  },
  {
   "cell_type": "code",
   "execution_count": 161,
   "id": "6c548192",
   "metadata": {},
   "outputs": [
    {
     "data": {
      "text/plain": [
       "4"
      ]
     },
     "execution_count": 161,
     "metadata": {},
     "output_type": "execute_result"
    }
   ],
   "source": [
    "from random import *\n",
    "x = randint(1,7)\n",
    "x"
   ]
  },
  {
   "cell_type": "code",
   "execution_count": 162,
   "id": "506a16f9",
   "metadata": {},
   "outputs": [
    {
     "data": {
      "text/plain": [
       "700"
      ]
     },
     "execution_count": 162,
     "metadata": {},
     "output_type": "execute_result"
    }
   ],
   "source": [
    "dic[str(x)]['left']"
   ]
  },
  {
   "cell_type": "code",
   "execution_count": 163,
   "id": "6df00997",
   "metadata": {},
   "outputs": [],
   "source": [
    "import cv2\n",
    "import numpy as np\n",
    "from random import *\n",
    "def random_blurring(dic,image):\n",
    "    img = cv2.imread(image)\n",
    "    image =Image.open(image)\n",
    "    width, height = image.size\n",
    "    # Cropping an image\n",
    "    x = randint(1,8)\n",
    "    print(x)\n",
    "    cropped_image = img[dic[str(x)]['h1']:dic[str(x)]['h2'], dic[str(x)]['w1']:dic[str(x)]['w2']]\n",
    "    blurred_image = Image.fromarray(cropped_image).filter(ImageFilter.GaussianBlur(10))\n",
    "    image.paste(blurred_image, (dic[str(x)]['left'], dic[str(x)]['h1']))\n",
    "    image.show()"
   ]
  },
  {
   "cell_type": "code",
   "execution_count": 164,
   "id": "111d78b6",
   "metadata": {},
   "outputs": [
    {
     "name": "stdout",
     "output_type": "stream",
     "text": [
      "4\n"
     ]
    }
   ],
   "source": [
    "random_blurring(dic,'part1/000091_1.jpg')"
   ]
  },
  {
   "cell_type": "code",
   "execution_count": null,
   "id": "0f66f385",
   "metadata": {},
   "outputs": [],
   "source": [
    "\n",
    " \n",
    "# Setting the points for cropped image\n",
    "img_dic={'0':{'left':10,'top':int( height / 4),'right':400,'bottom':int(3 * height / 4)},\n",
    "         '1':{'left':100,'top':int( height / 5),'right':100,'bottom':int(3 * height / 5)}}\n",
    "left = 10\n",
    "top =int( height / 4)\n",
    "right = 300\n",
    "bottom = 3 * height / 4\n",
    "\n",
    "# Cropping the image\n",
    "#smol_image = image.crop((0,0, 150, 150))\n",
    "#smol_image1= image.crop((left, top, right, bottom))\n",
    "\n",
    "smol_image1= image.crop((img_dic['0']['left'],img_dic['0']['top'],img_dic['0']['right'],img_dic['0']['bottom']))\n",
    "#smol_image2= image.crop((img_dic['1']['left'],img_dic['1']['top'],img_dic['1']['right'],img_dic['1']['bottom']))\n",
    "\n",
    "# Blurring on the cropped image\n",
    "blurred_image1 = smol_image1.filter(ImageFilter.GaussianBlur(10))\n",
    "#blurred_image2 = smol_image2.filter(ImageFilter.GaussianBlur(10))\n",
    "\n",
    "# Pasting the blurred image on the original image\n",
    "#image.paste(blurred_image, (0,0))\n",
    "\n",
    "image.paste(blurred_image1,(img_dic['0']['left'], img_dic['0']['top']))\n",
    "#image.paste(blurred_image2,(img_dic['1']['left'], img_dic['1']['top']))\n",
    "# Displaying the image\n",
    "image.save('output.jpg')"
   ]
  },
  {
   "cell_type": "code",
   "execution_count": 4,
   "id": "cd7e44e3",
   "metadata": {},
   "outputs": [],
   "source": [
    "img =Image.open(r'part1/000091_1.jpg')\n",
    "img.show()"
   ]
  },
  {
   "cell_type": "code",
   "execution_count": 5,
   "id": "8fb1bae9",
   "metadata": {},
   "outputs": [],
   "source": [
    "img =Image.open(r'output.jpg')\n",
    "img.show()"
   ]
  },
  {
   "cell_type": "code",
   "execution_count": null,
   "id": "568baddc",
   "metadata": {},
   "outputs": [],
   "source": []
  }
 ],
 "metadata": {
  "kernelspec": {
   "display_name": "Python 3 (ipykernel)",
   "language": "python",
   "name": "python3"
  },
  "language_info": {
   "codemirror_mode": {
    "name": "ipython",
    "version": 3
   },
   "file_extension": ".py",
   "mimetype": "text/x-python",
   "name": "python",
   "nbconvert_exporter": "python",
   "pygments_lexer": "ipython3",
   "version": "3.9.7"
  }
 },
 "nbformat": 4,
 "nbformat_minor": 5
}
