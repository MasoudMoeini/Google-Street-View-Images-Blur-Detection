{
  "nbformat": 4,
  "nbformat_minor": 0,
  "metadata": {
    "colab": {
      "provenance": [],
      "machine_shape": "hm",
      "authorship_tag": "ABX9TyPN4sQKu/1gj1WfnzHt7CtP",
      "include_colab_link": true
    },
    "kernelspec": {
      "name": "python3",
      "display_name": "Python 3"
    },
    "language_info": {
      "name": "python"
    },
    "accelerator": "GPU",
    "gpuClass": "standard"
  },
  "cells": [
    {
      "cell_type": "markdown",
      "metadata": {
        "id": "view-in-github",
        "colab_type": "text"
      },
      "source": [
        "<a href=\"https://colab.research.google.com/github/MasoudMoeini/Google-Street-View-Images-Blur-Detection/blob/main/SBDN_Ablation_02.ipynb\" target=\"_parent\"><img src=\"https://colab.research.google.com/assets/colab-badge.svg\" alt=\"Open In Colab\"/></a>"
      ]
    },
    {
      "cell_type": "code",
      "execution_count": null,
      "metadata": {
        "id": "FwIyBoJJGU-7"
      },
      "outputs": [],
      "source": [
        "import cv2\n",
        "import numpy as np\n",
        "import os\n",
        "import glob\n",
        "import matplotlib.pyplot as plt\n",
        "from PIL import Image\n",
        "import tensorflow as tf\n",
        "from tensorflow import keras\n",
        "from keras import layers\n",
        "from keras.models import Sequential, Model,load_model\n",
        "from keras.optimizers import gradient_descent_v2 \n",
        "from google.colab.patches import cv2_imshow\n",
        "from keras.layers import Input, Add, Dense, Activation, ZeroPadding2D, BatchNormalization, Flatten, Conv2D, AveragePooling2D, MaxPooling2D, GlobalMaxPooling2D,MaxPool2D\n",
        "from keras.preprocessing import image\n",
        "from keras.initializers import glorot_uniform\n",
        "from keras import regularizers"
      ]
    },
    {
      "cell_type": "code",
      "source": [
        "!unzip -qq shi800train.zip"
      ],
      "metadata": {
        "id": "UN-3Xh7eJ0mc"
      },
      "execution_count": null,
      "outputs": []
    },
    {
      "cell_type": "code",
      "source": [
        "!unzip -qq shi800train-gt.zip"
      ],
      "metadata": {
        "id": "oayF0RXzFWz5"
      },
      "execution_count": null,
      "outputs": []
    },
    {
      "cell_type": "code",
      "source": [
        "from numpy import *\n",
        "images_folder= \"shi800train/*\"\n",
        "labels_folder = \"shi800train-gt/\"\n",
        "def data_preprocessing(images_folder,labels_folder):\n",
        "  total_img = []\n",
        "  label = []\n",
        "  files = glob.glob (images_folder)\n",
        "  for myFile in files:\n",
        "      image_name=os.path.split(myFile)[1]\n",
        "      # image resize\n",
        "      image = Image.open(myFile)\n",
        "      image = image.resize((224, 224))\n",
        "      image = np.asarray(image)\n",
        "      total_img.append(image)\n",
        "      #Gt\n",
        "      image_name=image_name[:-3]\n",
        "      image_name=image_name+'png'\n",
        "      label_image = Image.open(labels_folder+image_name)\n",
        "      label_image = label_image.resize((224, 224))\n",
        "      label_image = np.asarray(label_image)\n",
        "      if (label_image.shape!=(224,224)):\n",
        "        label_image=label_image[:,:,0]\n",
        "      label.append (label_image)\n",
        "  total_img = np.array(total_img)\n",
        "  label = np.array(label)\n",
        "  label= np.reshape(label,[label.shape[0],label.shape[1],label.shape[2]])\n",
        "  total_img= np.reshape(total_img,[total_img.shape[0],total_img.shape[1],total_img.shape[2],total_img.shape[3]]) \n",
        "  return label,total_img"
      ],
      "metadata": {
        "id": "ld7MfddsKv8q"
      },
      "execution_count": null,
      "outputs": []
    },
    {
      "cell_type": "code",
      "source": [
        "CHUK_labels,CHUK_images=data_preprocessing(images_folder,labels_folder)"
      ],
      "metadata": {
        "id": "xilvlhatK3mJ"
      },
      "execution_count": null,
      "outputs": []
    },
    {
      "cell_type": "code",
      "source": [
        "CHUK_images.shape"
      ],
      "metadata": {
        "colab": {
          "base_uri": "https://localhost:8080/"
        },
        "id": "QVg004lMK8Zn",
        "outputId": "18bda73a-4638-46cb-cf61-6264dc1b8cc2"
      },
      "execution_count": null,
      "outputs": [
        {
          "output_type": "execute_result",
          "data": {
            "text/plain": [
              "(800, 224, 224, 3)"
            ]
          },
          "metadata": {},
          "execution_count": 19
        }
      ]
    },
    {
      "cell_type": "code",
      "source": [
        "CHUK_labels.shape"
      ],
      "metadata": {
        "colab": {
          "base_uri": "https://localhost:8080/"
        },
        "id": "Kr5n3dVtGNEU",
        "outputId": "54b32a61-9d88-429e-c70c-772d486ddf9e"
      },
      "execution_count": null,
      "outputs": [
        {
          "output_type": "execute_result",
          "data": {
            "text/plain": [
              "(800, 224, 224)"
            ]
          },
          "metadata": {},
          "execution_count": 20
        }
      ]
    },
    {
      "cell_type": "code",
      "source": [
        "def identity_block(X, f, filters, stage, block):\n",
        "   \n",
        "    conv_name_base = 'res' + str(stage) + block + '_branch'\n",
        "    bn_name_base = 'bn' + str(stage) + block + '_branch'\n",
        "    F1, F2, F3 = filters\n",
        "\n",
        "    X_shortcut = X\n",
        "   \n",
        "    X = Conv2D(filters=F1, kernel_size=(1, 1), strides=(1, 1), padding='valid', name=conv_name_base + '2a', kernel_initializer=glorot_uniform(seed=0))(X)\n",
        "    X = BatchNormalization(axis=3, name=bn_name_base + '2a')(X)\n",
        "    X = Activation('relu')(X)\n",
        "\n",
        "    X = Conv2D(filters=F2, kernel_size=(f, f), strides=(1, 1), padding='same', name=conv_name_base + '2b', kernel_initializer=glorot_uniform(seed=0))(X)\n",
        "    X = BatchNormalization(axis=3, name=bn_name_base + '2b')(X)\n",
        "    X = Activation('relu')(X)\n",
        "\n",
        "    X = Conv2D(filters=F3, kernel_size=(1, 1), strides=(1, 1), padding='valid', name=conv_name_base + '2c', kernel_initializer=glorot_uniform(seed=0))(X)\n",
        "    X = BatchNormalization(axis=3, name=bn_name_base + '2c')(X)\n",
        "\n",
        "    X = Add()([X, X_shortcut])# SKIP Connection\n",
        "    X = Activation('relu')(X)\n",
        "\n",
        "    return X"
      ],
      "metadata": {
        "id": "SBJB2EglLB-H"
      },
      "execution_count": null,
      "outputs": []
    },
    {
      "cell_type": "code",
      "source": [
        "def convolutional_block(X, f, filters, stage, block, s=2):\n",
        "   \n",
        "    conv_name_base = 'res' + str(stage) + block + '_branch'\n",
        "    bn_name_base = 'bn' + str(stage) + block + '_branch'\n",
        "\n",
        "    F1, F2, F3 = filters\n",
        "\n",
        "    X_shortcut = X\n",
        "\n",
        "    X = Conv2D(filters=F1, kernel_size=(1, 1), strides=(s, s), padding='valid', name=conv_name_base + '2a', kernel_initializer=glorot_uniform(seed=0))(X)\n",
        "    X = BatchNormalization(axis=3, name=bn_name_base + '2a')(X)\n",
        "    X = Activation('relu')(X)\n",
        "\n",
        "    X = Conv2D(filters=F2, kernel_size=(f, f), strides=(1, 1), padding='same', name=conv_name_base + '2b', kernel_initializer=glorot_uniform(seed=0))(X)\n",
        "    X = BatchNormalization(axis=3, name=bn_name_base + '2b')(X)\n",
        "    X = Activation('relu')(X)\n",
        "\n",
        "    X = Conv2D(filters=F3, kernel_size=(1, 1), strides=(1, 1), padding='valid', name=conv_name_base + '2c', kernel_initializer=glorot_uniform(seed=0))(X)\n",
        "    X = BatchNormalization(axis=3, name=bn_name_base + '2c')(X)\n",
        "\n",
        "    X_shortcut = Conv2D(filters=F3, kernel_size=(1, 1), strides=(s, s), padding='valid', name=conv_name_base + '1', kernel_initializer=glorot_uniform(seed=0))(X_shortcut)\n",
        "    X_shortcut = BatchNormalization(axis=3, name=bn_name_base + '1')(X_shortcut)\n",
        "\n",
        "    X = Add()([X, X_shortcut])\n",
        "    X = Activation('relu')(X)\n",
        "\n",
        "    return X"
      ],
      "metadata": {
        "id": "S-1piaKJLGuQ"
      },
      "execution_count": null,
      "outputs": []
    },
    {
      "cell_type": "code",
      "source": [
        "def decoder_network(HLSF):\n",
        "  # 7*7*2048 is input tensor \n",
        "  #decoder \n",
        "  dec2 = layers.Conv2DTranspose(2048, (3, 3), strides=2, activation=\"relu\", padding=\"same\")(HLSF) #14*14*2048\n",
        "  dec3 = layers.Conv2DTranspose(512, (3, 3), strides=2, activation=\"relu\", padding=\"same\")(dec2)#28*28*512\n",
        "  dec4 = layers.Conv2DTranspose(128, (3, 3), strides=2, activation=\"relu\", padding=\"same\")(dec3)#56*56*128\n",
        "  dec5 = layers.Conv2DTranspose(32, (3, 3), strides=2, activation=\"relu\", padding=\"same\")(dec4)#112*112*32\n",
        "  dec6 = layers.Conv2DTranspose(3, (3, 3), strides=2, activation=\"relu\", padding=\"same\")(dec5)#224*224*3\n",
        "  dec7 = layers.Conv2DTranspose(3, (3, 3), strides=1, activation=\"relu\",padding=\"same\")(dec6)#224*224*1\n",
        "  dec8 = layers.Conv2DTranspose(1, (3, 3), strides=1, activation=\"relu\",padding=\"same\",name='DecBM')(dec7)#224*224*1\n",
        "  #FusionNetwork1\n",
        "  #Upsam_Deep1 = layers.Conv2DTranspose(128, (3, 3), strides=32, activation=\"relu\", padding=\"same\")(HLSF)\n",
        "  #Upsam_Deep2 = layers.Conv2DTranspose(128, (3, 3), strides=16, activation=\"relu\", padding=\"same\")(dec2)\n",
        "  #Upsam_Deep3 = layers.Conv2DTranspose(128, (3, 3), strides=8, activation=\"relu\", padding=\"same\")(dec3)\n",
        "  #concatted_deep = tf.keras.layers.Concatenate(axis=3)([Upsam_Deep1,Upsam_Deep2,Upsam_Deep3])\n",
        "  #result_concatted_deep= layers.Conv2D(1, (1, 1), strides=1, activation=\"relu\", padding=\"same\",name='HLBM')(concatted_deep) #224*224*1\n",
        "  #FusionNetwork2\n",
        "  Upsam_Shallow1=layers.Conv2DTranspose(16, (3, 3), strides=4, activation=\"relu\", padding=\"same\")(dec4)\n",
        "  Upsam_Shallow2=layers.Conv2DTranspose(16, (3, 3), strides=2, activation=\"relu\", padding=\"same\")(dec5)\n",
        "  concatted_Shallow = tf.keras.layers.Concatenate()([Upsam_Shallow1,Upsam_Shallow2,dec6])\n",
        "  result_concatted_Shallow= layers.Conv2D(1, (1, 1), strides=1, activation=\"relu\", padding=\"same\",name='LLBM')(concatted_Shallow) #224*224*1\n",
        "  #Concatenate all results\n",
        "  concatted_all = tf.keras.layers.Concatenate()([dec8,result_concatted_Shallow])\n",
        "  final_output= layers.Conv2D(1, (1, 1), strides=1, activation=\"sigmoid\", padding=\"same\",kernel_regularizer=regularizers.L2(l2=0.005),\n",
        "      bias_regularizer=regularizers.L2(l2=0.0005),name='FBME')(concatted_all) #224*224*1\n",
        "  return final_output"
      ],
      "metadata": {
        "id": "kqgADHTkLIC_"
      },
      "execution_count": null,
      "outputs": []
    },
    {
      "cell_type": "code",
      "source": [
        "data_augmentation = keras.Sequential(\n",
        "    [\n",
        "        layers.RandomFlip(\"horizontal\"),\n",
        "        layers.RandomRotation(0.1),\n",
        "    ]\n",
        ")"
      ],
      "metadata": {
        "id": "BHwKu1lsLqKd"
      },
      "execution_count": null,
      "outputs": []
    },
    {
      "cell_type": "code",
      "source": [
        "def ResNet50():\n",
        "    X_input = layers.Input(shape=(224, 224, 3))\n",
        "    X = data_augmentation(X_input)\n",
        "    X = layers.Rescaling(1./255)(X)\n",
        "    X = ZeroPadding2D((3, 3))(X_input)\n",
        "    X = Conv2D(64, (7, 7), strides=(2, 2), name='conv1', kernel_initializer=glorot_uniform(seed=0))(X)\n",
        "    X = BatchNormalization(axis=3, name='bn_conv1')(X)\n",
        "    X = Activation('relu')(X)\n",
        "    X = MaxPooling2D((3, 3), strides=(2, 2))(X)\n",
        "\n",
        "    X = convolutional_block(X, f=3, filters=[64, 64, 256], stage=2, block='a', s=1)\n",
        "    X = identity_block(X, 3, [64, 64, 256], stage=2, block='b')\n",
        "    X = identity_block(X, 3, [64, 64, 256], stage=2, block='c')\n",
        "\n",
        "\n",
        "    X = convolutional_block(X, f=3, filters=[128, 128, 512], stage=3, block='a', s=2)\n",
        "    X = identity_block(X, 3, [128, 128, 512], stage=3, block='b')\n",
        "    X = identity_block(X, 3, [128, 128, 512], stage=3, block='c')\n",
        "    X = identity_block(X, 3, [128, 128, 512], stage=3, block='d')\n",
        "\n",
        "    X = convolutional_block(X, f=3, filters=[256, 256, 1024], stage=4, block='a', s=2)\n",
        "    X = identity_block(X, 3, [256, 256, 1024], stage=4, block='b')\n",
        "    X = identity_block(X, 3, [256, 256, 1024], stage=4, block='c')\n",
        "    X = identity_block(X, 3, [256, 256, 1024], stage=4, block='d')\n",
        "    X = identity_block(X, 3, [256, 256, 1024], stage=4, block='e')\n",
        "    X = identity_block(X, 3, [256, 256, 1024], stage=4, block='f')\n",
        "    X = X = convolutional_block(X, f=3, filters=[512, 512, 2048], stage=5, block='a', s=2)\n",
        "    X = identity_block(X, 3, [512, 512, 2048], stage=5, block='b')\n",
        "    X = identity_block(X, 3, [512, 512, 2048], stage=5, block='c')\n",
        "    #7*7*2048\n",
        "    output1=decoder_network(X)\n",
        "    #X = AveragePooling2D(pool_size=(2, 2), padding='same')(X)\n",
        "    #X = Flatten()(X)\n",
        "    #X = Dense(256, activation='relu', name='fc1',kernel_initializer=glorot_uniform(seed=0))(X)\n",
        "    #X = Dense(128, activation='relu', name='fc2',kernel_initializer=glorot_uniform(seed=0))(X)\n",
        "    #main = Dense( 1,activation='sigmoid', name='main',kernel_initializer=glorot_uniform(seed=0))(X)\n",
        "    model = Model(inputs=X_input, outputs=output1, name='ResNet50')\n",
        "    return model"
      ],
      "metadata": {
        "id": "Ms3LyVLlLNcg"
      },
      "execution_count": null,
      "outputs": []
    },
    {
      "cell_type": "code",
      "source": [
        "model= ResNet50()\n",
        "model.summary()"
      ],
      "metadata": {
        "id": "N8S-12BaLyrd",
        "colab": {
          "base_uri": "https://localhost:8080/"
        },
        "outputId": "8c7f22fe-1a02-423e-d1b9-2a4919667d13"
      },
      "execution_count": null,
      "outputs": [
        {
          "output_type": "stream",
          "name": "stdout",
          "text": [
            "Model: \"ResNet50\"\n",
            "__________________________________________________________________________________________________\n",
            " Layer (type)                   Output Shape         Param #     Connected to                     \n",
            "==================================================================================================\n",
            " input_2 (InputLayer)           [(None, 224, 224, 3  0           []                               \n",
            "                                )]                                                                \n",
            "                                                                                                  \n",
            " zero_padding2d_1 (ZeroPadding2  (None, 230, 230, 3)  0          ['input_2[0][0]']                \n",
            " D)                                                                                               \n",
            "                                                                                                  \n",
            " conv1 (Conv2D)                 (None, 112, 112, 64  9472        ['zero_padding2d_1[0][0]']       \n",
            "                                )                                                                 \n",
            "                                                                                                  \n",
            " bn_conv1 (BatchNormalization)  (None, 112, 112, 64  256         ['conv1[0][0]']                  \n",
            "                                )                                                                 \n",
            "                                                                                                  \n",
            " activation_49 (Activation)     (None, 112, 112, 64  0           ['bn_conv1[0][0]']               \n",
            "                                )                                                                 \n",
            "                                                                                                  \n",
            " max_pooling2d_1 (MaxPooling2D)  (None, 55, 55, 64)  0           ['activation_49[0][0]']          \n",
            "                                                                                                  \n",
            " res2a_branch2a (Conv2D)        (None, 55, 55, 64)   4160        ['max_pooling2d_1[0][0]']        \n",
            "                                                                                                  \n",
            " bn2a_branch2a (BatchNormalizat  (None, 55, 55, 64)  256         ['res2a_branch2a[0][0]']         \n",
            " ion)                                                                                             \n",
            "                                                                                                  \n",
            " activation_50 (Activation)     (None, 55, 55, 64)   0           ['bn2a_branch2a[0][0]']          \n",
            "                                                                                                  \n",
            " res2a_branch2b (Conv2D)        (None, 55, 55, 64)   36928       ['activation_50[0][0]']          \n",
            "                                                                                                  \n",
            " bn2a_branch2b (BatchNormalizat  (None, 55, 55, 64)  256         ['res2a_branch2b[0][0]']         \n",
            " ion)                                                                                             \n",
            "                                                                                                  \n",
            " activation_51 (Activation)     (None, 55, 55, 64)   0           ['bn2a_branch2b[0][0]']          \n",
            "                                                                                                  \n",
            " res2a_branch2c (Conv2D)        (None, 55, 55, 256)  16640       ['activation_51[0][0]']          \n",
            "                                                                                                  \n",
            " res2a_branch1 (Conv2D)         (None, 55, 55, 256)  16640       ['max_pooling2d_1[0][0]']        \n",
            "                                                                                                  \n",
            " bn2a_branch2c (BatchNormalizat  (None, 55, 55, 256)  1024       ['res2a_branch2c[0][0]']         \n",
            " ion)                                                                                             \n",
            "                                                                                                  \n",
            " bn2a_branch1 (BatchNormalizati  (None, 55, 55, 256)  1024       ['res2a_branch1[0][0]']          \n",
            " on)                                                                                              \n",
            "                                                                                                  \n",
            " add_16 (Add)                   (None, 55, 55, 256)  0           ['bn2a_branch2c[0][0]',          \n",
            "                                                                  'bn2a_branch1[0][0]']           \n",
            "                                                                                                  \n",
            " activation_52 (Activation)     (None, 55, 55, 256)  0           ['add_16[0][0]']                 \n",
            "                                                                                                  \n",
            " res2b_branch2a (Conv2D)        (None, 55, 55, 64)   16448       ['activation_52[0][0]']          \n",
            "                                                                                                  \n",
            " bn2b_branch2a (BatchNormalizat  (None, 55, 55, 64)  256         ['res2b_branch2a[0][0]']         \n",
            " ion)                                                                                             \n",
            "                                                                                                  \n",
            " activation_53 (Activation)     (None, 55, 55, 64)   0           ['bn2b_branch2a[0][0]']          \n",
            "                                                                                                  \n",
            " res2b_branch2b (Conv2D)        (None, 55, 55, 64)   36928       ['activation_53[0][0]']          \n",
            "                                                                                                  \n",
            " bn2b_branch2b (BatchNormalizat  (None, 55, 55, 64)  256         ['res2b_branch2b[0][0]']         \n",
            " ion)                                                                                             \n",
            "                                                                                                  \n",
            " activation_54 (Activation)     (None, 55, 55, 64)   0           ['bn2b_branch2b[0][0]']          \n",
            "                                                                                                  \n",
            " res2b_branch2c (Conv2D)        (None, 55, 55, 256)  16640       ['activation_54[0][0]']          \n",
            "                                                                                                  \n",
            " bn2b_branch2c (BatchNormalizat  (None, 55, 55, 256)  1024       ['res2b_branch2c[0][0]']         \n",
            " ion)                                                                                             \n",
            "                                                                                                  \n",
            " add_17 (Add)                   (None, 55, 55, 256)  0           ['bn2b_branch2c[0][0]',          \n",
            "                                                                  'activation_52[0][0]']          \n",
            "                                                                                                  \n",
            " activation_55 (Activation)     (None, 55, 55, 256)  0           ['add_17[0][0]']                 \n",
            "                                                                                                  \n",
            " res2c_branch2a (Conv2D)        (None, 55, 55, 64)   16448       ['activation_55[0][0]']          \n",
            "                                                                                                  \n",
            " bn2c_branch2a (BatchNormalizat  (None, 55, 55, 64)  256         ['res2c_branch2a[0][0]']         \n",
            " ion)                                                                                             \n",
            "                                                                                                  \n",
            " activation_56 (Activation)     (None, 55, 55, 64)   0           ['bn2c_branch2a[0][0]']          \n",
            "                                                                                                  \n",
            " res2c_branch2b (Conv2D)        (None, 55, 55, 64)   36928       ['activation_56[0][0]']          \n",
            "                                                                                                  \n",
            " bn2c_branch2b (BatchNormalizat  (None, 55, 55, 64)  256         ['res2c_branch2b[0][0]']         \n",
            " ion)                                                                                             \n",
            "                                                                                                  \n",
            " activation_57 (Activation)     (None, 55, 55, 64)   0           ['bn2c_branch2b[0][0]']          \n",
            "                                                                                                  \n",
            " res2c_branch2c (Conv2D)        (None, 55, 55, 256)  16640       ['activation_57[0][0]']          \n",
            "                                                                                                  \n",
            " bn2c_branch2c (BatchNormalizat  (None, 55, 55, 256)  1024       ['res2c_branch2c[0][0]']         \n",
            " ion)                                                                                             \n",
            "                                                                                                  \n",
            " add_18 (Add)                   (None, 55, 55, 256)  0           ['bn2c_branch2c[0][0]',          \n",
            "                                                                  'activation_55[0][0]']          \n",
            "                                                                                                  \n",
            " activation_58 (Activation)     (None, 55, 55, 256)  0           ['add_18[0][0]']                 \n",
            "                                                                                                  \n",
            " res3a_branch2a (Conv2D)        (None, 28, 28, 128)  32896       ['activation_58[0][0]']          \n",
            "                                                                                                  \n",
            " bn3a_branch2a (BatchNormalizat  (None, 28, 28, 128)  512        ['res3a_branch2a[0][0]']         \n",
            " ion)                                                                                             \n",
            "                                                                                                  \n",
            " activation_59 (Activation)     (None, 28, 28, 128)  0           ['bn3a_branch2a[0][0]']          \n",
            "                                                                                                  \n",
            " res3a_branch2b (Conv2D)        (None, 28, 28, 128)  147584      ['activation_59[0][0]']          \n",
            "                                                                                                  \n",
            " bn3a_branch2b (BatchNormalizat  (None, 28, 28, 128)  512        ['res3a_branch2b[0][0]']         \n",
            " ion)                                                                                             \n",
            "                                                                                                  \n",
            " activation_60 (Activation)     (None, 28, 28, 128)  0           ['bn3a_branch2b[0][0]']          \n",
            "                                                                                                  \n",
            " res3a_branch2c (Conv2D)        (None, 28, 28, 512)  66048       ['activation_60[0][0]']          \n",
            "                                                                                                  \n",
            " res3a_branch1 (Conv2D)         (None, 28, 28, 512)  131584      ['activation_58[0][0]']          \n",
            "                                                                                                  \n",
            " bn3a_branch2c (BatchNormalizat  (None, 28, 28, 512)  2048       ['res3a_branch2c[0][0]']         \n",
            " ion)                                                                                             \n",
            "                                                                                                  \n",
            " bn3a_branch1 (BatchNormalizati  (None, 28, 28, 512)  2048       ['res3a_branch1[0][0]']          \n",
            " on)                                                                                              \n",
            "                                                                                                  \n",
            " add_19 (Add)                   (None, 28, 28, 512)  0           ['bn3a_branch2c[0][0]',          \n",
            "                                                                  'bn3a_branch1[0][0]']           \n",
            "                                                                                                  \n",
            " activation_61 (Activation)     (None, 28, 28, 512)  0           ['add_19[0][0]']                 \n",
            "                                                                                                  \n",
            " res3b_branch2a (Conv2D)        (None, 28, 28, 128)  65664       ['activation_61[0][0]']          \n",
            "                                                                                                  \n",
            " bn3b_branch2a (BatchNormalizat  (None, 28, 28, 128)  512        ['res3b_branch2a[0][0]']         \n",
            " ion)                                                                                             \n",
            "                                                                                                  \n",
            " activation_62 (Activation)     (None, 28, 28, 128)  0           ['bn3b_branch2a[0][0]']          \n",
            "                                                                                                  \n",
            " res3b_branch2b (Conv2D)        (None, 28, 28, 128)  147584      ['activation_62[0][0]']          \n",
            "                                                                                                  \n",
            " bn3b_branch2b (BatchNormalizat  (None, 28, 28, 128)  512        ['res3b_branch2b[0][0]']         \n",
            " ion)                                                                                             \n",
            "                                                                                                  \n",
            " activation_63 (Activation)     (None, 28, 28, 128)  0           ['bn3b_branch2b[0][0]']          \n",
            "                                                                                                  \n",
            " res3b_branch2c (Conv2D)        (None, 28, 28, 512)  66048       ['activation_63[0][0]']          \n",
            "                                                                                                  \n",
            " bn3b_branch2c (BatchNormalizat  (None, 28, 28, 512)  2048       ['res3b_branch2c[0][0]']         \n",
            " ion)                                                                                             \n",
            "                                                                                                  \n",
            " add_20 (Add)                   (None, 28, 28, 512)  0           ['bn3b_branch2c[0][0]',          \n",
            "                                                                  'activation_61[0][0]']          \n",
            "                                                                                                  \n",
            " activation_64 (Activation)     (None, 28, 28, 512)  0           ['add_20[0][0]']                 \n",
            "                                                                                                  \n",
            " res3c_branch2a (Conv2D)        (None, 28, 28, 128)  65664       ['activation_64[0][0]']          \n",
            "                                                                                                  \n",
            " bn3c_branch2a (BatchNormalizat  (None, 28, 28, 128)  512        ['res3c_branch2a[0][0]']         \n",
            " ion)                                                                                             \n",
            "                                                                                                  \n",
            " activation_65 (Activation)     (None, 28, 28, 128)  0           ['bn3c_branch2a[0][0]']          \n",
            "                                                                                                  \n",
            " res3c_branch2b (Conv2D)        (None, 28, 28, 128)  147584      ['activation_65[0][0]']          \n",
            "                                                                                                  \n",
            " bn3c_branch2b (BatchNormalizat  (None, 28, 28, 128)  512        ['res3c_branch2b[0][0]']         \n",
            " ion)                                                                                             \n",
            "                                                                                                  \n",
            " activation_66 (Activation)     (None, 28, 28, 128)  0           ['bn3c_branch2b[0][0]']          \n",
            "                                                                                                  \n",
            " res3c_branch2c (Conv2D)        (None, 28, 28, 512)  66048       ['activation_66[0][0]']          \n",
            "                                                                                                  \n",
            " bn3c_branch2c (BatchNormalizat  (None, 28, 28, 512)  2048       ['res3c_branch2c[0][0]']         \n",
            " ion)                                                                                             \n",
            "                                                                                                  \n",
            " add_21 (Add)                   (None, 28, 28, 512)  0           ['bn3c_branch2c[0][0]',          \n",
            "                                                                  'activation_64[0][0]']          \n",
            "                                                                                                  \n",
            " activation_67 (Activation)     (None, 28, 28, 512)  0           ['add_21[0][0]']                 \n",
            "                                                                                                  \n",
            " res3d_branch2a (Conv2D)        (None, 28, 28, 128)  65664       ['activation_67[0][0]']          \n",
            "                                                                                                  \n",
            " bn3d_branch2a (BatchNormalizat  (None, 28, 28, 128)  512        ['res3d_branch2a[0][0]']         \n",
            " ion)                                                                                             \n",
            "                                                                                                  \n",
            " activation_68 (Activation)     (None, 28, 28, 128)  0           ['bn3d_branch2a[0][0]']          \n",
            "                                                                                                  \n",
            " res3d_branch2b (Conv2D)        (None, 28, 28, 128)  147584      ['activation_68[0][0]']          \n",
            "                                                                                                  \n",
            " bn3d_branch2b (BatchNormalizat  (None, 28, 28, 128)  512        ['res3d_branch2b[0][0]']         \n",
            " ion)                                                                                             \n",
            "                                                                                                  \n",
            " activation_69 (Activation)     (None, 28, 28, 128)  0           ['bn3d_branch2b[0][0]']          \n",
            "                                                                                                  \n",
            " res3d_branch2c (Conv2D)        (None, 28, 28, 512)  66048       ['activation_69[0][0]']          \n",
            "                                                                                                  \n",
            " bn3d_branch2c (BatchNormalizat  (None, 28, 28, 512)  2048       ['res3d_branch2c[0][0]']         \n",
            " ion)                                                                                             \n",
            "                                                                                                  \n",
            " add_22 (Add)                   (None, 28, 28, 512)  0           ['bn3d_branch2c[0][0]',          \n",
            "                                                                  'activation_67[0][0]']          \n",
            "                                                                                                  \n",
            " activation_70 (Activation)     (None, 28, 28, 512)  0           ['add_22[0][0]']                 \n",
            "                                                                                                  \n",
            " res4a_branch2a (Conv2D)        (None, 14, 14, 256)  131328      ['activation_70[0][0]']          \n",
            "                                                                                                  \n",
            " bn4a_branch2a (BatchNormalizat  (None, 14, 14, 256)  1024       ['res4a_branch2a[0][0]']         \n",
            " ion)                                                                                             \n",
            "                                                                                                  \n",
            " activation_71 (Activation)     (None, 14, 14, 256)  0           ['bn4a_branch2a[0][0]']          \n",
            "                                                                                                  \n",
            " res4a_branch2b (Conv2D)        (None, 14, 14, 256)  590080      ['activation_71[0][0]']          \n",
            "                                                                                                  \n",
            " bn4a_branch2b (BatchNormalizat  (None, 14, 14, 256)  1024       ['res4a_branch2b[0][0]']         \n",
            " ion)                                                                                             \n",
            "                                                                                                  \n",
            " activation_72 (Activation)     (None, 14, 14, 256)  0           ['bn4a_branch2b[0][0]']          \n",
            "                                                                                                  \n",
            " res4a_branch2c (Conv2D)        (None, 14, 14, 1024  263168      ['activation_72[0][0]']          \n",
            "                                )                                                                 \n",
            "                                                                                                  \n",
            " res4a_branch1 (Conv2D)         (None, 14, 14, 1024  525312      ['activation_70[0][0]']          \n",
            "                                )                                                                 \n",
            "                                                                                                  \n",
            " bn4a_branch2c (BatchNormalizat  (None, 14, 14, 1024  4096       ['res4a_branch2c[0][0]']         \n",
            " ion)                           )                                                                 \n",
            "                                                                                                  \n",
            " bn4a_branch1 (BatchNormalizati  (None, 14, 14, 1024  4096       ['res4a_branch1[0][0]']          \n",
            " on)                            )                                                                 \n",
            "                                                                                                  \n",
            " add_23 (Add)                   (None, 14, 14, 1024  0           ['bn4a_branch2c[0][0]',          \n",
            "                                )                                 'bn4a_branch1[0][0]']           \n",
            "                                                                                                  \n",
            " activation_73 (Activation)     (None, 14, 14, 1024  0           ['add_23[0][0]']                 \n",
            "                                )                                                                 \n",
            "                                                                                                  \n",
            " res4b_branch2a (Conv2D)        (None, 14, 14, 256)  262400      ['activation_73[0][0]']          \n",
            "                                                                                                  \n",
            " bn4b_branch2a (BatchNormalizat  (None, 14, 14, 256)  1024       ['res4b_branch2a[0][0]']         \n",
            " ion)                                                                                             \n",
            "                                                                                                  \n",
            " activation_74 (Activation)     (None, 14, 14, 256)  0           ['bn4b_branch2a[0][0]']          \n",
            "                                                                                                  \n",
            " res4b_branch2b (Conv2D)        (None, 14, 14, 256)  590080      ['activation_74[0][0]']          \n",
            "                                                                                                  \n",
            " bn4b_branch2b (BatchNormalizat  (None, 14, 14, 256)  1024       ['res4b_branch2b[0][0]']         \n",
            " ion)                                                                                             \n",
            "                                                                                                  \n",
            " activation_75 (Activation)     (None, 14, 14, 256)  0           ['bn4b_branch2b[0][0]']          \n",
            "                                                                                                  \n",
            " res4b_branch2c (Conv2D)        (None, 14, 14, 1024  263168      ['activation_75[0][0]']          \n",
            "                                )                                                                 \n",
            "                                                                                                  \n",
            " bn4b_branch2c (BatchNormalizat  (None, 14, 14, 1024  4096       ['res4b_branch2c[0][0]']         \n",
            " ion)                           )                                                                 \n",
            "                                                                                                  \n",
            " add_24 (Add)                   (None, 14, 14, 1024  0           ['bn4b_branch2c[0][0]',          \n",
            "                                )                                 'activation_73[0][0]']          \n",
            "                                                                                                  \n",
            " activation_76 (Activation)     (None, 14, 14, 1024  0           ['add_24[0][0]']                 \n",
            "                                )                                                                 \n",
            "                                                                                                  \n",
            " res4c_branch2a (Conv2D)        (None, 14, 14, 256)  262400      ['activation_76[0][0]']          \n",
            "                                                                                                  \n",
            " bn4c_branch2a (BatchNormalizat  (None, 14, 14, 256)  1024       ['res4c_branch2a[0][0]']         \n",
            " ion)                                                                                             \n",
            "                                                                                                  \n",
            " activation_77 (Activation)     (None, 14, 14, 256)  0           ['bn4c_branch2a[0][0]']          \n",
            "                                                                                                  \n",
            " res4c_branch2b (Conv2D)        (None, 14, 14, 256)  590080      ['activation_77[0][0]']          \n",
            "                                                                                                  \n",
            " bn4c_branch2b (BatchNormalizat  (None, 14, 14, 256)  1024       ['res4c_branch2b[0][0]']         \n",
            " ion)                                                                                             \n",
            "                                                                                                  \n",
            " activation_78 (Activation)     (None, 14, 14, 256)  0           ['bn4c_branch2b[0][0]']          \n",
            "                                                                                                  \n",
            " res4c_branch2c (Conv2D)        (None, 14, 14, 1024  263168      ['activation_78[0][0]']          \n",
            "                                )                                                                 \n",
            "                                                                                                  \n",
            " bn4c_branch2c (BatchNormalizat  (None, 14, 14, 1024  4096       ['res4c_branch2c[0][0]']         \n",
            " ion)                           )                                                                 \n",
            "                                                                                                  \n",
            " add_25 (Add)                   (None, 14, 14, 1024  0           ['bn4c_branch2c[0][0]',          \n",
            "                                )                                 'activation_76[0][0]']          \n",
            "                                                                                                  \n",
            " activation_79 (Activation)     (None, 14, 14, 1024  0           ['add_25[0][0]']                 \n",
            "                                )                                                                 \n",
            "                                                                                                  \n",
            " res4d_branch2a (Conv2D)        (None, 14, 14, 256)  262400      ['activation_79[0][0]']          \n",
            "                                                                                                  \n",
            " bn4d_branch2a (BatchNormalizat  (None, 14, 14, 256)  1024       ['res4d_branch2a[0][0]']         \n",
            " ion)                                                                                             \n",
            "                                                                                                  \n",
            " activation_80 (Activation)     (None, 14, 14, 256)  0           ['bn4d_branch2a[0][0]']          \n",
            "                                                                                                  \n",
            " res4d_branch2b (Conv2D)        (None, 14, 14, 256)  590080      ['activation_80[0][0]']          \n",
            "                                                                                                  \n",
            " bn4d_branch2b (BatchNormalizat  (None, 14, 14, 256)  1024       ['res4d_branch2b[0][0]']         \n",
            " ion)                                                                                             \n",
            "                                                                                                  \n",
            " activation_81 (Activation)     (None, 14, 14, 256)  0           ['bn4d_branch2b[0][0]']          \n",
            "                                                                                                  \n",
            " res4d_branch2c (Conv2D)        (None, 14, 14, 1024  263168      ['activation_81[0][0]']          \n",
            "                                )                                                                 \n",
            "                                                                                                  \n",
            " bn4d_branch2c (BatchNormalizat  (None, 14, 14, 1024  4096       ['res4d_branch2c[0][0]']         \n",
            " ion)                           )                                                                 \n",
            "                                                                                                  \n",
            " add_26 (Add)                   (None, 14, 14, 1024  0           ['bn4d_branch2c[0][0]',          \n",
            "                                )                                 'activation_79[0][0]']          \n",
            "                                                                                                  \n",
            " activation_82 (Activation)     (None, 14, 14, 1024  0           ['add_26[0][0]']                 \n",
            "                                )                                                                 \n",
            "                                                                                                  \n",
            " res4e_branch2a (Conv2D)        (None, 14, 14, 256)  262400      ['activation_82[0][0]']          \n",
            "                                                                                                  \n",
            " bn4e_branch2a (BatchNormalizat  (None, 14, 14, 256)  1024       ['res4e_branch2a[0][0]']         \n",
            " ion)                                                                                             \n",
            "                                                                                                  \n",
            " activation_83 (Activation)     (None, 14, 14, 256)  0           ['bn4e_branch2a[0][0]']          \n",
            "                                                                                                  \n",
            " res4e_branch2b (Conv2D)        (None, 14, 14, 256)  590080      ['activation_83[0][0]']          \n",
            "                                                                                                  \n",
            " bn4e_branch2b (BatchNormalizat  (None, 14, 14, 256)  1024       ['res4e_branch2b[0][0]']         \n",
            " ion)                                                                                             \n",
            "                                                                                                  \n",
            " activation_84 (Activation)     (None, 14, 14, 256)  0           ['bn4e_branch2b[0][0]']          \n",
            "                                                                                                  \n",
            " res4e_branch2c (Conv2D)        (None, 14, 14, 1024  263168      ['activation_84[0][0]']          \n",
            "                                )                                                                 \n",
            "                                                                                                  \n",
            " bn4e_branch2c (BatchNormalizat  (None, 14, 14, 1024  4096       ['res4e_branch2c[0][0]']         \n",
            " ion)                           )                                                                 \n",
            "                                                                                                  \n",
            " add_27 (Add)                   (None, 14, 14, 1024  0           ['bn4e_branch2c[0][0]',          \n",
            "                                )                                 'activation_82[0][0]']          \n",
            "                                                                                                  \n",
            " activation_85 (Activation)     (None, 14, 14, 1024  0           ['add_27[0][0]']                 \n",
            "                                )                                                                 \n",
            "                                                                                                  \n",
            " res4f_branch2a (Conv2D)        (None, 14, 14, 256)  262400      ['activation_85[0][0]']          \n",
            "                                                                                                  \n",
            " bn4f_branch2a (BatchNormalizat  (None, 14, 14, 256)  1024       ['res4f_branch2a[0][0]']         \n",
            " ion)                                                                                             \n",
            "                                                                                                  \n",
            " activation_86 (Activation)     (None, 14, 14, 256)  0           ['bn4f_branch2a[0][0]']          \n",
            "                                                                                                  \n",
            " res4f_branch2b (Conv2D)        (None, 14, 14, 256)  590080      ['activation_86[0][0]']          \n",
            "                                                                                                  \n",
            " bn4f_branch2b (BatchNormalizat  (None, 14, 14, 256)  1024       ['res4f_branch2b[0][0]']         \n",
            " ion)                                                                                             \n",
            "                                                                                                  \n",
            " activation_87 (Activation)     (None, 14, 14, 256)  0           ['bn4f_branch2b[0][0]']          \n",
            "                                                                                                  \n",
            " res4f_branch2c (Conv2D)        (None, 14, 14, 1024  263168      ['activation_87[0][0]']          \n",
            "                                )                                                                 \n",
            "                                                                                                  \n",
            " bn4f_branch2c (BatchNormalizat  (None, 14, 14, 1024  4096       ['res4f_branch2c[0][0]']         \n",
            " ion)                           )                                                                 \n",
            "                                                                                                  \n",
            " add_28 (Add)                   (None, 14, 14, 1024  0           ['bn4f_branch2c[0][0]',          \n",
            "                                )                                 'activation_85[0][0]']          \n",
            "                                                                                                  \n",
            " activation_88 (Activation)     (None, 14, 14, 1024  0           ['add_28[0][0]']                 \n",
            "                                )                                                                 \n",
            "                                                                                                  \n",
            " res5a_branch2a (Conv2D)        (None, 7, 7, 512)    524800      ['activation_88[0][0]']          \n",
            "                                                                                                  \n",
            " bn5a_branch2a (BatchNormalizat  (None, 7, 7, 512)   2048        ['res5a_branch2a[0][0]']         \n",
            " ion)                                                                                             \n",
            "                                                                                                  \n",
            " activation_89 (Activation)     (None, 7, 7, 512)    0           ['bn5a_branch2a[0][0]']          \n",
            "                                                                                                  \n",
            " res5a_branch2b (Conv2D)        (None, 7, 7, 512)    2359808     ['activation_89[0][0]']          \n",
            "                                                                                                  \n",
            " bn5a_branch2b (BatchNormalizat  (None, 7, 7, 512)   2048        ['res5a_branch2b[0][0]']         \n",
            " ion)                                                                                             \n",
            "                                                                                                  \n",
            " activation_90 (Activation)     (None, 7, 7, 512)    0           ['bn5a_branch2b[0][0]']          \n",
            "                                                                                                  \n",
            " res5a_branch2c (Conv2D)        (None, 7, 7, 2048)   1050624     ['activation_90[0][0]']          \n",
            "                                                                                                  \n",
            " res5a_branch1 (Conv2D)         (None, 7, 7, 2048)   2099200     ['activation_88[0][0]']          \n",
            "                                                                                                  \n",
            " bn5a_branch2c (BatchNormalizat  (None, 7, 7, 2048)  8192        ['res5a_branch2c[0][0]']         \n",
            " ion)                                                                                             \n",
            "                                                                                                  \n",
            " bn5a_branch1 (BatchNormalizati  (None, 7, 7, 2048)  8192        ['res5a_branch1[0][0]']          \n",
            " on)                                                                                              \n",
            "                                                                                                  \n",
            " add_29 (Add)                   (None, 7, 7, 2048)   0           ['bn5a_branch2c[0][0]',          \n",
            "                                                                  'bn5a_branch1[0][0]']           \n",
            "                                                                                                  \n",
            " activation_91 (Activation)     (None, 7, 7, 2048)   0           ['add_29[0][0]']                 \n",
            "                                                                                                  \n",
            " res5b_branch2a (Conv2D)        (None, 7, 7, 512)    1049088     ['activation_91[0][0]']          \n",
            "                                                                                                  \n",
            " bn5b_branch2a (BatchNormalizat  (None, 7, 7, 512)   2048        ['res5b_branch2a[0][0]']         \n",
            " ion)                                                                                             \n",
            "                                                                                                  \n",
            " activation_92 (Activation)     (None, 7, 7, 512)    0           ['bn5b_branch2a[0][0]']          \n",
            "                                                                                                  \n",
            " res5b_branch2b (Conv2D)        (None, 7, 7, 512)    2359808     ['activation_92[0][0]']          \n",
            "                                                                                                  \n",
            " bn5b_branch2b (BatchNormalizat  (None, 7, 7, 512)   2048        ['res5b_branch2b[0][0]']         \n",
            " ion)                                                                                             \n",
            "                                                                                                  \n",
            " activation_93 (Activation)     (None, 7, 7, 512)    0           ['bn5b_branch2b[0][0]']          \n",
            "                                                                                                  \n",
            " res5b_branch2c (Conv2D)        (None, 7, 7, 2048)   1050624     ['activation_93[0][0]']          \n",
            "                                                                                                  \n",
            " bn5b_branch2c (BatchNormalizat  (None, 7, 7, 2048)  8192        ['res5b_branch2c[0][0]']         \n",
            " ion)                                                                                             \n",
            "                                                                                                  \n",
            " add_30 (Add)                   (None, 7, 7, 2048)   0           ['bn5b_branch2c[0][0]',          \n",
            "                                                                  'activation_91[0][0]']          \n",
            "                                                                                                  \n",
            " activation_94 (Activation)     (None, 7, 7, 2048)   0           ['add_30[0][0]']                 \n",
            "                                                                                                  \n",
            " res5c_branch2a (Conv2D)        (None, 7, 7, 512)    1049088     ['activation_94[0][0]']          \n",
            "                                                                                                  \n",
            " bn5c_branch2a (BatchNormalizat  (None, 7, 7, 512)   2048        ['res5c_branch2a[0][0]']         \n",
            " ion)                                                                                             \n",
            "                                                                                                  \n",
            " activation_95 (Activation)     (None, 7, 7, 512)    0           ['bn5c_branch2a[0][0]']          \n",
            "                                                                                                  \n",
            " res5c_branch2b (Conv2D)        (None, 7, 7, 512)    2359808     ['activation_95[0][0]']          \n",
            "                                                                                                  \n",
            " bn5c_branch2b (BatchNormalizat  (None, 7, 7, 512)   2048        ['res5c_branch2b[0][0]']         \n",
            " ion)                                                                                             \n",
            "                                                                                                  \n",
            " activation_96 (Activation)     (None, 7, 7, 512)    0           ['bn5c_branch2b[0][0]']          \n",
            "                                                                                                  \n",
            " res5c_branch2c (Conv2D)        (None, 7, 7, 2048)   1050624     ['activation_96[0][0]']          \n",
            "                                                                                                  \n",
            " bn5c_branch2c (BatchNormalizat  (None, 7, 7, 2048)  8192        ['res5c_branch2c[0][0]']         \n",
            " ion)                                                                                             \n",
            "                                                                                                  \n",
            " add_31 (Add)                   (None, 7, 7, 2048)   0           ['bn5c_branch2c[0][0]',          \n",
            "                                                                  'activation_94[0][0]']          \n",
            "                                                                                                  \n",
            " activation_97 (Activation)     (None, 7, 7, 2048)   0           ['add_31[0][0]']                 \n",
            "                                                                                                  \n",
            " conv2d_transpose_7 (Conv2DTran  (None, 14, 14, 2048  37750784   ['activation_97[0][0]']          \n",
            " spose)                         )                                                                 \n",
            "                                                                                                  \n",
            " conv2d_transpose_8 (Conv2DTran  (None, 28, 28, 512)  9437696    ['conv2d_transpose_7[0][0]']     \n",
            " spose)                                                                                           \n",
            "                                                                                                  \n",
            " conv2d_transpose_9 (Conv2DTran  (None, 56, 56, 128)  589952     ['conv2d_transpose_8[0][0]']     \n",
            " spose)                                                                                           \n",
            "                                                                                                  \n",
            " conv2d_transpose_10 (Conv2DTra  (None, 112, 112, 32  36896      ['conv2d_transpose_9[0][0]']     \n",
            " nspose)                        )                                                                 \n",
            "                                                                                                  \n",
            " conv2d_transpose_11 (Conv2DTra  (None, 224, 224, 3)  867        ['conv2d_transpose_10[0][0]']    \n",
            " nspose)                                                                                          \n",
            "                                                                                                  \n",
            " conv2d_transpose_13 (Conv2DTra  (None, 224, 224, 16  18448      ['conv2d_transpose_9[0][0]']     \n",
            " nspose)                        )                                                                 \n",
            "                                                                                                  \n",
            " conv2d_transpose_14 (Conv2DTra  (None, 224, 224, 16  4624       ['conv2d_transpose_10[0][0]']    \n",
            " nspose)                        )                                                                 \n",
            "                                                                                                  \n",
            " concatenate (Concatenate)      (None, 224, 224, 35  0           ['conv2d_transpose_13[0][0]',    \n",
            "                                )                                 'conv2d_transpose_14[0][0]',    \n",
            "                                                                  'conv2d_transpose_11[0][0]']    \n",
            "                                                                                                  \n",
            " conv2d_transpose_12 (Conv2DTra  (None, 224, 224, 3)  84         ['conv2d_transpose_11[0][0]']    \n",
            " nspose)                                                                                          \n",
            "                                                                                                  \n",
            " LLBM (Conv2D)                  (None, 224, 224, 1)  36          ['concatenate[0][0]']            \n",
            "                                                                                                  \n",
            " concatenate_1 (Concatenate)    (None, 224, 224, 4)  0           ['conv2d_transpose_12[0][0]',    \n",
            "                                                                  'LLBM[0][0]']                   \n",
            "                                                                                                  \n",
            " FBME (Conv2D)                  (None, 224, 224, 1)  5           ['concatenate_1[0][0]']          \n",
            "                                                                                                  \n",
            "==================================================================================================\n",
            "Total params: 71,427,104\n",
            "Trainable params: 71,373,984\n",
            "Non-trainable params: 53,120\n",
            "__________________________________________________________________________________________________\n"
          ]
        }
      ]
    },
    {
      "cell_type": "code",
      "source": [
        "class StopOnPoint(tf.keras.callbacks.Callback):\n",
        "    def __init__(self, point):\n",
        "        super(StopOnPoint, self).__init__()\n",
        "        self.point = point\n",
        "    def on_epoch_end(self, epoch, logs=None): \n",
        "        accuracy = logs[\"accuracy\"]\n",
        "        if accuracy >= self.point:\n",
        "            self.model.stop_training = True\n",
        "callbacks = [StopOnPoint(0.995)]"
      ],
      "metadata": {
        "id": "D0lfiNDOL3Ab"
      },
      "execution_count": null,
      "outputs": []
    },
    {
      "cell_type": "code",
      "source": [
        "loss1=tf.keras.losses.MeanSquaredError()\n",
        "model.compile(keras.optimizers.Adam(learning_rate=1e-3),loss = [loss1],metrics=[\"accuracy\"])"
      ],
      "metadata": {
        "id": "uiVla0XVL7Og"
      },
      "execution_count": null,
      "outputs": []
    },
    {
      "cell_type": "code",
      "source": [
        "x_train = CHUK_images.astype(np.float32)/ 255.0\n",
        "y_train=CHUK_labels.astype(np.float32)/ 255.0\n",
        "y_train=np.where(y_train>0.5,1.0,0.0)\n",
        "y_train=(y_train)"
      ],
      "metadata": {
        "id": "PJsG9rdkMDtx"
      },
      "execution_count": null,
      "outputs": []
    },
    {
      "cell_type": "code",
      "source": [
        "history = model.fit(x_train,y_train, epochs=120,batch_size=25, validation_split=0.0,shuffle=True,callbacks=[callbacks])\n",
        "model.save('sbdn-ablation-02-shallow-model.h5')"
      ],
      "metadata": {
        "colab": {
          "base_uri": "https://localhost:8080/"
        },
        "id": "-KwsCmIUMD2n",
        "outputId": "f7a9bd87-3694-4af7-e889-947704078bfb"
      },
      "execution_count": null,
      "outputs": [
        {
          "output_type": "stream",
          "name": "stdout",
          "text": [
            "Epoch 1/120\n",
            "32/32 [==============================] - 37s 607ms/step - loss: 0.2361 - accuracy: 0.6096\n",
            "Epoch 2/120\n",
            "32/32 [==============================] - 20s 615ms/step - loss: 0.2078 - accuracy: 0.6478\n",
            "Epoch 3/120\n",
            "32/32 [==============================] - 20s 625ms/step - loss: 0.1898 - accuracy: 0.7219\n",
            "Epoch 4/120\n",
            "32/32 [==============================] - 20s 621ms/step - loss: 0.1824 - accuracy: 0.7374\n",
            "Epoch 5/120\n",
            "32/32 [==============================] - 20s 614ms/step - loss: 0.1680 - accuracy: 0.7624\n",
            "Epoch 6/120\n",
            "32/32 [==============================] - 20s 616ms/step - loss: 0.1687 - accuracy: 0.7586\n",
            "Epoch 7/120\n",
            "32/32 [==============================] - 20s 620ms/step - loss: 0.1689 - accuracy: 0.7630\n",
            "Epoch 8/120\n",
            "32/32 [==============================] - 20s 619ms/step - loss: 0.1627 - accuracy: 0.7716\n",
            "Epoch 9/120\n",
            "32/32 [==============================] - 20s 617ms/step - loss: 0.1587 - accuracy: 0.7795\n",
            "Epoch 10/120\n",
            "32/32 [==============================] - 20s 618ms/step - loss: 0.1606 - accuracy: 0.7739\n",
            "Epoch 11/120\n",
            "32/32 [==============================] - 20s 619ms/step - loss: 0.1507 - accuracy: 0.7915\n",
            "Epoch 12/120\n",
            "32/32 [==============================] - 20s 618ms/step - loss: 0.1487 - accuracy: 0.7930\n",
            "Epoch 13/120\n",
            "32/32 [==============================] - 20s 616ms/step - loss: 0.1453 - accuracy: 0.8010\n",
            "Epoch 14/120\n",
            "32/32 [==============================] - 20s 617ms/step - loss: 0.1466 - accuracy: 0.7961\n",
            "Epoch 15/120\n",
            "32/32 [==============================] - 20s 618ms/step - loss: 0.1411 - accuracy: 0.8061\n",
            "Epoch 16/120\n",
            "32/32 [==============================] - 20s 618ms/step - loss: 0.1383 - accuracy: 0.8085\n",
            "Epoch 17/120\n",
            "32/32 [==============================] - 20s 618ms/step - loss: 0.1329 - accuracy: 0.8197\n",
            "Epoch 18/120\n",
            "32/32 [==============================] - 20s 618ms/step - loss: 0.1289 - accuracy: 0.8263\n",
            "Epoch 19/120\n",
            "32/32 [==============================] - 20s 617ms/step - loss: 0.1317 - accuracy: 0.8223\n",
            "Epoch 20/120\n",
            "32/32 [==============================] - 20s 617ms/step - loss: 0.1270 - accuracy: 0.8285\n",
            "Epoch 21/120\n",
            "32/32 [==============================] - 20s 617ms/step - loss: 0.1201 - accuracy: 0.8389\n",
            "Epoch 22/120\n",
            "32/32 [==============================] - 20s 617ms/step - loss: 0.1142 - accuracy: 0.8497\n",
            "Epoch 23/120\n",
            "32/32 [==============================] - 20s 617ms/step - loss: 0.1139 - accuracy: 0.8502\n",
            "Epoch 24/120\n",
            "32/32 [==============================] - 20s 617ms/step - loss: 0.1051 - accuracy: 0.8563\n",
            "Epoch 25/120\n",
            "32/32 [==============================] - 20s 618ms/step - loss: 0.1004 - accuracy: 0.8611\n",
            "Epoch 26/120\n",
            "32/32 [==============================] - 20s 617ms/step - loss: 0.0927 - accuracy: 0.8721\n",
            "Epoch 27/120\n",
            "32/32 [==============================] - 20s 619ms/step - loss: 0.0866 - accuracy: 0.8820\n",
            "Epoch 28/120\n",
            "32/32 [==============================] - 20s 618ms/step - loss: 0.0793 - accuracy: 0.8920\n",
            "Epoch 29/120\n",
            "32/32 [==============================] - 20s 618ms/step - loss: 0.0749 - accuracy: 0.8993\n",
            "Epoch 30/120\n",
            "32/32 [==============================] - 20s 619ms/step - loss: 0.0724 - accuracy: 0.9031\n",
            "Epoch 31/120\n",
            "32/32 [==============================] - 20s 618ms/step - loss: 0.0739 - accuracy: 0.8995\n",
            "Epoch 32/120\n",
            "32/32 [==============================] - 20s 619ms/step - loss: 0.0710 - accuracy: 0.9037\n",
            "Epoch 33/120\n",
            "32/32 [==============================] - 20s 618ms/step - loss: 0.0658 - accuracy: 0.9115\n",
            "Epoch 34/120\n",
            "32/32 [==============================] - 20s 618ms/step - loss: 0.0618 - accuracy: 0.9168\n",
            "Epoch 35/120\n",
            "32/32 [==============================] - 20s 618ms/step - loss: 0.0609 - accuracy: 0.9189\n",
            "Epoch 36/120\n",
            "32/32 [==============================] - 20s 618ms/step - loss: 0.0555 - accuracy: 0.9255\n",
            "Epoch 37/120\n",
            "32/32 [==============================] - 20s 618ms/step - loss: 0.0523 - accuracy: 0.9304\n",
            "Epoch 38/120\n",
            "32/32 [==============================] - 20s 618ms/step - loss: 0.0484 - accuracy: 0.9359\n",
            "Epoch 39/120\n",
            "32/32 [==============================] - 20s 619ms/step - loss: 0.0437 - accuracy: 0.9420\n",
            "Epoch 40/120\n",
            "32/32 [==============================] - 20s 617ms/step - loss: 0.0450 - accuracy: 0.9403\n",
            "Epoch 41/120\n",
            "32/32 [==============================] - 20s 617ms/step - loss: 0.0454 - accuracy: 0.9397\n",
            "Epoch 42/120\n",
            "32/32 [==============================] - 20s 618ms/step - loss: 0.0437 - accuracy: 0.9419\n",
            "Epoch 43/120\n",
            "32/32 [==============================] - 20s 619ms/step - loss: 0.0395 - accuracy: 0.9475\n",
            "Epoch 44/120\n",
            "32/32 [==============================] - 20s 618ms/step - loss: 0.0363 - accuracy: 0.9522\n",
            "Epoch 45/120\n",
            "32/32 [==============================] - 20s 619ms/step - loss: 0.0366 - accuracy: 0.9514\n",
            "Epoch 46/120\n",
            "32/32 [==============================] - 20s 620ms/step - loss: 0.0364 - accuracy: 0.9519\n",
            "Epoch 47/120\n",
            "32/32 [==============================] - 20s 621ms/step - loss: 0.0341 - accuracy: 0.9548\n",
            "Epoch 48/120\n",
            "32/32 [==============================] - 20s 619ms/step - loss: 0.0341 - accuracy: 0.9548\n",
            "Epoch 49/120\n",
            "32/32 [==============================] - 20s 620ms/step - loss: 0.0358 - accuracy: 0.9525\n",
            "Epoch 50/120\n",
            "32/32 [==============================] - 20s 619ms/step - loss: 0.0333 - accuracy: 0.9559\n",
            "Epoch 51/120\n",
            "32/32 [==============================] - 20s 619ms/step - loss: 0.0304 - accuracy: 0.9599\n",
            "Epoch 52/120\n",
            "32/32 [==============================] - 20s 618ms/step - loss: 0.0291 - accuracy: 0.9616\n",
            "Epoch 53/120\n",
            "32/32 [==============================] - 20s 619ms/step - loss: 0.0274 - accuracy: 0.9639\n",
            "Epoch 54/120\n",
            "32/32 [==============================] - 20s 619ms/step - loss: 0.0264 - accuracy: 0.9653\n",
            "Epoch 55/120\n",
            "32/32 [==============================] - 20s 618ms/step - loss: 0.0286 - accuracy: 0.9624\n",
            "Epoch 56/120\n",
            "32/32 [==============================] - 20s 619ms/step - loss: 0.0303 - accuracy: 0.9600\n",
            "Epoch 57/120\n",
            "32/32 [==============================] - 20s 619ms/step - loss: 0.0264 - accuracy: 0.9652\n",
            "Epoch 58/120\n",
            "32/32 [==============================] - 20s 619ms/step - loss: 0.0226 - accuracy: 0.9704\n",
            "Epoch 59/120\n",
            "32/32 [==============================] - 20s 619ms/step - loss: 0.0202 - accuracy: 0.9735\n",
            "Epoch 60/120\n",
            "32/32 [==============================] - 20s 619ms/step - loss: 0.0187 - accuracy: 0.9755\n",
            "Epoch 61/120\n",
            "32/32 [==============================] - 20s 619ms/step - loss: 0.0177 - accuracy: 0.9770\n",
            "Epoch 62/120\n",
            "32/32 [==============================] - 20s 619ms/step - loss: 0.0168 - accuracy: 0.9781\n",
            "Epoch 63/120\n",
            "32/32 [==============================] - 20s 620ms/step - loss: 0.0170 - accuracy: 0.9779\n",
            "Epoch 64/120\n",
            "32/32 [==============================] - 20s 620ms/step - loss: 0.0160 - accuracy: 0.9792\n",
            "Epoch 65/120\n",
            "32/32 [==============================] - 20s 619ms/step - loss: 0.0154 - accuracy: 0.9799\n",
            "Epoch 66/120\n",
            "32/32 [==============================] - 20s 620ms/step - loss: 0.0143 - accuracy: 0.9814\n",
            "Epoch 67/120\n",
            "32/32 [==============================] - 20s 620ms/step - loss: 0.0134 - accuracy: 0.9826\n",
            "Epoch 68/120\n",
            "32/32 [==============================] - 20s 620ms/step - loss: 0.0125 - accuracy: 0.9838\n",
            "Epoch 69/120\n",
            "32/32 [==============================] - 20s 619ms/step - loss: 0.0123 - accuracy: 0.9841\n",
            "Epoch 70/120\n",
            "32/32 [==============================] - 20s 619ms/step - loss: 0.0118 - accuracy: 0.9847\n",
            "Epoch 71/120\n",
            "32/32 [==============================] - 20s 620ms/step - loss: 0.0111 - accuracy: 0.9856\n",
            "Epoch 72/120\n",
            "32/32 [==============================] - 20s 621ms/step - loss: 0.0108 - accuracy: 0.9859\n",
            "Epoch 73/120\n",
            "32/32 [==============================] - 20s 620ms/step - loss: 0.0106 - accuracy: 0.9863\n",
            "Epoch 74/120\n",
            "32/32 [==============================] - 20s 620ms/step - loss: 0.0105 - accuracy: 0.9864\n",
            "Epoch 75/120\n",
            "32/32 [==============================] - 20s 620ms/step - loss: 0.0098 - accuracy: 0.9874\n",
            "Epoch 76/120\n",
            "32/32 [==============================] - 20s 620ms/step - loss: 0.0090 - accuracy: 0.9883\n",
            "Epoch 77/120\n",
            "32/32 [==============================] - 20s 620ms/step - loss: 0.0087 - accuracy: 0.9888\n",
            "Epoch 78/120\n",
            "32/32 [==============================] - 20s 620ms/step - loss: 0.0082 - accuracy: 0.9894\n",
            "Epoch 79/120\n",
            "32/32 [==============================] - 20s 620ms/step - loss: 0.0078 - accuracy: 0.9900\n",
            "Epoch 80/120\n",
            "32/32 [==============================] - 20s 621ms/step - loss: 0.0078 - accuracy: 0.9899\n",
            "Epoch 81/120\n",
            "32/32 [==============================] - 20s 621ms/step - loss: 0.0079 - accuracy: 0.9898\n",
            "Epoch 82/120\n",
            "32/32 [==============================] - 20s 620ms/step - loss: 0.0083 - accuracy: 0.9893\n",
            "Epoch 83/120\n",
            "32/32 [==============================] - 20s 620ms/step - loss: 0.0074 - accuracy: 0.9904\n",
            "Epoch 84/120\n",
            "32/32 [==============================] - 20s 621ms/step - loss: 0.0067 - accuracy: 0.9914\n",
            "Epoch 85/120\n",
            "32/32 [==============================] - 20s 620ms/step - loss: 0.0062 - accuracy: 0.9921\n",
            "Epoch 86/120\n",
            "32/32 [==============================] - 20s 621ms/step - loss: 0.0059 - accuracy: 0.9925\n",
            "Epoch 87/120\n",
            "32/32 [==============================] - 20s 621ms/step - loss: 0.0057 - accuracy: 0.9927\n",
            "Epoch 88/120\n",
            "32/32 [==============================] - 20s 621ms/step - loss: 0.0053 - accuracy: 0.9933\n",
            "Epoch 89/120\n",
            "32/32 [==============================] - 20s 621ms/step - loss: 0.0052 - accuracy: 0.9934\n",
            "Epoch 90/120\n",
            "32/32 [==============================] - 20s 620ms/step - loss: 0.0051 - accuracy: 0.9935\n",
            "Epoch 91/120\n",
            "32/32 [==============================] - 20s 620ms/step - loss: 0.0050 - accuracy: 0.9936\n",
            "Epoch 92/120\n",
            "32/32 [==============================] - 20s 619ms/step - loss: 0.0048 - accuracy: 0.9939\n",
            "Epoch 93/120\n",
            "32/32 [==============================] - 20s 620ms/step - loss: 0.0046 - accuracy: 0.9942\n",
            "Epoch 94/120\n",
            "32/32 [==============================] - 20s 620ms/step - loss: 0.0045 - accuracy: 0.9943\n",
            "Epoch 95/120\n",
            "32/32 [==============================] - 20s 620ms/step - loss: 0.0045 - accuracy: 0.9943\n",
            "Epoch 96/120\n",
            "32/32 [==============================] - 20s 621ms/step - loss: 0.0042 - accuracy: 0.9946\n",
            "Epoch 97/120\n",
            "32/32 [==============================] - 20s 620ms/step - loss: 0.0040 - accuracy: 0.9950\n",
            "Epoch 98/120\n",
            "32/32 [==============================] - 20s 620ms/step - loss: 0.0040 - accuracy: 0.9950\n",
            "Epoch 99/120\n",
            "32/32 [==============================] - 20s 620ms/step - loss: 0.0043 - accuracy: 0.9945\n",
            "Epoch 100/120\n",
            "32/32 [==============================] - 20s 621ms/step - loss: 0.0040 - accuracy: 0.9949\n",
            "Epoch 101/120\n",
            "32/32 [==============================] - 20s 619ms/step - loss: 0.0038 - accuracy: 0.9953\n",
            "Epoch 102/120\n",
            "32/32 [==============================] - 20s 620ms/step - loss: 0.0036 - accuracy: 0.9955\n",
            "Epoch 103/120\n",
            "32/32 [==============================] - 20s 621ms/step - loss: 0.0033 - accuracy: 0.9959\n",
            "Epoch 104/120\n",
            "32/32 [==============================] - 20s 621ms/step - loss: 0.0031 - accuracy: 0.9961\n",
            "Epoch 105/120\n",
            "32/32 [==============================] - 20s 620ms/step - loss: 0.0031 - accuracy: 0.9961\n",
            "Epoch 106/120\n",
            "32/32 [==============================] - 20s 620ms/step - loss: 0.0031 - accuracy: 0.9961\n",
            "Epoch 107/120\n",
            "32/32 [==============================] - 20s 620ms/step - loss: 0.0034 - accuracy: 0.9957\n",
            "Epoch 108/120\n",
            "32/32 [==============================] - 20s 620ms/step - loss: 0.0371 - accuracy: 0.9519\n",
            "Epoch 109/120\n",
            "32/32 [==============================] - 20s 618ms/step - loss: 0.1046 - accuracy: 0.8591\n",
            "Epoch 110/120\n",
            "32/32 [==============================] - 20s 618ms/step - loss: 0.0843 - accuracy: 0.8848\n",
            "Epoch 111/120\n",
            "32/32 [==============================] - 20s 620ms/step - loss: 0.0671 - accuracy: 0.9093\n",
            "Epoch 112/120\n",
            "32/32 [==============================] - 20s 618ms/step - loss: 0.0500 - accuracy: 0.9329\n",
            "Epoch 113/120\n",
            "32/32 [==============================] - 20s 619ms/step - loss: 0.0390 - accuracy: 0.9482\n",
            "Epoch 114/120\n",
            "32/32 [==============================] - 20s 619ms/step - loss: 0.0280 - accuracy: 0.9632\n",
            "Epoch 115/120\n",
            "32/32 [==============================] - 20s 620ms/step - loss: 0.0179 - accuracy: 0.9765\n",
            "Epoch 116/120\n",
            "32/32 [==============================] - 20s 620ms/step - loss: 0.0143 - accuracy: 0.9813\n",
            "Epoch 117/120\n",
            "32/32 [==============================] - 20s 620ms/step - loss: 0.0096 - accuracy: 0.9875\n",
            "Epoch 118/120\n",
            "32/32 [==============================] - 20s 620ms/step - loss: 0.0068 - accuracy: 0.9911\n",
            "Epoch 119/120\n",
            "32/32 [==============================] - 20s 620ms/step - loss: 0.0055 - accuracy: 0.9930\n",
            "Epoch 120/120\n",
            "32/32 [==============================] - 20s 620ms/step - loss: 0.0043 - accuracy: 0.9945\n"
          ]
        }
      ]
    },
    {
      "cell_type": "code",
      "source": [
        "history_dict = history.history\n",
        "print(history_dict.keys())"
      ],
      "metadata": {
        "colab": {
          "base_uri": "https://localhost:8080/"
        },
        "id": "AKC5KCCIQlnk",
        "outputId": "eb9c44ee-5054-4620-de86-956fd2968d14"
      },
      "execution_count": null,
      "outputs": [
        {
          "output_type": "stream",
          "name": "stdout",
          "text": [
            "dict_keys(['loss', 'accuracy'])\n"
          ]
        }
      ]
    },
    {
      "cell_type": "code",
      "source": [
        "model = load_model(\"sbdn-ablation-02-shallow-model.h5\")"
      ],
      "metadata": {
        "id": "ER5iaMB6Q6Tp"
      },
      "execution_count": null,
      "outputs": []
    },
    {
      "cell_type": "code",
      "source": [
        "import pandas as pd\n",
        "hist_df = pd.DataFrame(history.history)\n",
        "hist_csv_file = 'sbdn-shi-history.csv'\n",
        "with open(hist_csv_file, mode='w') as f:\n",
        "    hist_df.to_csv(f)"
      ],
      "metadata": {
        "id": "1XVFNd71QozD"
      },
      "execution_count": null,
      "outputs": []
    },
    {
      "cell_type": "code",
      "source": [
        "import matplotlib.pyplot as plt\n",
        "plt.plot(history.history[\"accuracy\"])\n",
        "#plt.plot(history.history['val_accuracy'])\n",
        "plt.plot(history.history['loss'])\n",
        "#plt.plot(history.history['val_loss'])\n",
        "plt.title(\"model accuracy\")\n",
        "plt.ylabel(\"Accuracy\")\n",
        "plt.xlabel(\"Epoch\")\n",
        "plt.legend([\"Accuracy\",\"loss\"])\n",
        "plt.show()"
      ],
      "metadata": {
        "colab": {
          "base_uri": "https://localhost:8080/",
          "height": 295
        },
        "id": "lqVirRptQpnE",
        "outputId": "ce1cc0b7-23c2-43bd-b42d-f6fe197423ec"
      },
      "execution_count": null,
      "outputs": [
        {
          "output_type": "display_data",
          "data": {
            "text/plain": [
              "<Figure size 432x288 with 1 Axes>"
            ],
            "image/png": "[encoded data removed]"
          },
          "metadata": {
            "needs_background": "light"
          }
        }
      ]
    },
    {
      "cell_type": "code",
      "source": [
        "!unzip -qq shi200test.zip\n",
        "!unzip -qq shi200test-gt.zip"
      ],
      "metadata": {
        "id": "VHc-Gj6hLcN_"
      },
      "execution_count": null,
      "outputs": []
    },
    {
      "cell_type": "code",
      "source": [
        "images_folder= \"shi200test/*\"\n",
        "labels_folder = \"shi200test-gt/\"\n",
        "def data_preprocessing(images_folder,labels_folder):\n",
        "  total_img = []\n",
        "  label = []\n",
        "  labels_identities=[]\n",
        "  files = glob.glob (images_folder)\n",
        "  for myFile in files:\n",
        "      image_name=os.path.split(myFile)[1]\n",
        "      # image resize\n",
        "      image = Image.open(myFile)\n",
        "      image = image.resize((224, 224))\n",
        "      image = np.asarray(image)\n",
        "      total_img.append(image)\n",
        "      #Gt\n",
        "      image_name=image_name[:-3]\n",
        "      image_name=image_name+'png'\n",
        "      labels_identities.append(image_name)\n",
        "      label_image = Image.open(labels_folder+image_name)\n",
        "      label_image = label_image.resize((224, 224))\n",
        "      label_image = np.asarray(label_image)\n",
        "      if (label_image.shape!=(224,224)):\n",
        "        label_image=label_image[:,:,0]\n",
        "      label.append (label_image)\n",
        "  total_img = np.array(total_img)\n",
        "  label = np.array(label)\n",
        "  label= np.reshape(label,[label.shape[0],label.shape[1],label.shape[2]])\n",
        "  total_img= np.reshape(total_img,[total_img.shape[0],total_img.shape[1],total_img.shape[2],total_img.shape[3]]) \n",
        "  return label,total_img,labels_identities"
      ],
      "metadata": {
        "id": "2xG3PvuFLqV3"
      },
      "execution_count": null,
      "outputs": []
    },
    {
      "cell_type": "code",
      "source": [
        "eval_labels,eval_images,labels_names=data_preprocessing(images_folder,labels_folder)"
      ],
      "metadata": {
        "id": "VEtgwMDrLu1X"
      },
      "execution_count": null,
      "outputs": []
    },
    {
      "cell_type": "code",
      "source": [
        "eval_images.shape"
      ],
      "metadata": {
        "colab": {
          "base_uri": "https://localhost:8080/"
        },
        "id": "tr-F9ebGLwpb",
        "outputId": "785080f5-72b1-46eb-dff2-f04275d161b7"
      },
      "execution_count": null,
      "outputs": [
        {
          "output_type": "execute_result",
          "data": {
            "text/plain": [
              "(200, 224, 224, 3)"
            ]
          },
          "metadata": {},
          "execution_count": 33
        }
      ]
    },
    {
      "cell_type": "code",
      "source": [
        "eval_labels.shape"
      ],
      "metadata": {
        "colab": {
          "base_uri": "https://localhost:8080/"
        },
        "id": "RAmjGM5tL0rl",
        "outputId": "72081e41-690f-41aa-a96c-07c4e989d97a"
      },
      "execution_count": null,
      "outputs": [
        {
          "output_type": "execute_result",
          "data": {
            "text/plain": [
              "(200, 224, 224)"
            ]
          },
          "metadata": {},
          "execution_count": 34
        }
      ]
    },
    {
      "cell_type": "code",
      "source": [
        "\n",
        "from keras.models import load_model\n",
        "from PIL import Image\n",
        "images = eval_images\n",
        "predictions=[]\n",
        "for i in range(images.shape[0]):\n",
        "  img = images[i]\n",
        "  img = img.astype(np.float32)/ 255.0\n",
        "  img = np.expand_dims(img, -1)\n",
        "  img = np.expand_dims(img, 0)\n",
        "  pred = model.predict(img)\n",
        "  predictions.append(pred)"
      ],
      "metadata": {
        "id": "q48BJRIcL91z"
      },
      "execution_count": null,
      "outputs": []
    },
    {
      "cell_type": "code",
      "source": [
        "len(predictions)"
      ],
      "metadata": {
        "colab": {
          "base_uri": "https://localhost:8080/"
        },
        "id": "o_bBVM1JQ31n",
        "outputId": "934e4c7b-e729-41fb-9182-8bdfacb55ca8"
      },
      "execution_count": null,
      "outputs": [
        {
          "output_type": "execute_result",
          "data": {
            "text/plain": [
              "200"
            ]
          },
          "metadata": {},
          "execution_count": 36
        }
      ]
    },
    {
      "cell_type": "markdown",
      "source": [
        "## **Evaluation with Shi et al (Chuk) Dataset**"
      ],
      "metadata": {
        "id": "Z-7A18OFTQvq"
      }
    },
    {
      "cell_type": "markdown",
      "source": [
        "## Instantiate Optimal Threshould for Evaluation Ground Truths"
      ],
      "metadata": {
        "id": "SSvGXwoXROxm"
      }
    },
    {
      "cell_type": "code",
      "source": [
        "ground_truth_total=eval_labels/255.0\n",
        "ground_truth_total=np.where(ground_truth_total>0.5,1.0,0.0)"
      ],
      "metadata": {
        "id": "b7A9wPNgRRGo"
      },
      "execution_count": null,
      "outputs": []
    },
    {
      "cell_type": "code",
      "source": [
        "pred_labels_total=[]\n",
        "for i in range(len(predictions)):\n",
        "  hh = (predictions[i])[0]\n",
        "  hh = hh[:,:,0]\n",
        "  pred_labels_total.append(hh)\n",
        "pred_labels_total=np.array(pred_labels_total)"
      ],
      "metadata": {
        "id": "7ufrTDIlMU-2"
      },
      "execution_count": null,
      "outputs": []
    },
    {
      "cell_type": "markdown",
      "source": [
        "## Mean Absolute Error"
      ],
      "metadata": {
        "id": "UChJBbGeRWD4"
      }
    },
    {
      "cell_type": "code",
      "source": [
        "def get_mae(true_label, y_pred_label):\n",
        "  absolute_error=[]\n",
        "  for i in range(0,len(true_label)):\n",
        "    y_pred = np.where(y_pred_label[i]>0.5,1.0,0.0)\n",
        "    y_true=true_label[i]\n",
        "    mae = tf.keras.losses.MeanAbsoluteError()\n",
        "    m = mae(y_true, y_pred).numpy()\n",
        "    absolute_error.append(m)\n",
        "  return mean(absolute_error)\n",
        "mean_absolute_error= get_mae(ground_truth_total,pred_labels_total)\n",
        "print('Mean Absolute Error for Evaluation set: ',mean_absolute_error)"
      ],
      "metadata": {
        "colab": {
          "base_uri": "https://localhost:8080/"
        },
        "id": "kvINYOQWRaAO",
        "outputId": "4903cdf3-2416-4120-cc79-da782dc2371a"
      },
      "execution_count": null,
      "outputs": [
        {
          "output_type": "stream",
          "name": "stdout",
          "text": [
            "Mean Absolute Error for Evaluation set:  0.19162139269770406\n"
          ]
        }
      ]
    },
    {
      "cell_type": "markdown",
      "source": [
        "## Average Optimal Image Scale OIS-F score"
      ],
      "metadata": {
        "id": "WcD-6EhfSYn7"
      }
    },
    {
      "cell_type": "code",
      "source": [
        "from sklearn.metrics import precision_score,recall_score\n",
        "threshoulds=[0.3,0.4,0.5,0.6,0.7]\n",
        "beta2=0.2\n",
        "def recall_precison(y_true,y_pred):\n",
        "  OIS_F=[]\n",
        "  Fb=[]\n",
        "  for i in range(0,len(y_pred)):\n",
        "    OIS_F_thr=[]\n",
        "    fb_thr=[]\n",
        "    for thr in threshoulds:\n",
        "      pr=np.where(y_pred[i]>thr,1.0,0.0)\n",
        "      #pr=reshape(pr,[224,224])\n",
        "      pred_precision_score=precision_score(y_true[i],pr, average='weighted')\n",
        "      pred_recall_score=recall_score(y_true[i],pr, average='weighted')\n",
        "      OIS=2*pred_precision_score*pred_recall_score/(pred_precision_score+pred_recall_score)\n",
        "      fb=(1+beta2)*pred_precision_score*pred_recall_score/(beta2 * pred_precision_score+pred_recall_score)\n",
        "      fb_thr.append(fb)\n",
        "      OIS_F_thr.append(OIS)\n",
        "    Fb.append(fb_thr)\n",
        "    OIS_F.append(OIS_F_thr)\n",
        "  return OIS_F,Fb"
      ],
      "metadata": {
        "id": "cEgayh4_MmDI"
      },
      "execution_count": null,
      "outputs": []
    },
    {
      "cell_type": "code",
      "source": [
        "OIS_array,Fb_array=recall_precison(ground_truth_total,pred_labels_total)"
      ],
      "metadata": {
        "id": "xSQoNrKcMoWl"
      },
      "execution_count": null,
      "outputs": []
    },
    {
      "cell_type": "code",
      "source": [
        "def Fb_score(Fb_array):\n",
        "  best_Fb=[]\n",
        "  for results in Fb_array:\n",
        "    f_score=max(results)\n",
        "    best_Fb.append(f_score)\n",
        "  return np.nanmean(best_Fb)\n",
        "mean_Fb_score= Fb_score(Fb_array)\n",
        "print('F-measure score: ',mean_Fb_score)"
      ],
      "metadata": {
        "colab": {
          "base_uri": "https://localhost:8080/"
        },
        "id": "ZPDDGQ8mMrWb",
        "outputId": "36cb2ca5-cc25-4ee7-d03b-338a1278d49e"
      },
      "execution_count": null,
      "outputs": [
        {
          "output_type": "stream",
          "name": "stdout",
          "text": [
            "F-measure score:  0.8424901352383395\n"
          ]
        }
      ]
    },
    {
      "cell_type": "code",
      "source": [
        "def OIS_F_score(OIS_array):\n",
        "  best_OIS_F=[]\n",
        "  index_max=[]\n",
        "  for results in OIS_array:\n",
        "    f_score=max(results)\n",
        "    best_OIS_F.append(f_score)\n",
        "    index = results.index(f_score)\n",
        "    index_max.append(index)\n",
        "  return best_OIS_F,index_max\n",
        "OIS_f1,indexes=OIS_F_score(OIS_array)\n",
        "print('Average Optimal Image Scale F score: ',np.nanmean(OIS_f1))"
      ],
      "metadata": {
        "colab": {
          "base_uri": "https://localhost:8080/"
        },
        "id": "2QutMmzYMvO6",
        "outputId": "9dc2d3f3-2c0e-47b8-c4d7-7377a1d83309"
      },
      "execution_count": null,
      "outputs": [
        {
          "output_type": "stream",
          "name": "stdout",
          "text": [
            "Average Optimal Image Scale F score:  0.8324023558547395\n"
          ]
        }
      ]
    },
    {
      "cell_type": "markdown",
      "source": [
        "## Precision Recall Graph"
      ],
      "metadata": {
        "id": "G-y9EdT1R3Np"
      }
    },
    {
      "cell_type": "code",
      "source": [
        "Y_ts_pred =reshape(predictions,[len(predictions),224,224])\n",
        "Y_ts_pred = Y_ts_pred.reshape(Y_ts_pred.shape[0]*Y_ts_pred.shape[1]*Y_ts_pred.shape[2], 1)\n",
        "print(Y_ts_pred.shape)\n",
        "Y_ts = ground_truth_total.reshape(ground_truth_total.shape[0]*ground_truth_total.shape[1]*ground_truth_total.shape[2], 1)\n",
        "print(Y_ts.shape)\n",
        "Y_ts_pred = np.where(Y_ts_pred>0.5, 1, 0)\n",
        "Y_ts  = np.where(Y_ts>0.5, 1, 0)"
      ],
      "metadata": {
        "colab": {
          "base_uri": "https://localhost:8080/"
        },
        "id": "bafWnsf5R15A",
        "outputId": "2983e4af-1411-4be6-842a-289aa39e3522"
      },
      "execution_count": null,
      "outputs": [
        {
          "output_type": "stream",
          "name": "stdout",
          "text": [
            "(10035200, 1)\n",
            "(10035200, 1)\n"
          ]
        }
      ]
    },
    {
      "cell_type": "code",
      "source": [
        "from sklearn.metrics import precision_recall_curve\n",
        "from sklearn.metrics import average_precision_score\n",
        "import numpy as np\n",
        "import matplotlib.pyplot as plt\n",
        "precision, recall, thresholds = precision_recall_curve(Y_ts, Y_ts_pred)\n",
        "average_precision = average_precision_score(Y_ts, Y_ts_pred)\n",
        "precision = np.fliplr([precision])[0]  #to avoid getting negative AUC)\n",
        "recall = np.fliplr([recall])[0]  #to avoid getting negative AUC)\n",
        "AUC_prec_rec = np.trapz(precision,recall)\n",
        "print(\"\\nArea under Precision-Recall curve: \" +str(AUC_prec_rec))\n",
        "prec_rec_curve = plt.figure()\n",
        "plt.figure(figsize=(10,5))\n",
        "plt.plot(recall,precision,'-',label='Area Under the Curve (AUC = %0.4f)' % AUC_prec_rec,color=\"darkorange\")\n",
        "plt.title('Precision - Recall curve',fontsize=18)\n",
        "plt.xlabel(\"Recall\",fontsize=16)\n",
        "plt.ylabel(\"Precision\",fontsize=16)\n",
        "plt.legend(loc=\"best\",prop={'size': 14})\n",
        "plt.savefig(\"Precision_recall.png\")\n",
        "print(\"Average Precision Scores: \" +str(average_precision))"
      ],
      "metadata": {
        "colab": {
          "base_uri": "https://localhost:8080/",
          "height": 428
        },
        "id": "m1uFZ1QFSBnS",
        "outputId": "7701285f-504f-4412-d3d9-4c82f452eb63"
      },
      "execution_count": null,
      "outputs": [
        {
          "output_type": "stream",
          "name": "stdout",
          "text": [
            "\n",
            "Area under Precision-Recall curve: 0.9031424522307994\n",
            "Average Precision Scores: 0.8261098155868931\n"
          ]
        },
        {
          "output_type": "display_data",
          "data": {
            "text/plain": [
              "<Figure size 432x288 with 0 Axes>"
            ]
          },
          "metadata": {}
        },
        {
          "output_type": "display_data",
          "data": {
            "text/plain": [
              "<Figure size 720x360 with 1 Axes>"
            ],
            "image/png": "[encoded data removed]"
          },
          "metadata": {
            "needs_background": "light"
          }
        }
      ]
    },
    {
      "cell_type": "code",
      "source": [
        "beta2=0.3\n",
        "fb=(1+beta2)*precision[1]*recall[1]/((beta2 * precision[1])+recall[1])\n",
        "fb"
      ],
      "metadata": {
        "colab": {
          "base_uri": "https://localhost:8080/"
        },
        "id": "UBm1HuXKSFv4",
        "outputId": "ddcd5aa5-a214-4cd3-fd6a-90d701c0657e"
      },
      "execution_count": null,
      "outputs": [
        {
          "output_type": "execute_result",
          "data": {
            "text/plain": [
              "0.8538381138896576"
            ]
          },
          "metadata": {},
          "execution_count": 48
        }
      ]
    },
    {
      "cell_type": "markdown",
      "source": [
        "## **Evaluation with DUT Dataset**"
      ],
      "metadata": {
        "id": "OicAog5BTAhn"
      }
    },
    {
      "cell_type": "code",
      "source": [
        "!unzip -qq dut500-source.zip"
      ],
      "metadata": {
        "id": "bPXqrv9GTKM2"
      },
      "execution_count": null,
      "outputs": []
    },
    {
      "cell_type": "code",
      "source": [
        "!unzip -qq dut500-gt.zip"
      ],
      "metadata": {
        "id": "KTos1gkNUzhH"
      },
      "execution_count": null,
      "outputs": []
    },
    {
      "cell_type": "code",
      "source": [
        "from numpy import *\n",
        "images_folder= \"dut500-source/*.bmp\"\n",
        "labels_folder = \"dut500-gt/\"\n",
        "def data_preprocessing(images_folder,labels_folder):\n",
        "  total_img = []\n",
        "  label = []\n",
        "  files = glob.glob (images_folder)\n",
        "  for myFile in files:\n",
        "      image_name=os.path.split(myFile)[1]\n",
        "      img = Image.open(myFile)\n",
        "      new_img = img.resize( (224, 224))\n",
        "      image = array(new_img)\n",
        "      new_label=Image.open(labels_folder+image_name)\n",
        "      new_label = new_label.resize((224, 224))\n",
        "      label_image = array(new_label)\n",
        "      label.append (label_image)\n",
        "      total_img.append (image)\n",
        "  total_img = np.array(total_img)\n",
        "  label = np.array(label)\n",
        "  label= np.reshape(label,[label.shape[0],label.shape[1],label.shape[2]])\n",
        "  total_img= np.reshape(total_img,[total_img.shape[0],total_img.shape[1],total_img.shape[2],total_img.shape[3]])\n",
        "  return label,total_img"
      ],
      "metadata": {
        "id": "iiK0-vyTUe-Z"
      },
      "execution_count": null,
      "outputs": []
    },
    {
      "cell_type": "code",
      "source": [
        "DUT_labels,DUT_images=data_preprocessing(images_folder,labels_folder)"
      ],
      "metadata": {
        "id": "AvywuY6CWRhJ"
      },
      "execution_count": null,
      "outputs": []
    },
    {
      "cell_type": "code",
      "source": [
        "DUT_images.shape"
      ],
      "metadata": {
        "colab": {
          "base_uri": "https://localhost:8080/"
        },
        "id": "8z9LrchRWqVV",
        "outputId": "29db888f-5beb-4f39-e019-8b6c30bf56e0"
      },
      "execution_count": null,
      "outputs": [
        {
          "output_type": "execute_result",
          "data": {
            "text/plain": [
              "(500, 224, 224, 3)"
            ]
          },
          "metadata": {},
          "execution_count": 63
        }
      ]
    },
    {
      "cell_type": "code",
      "source": [
        "DUT_labels.shape"
      ],
      "metadata": {
        "colab": {
          "base_uri": "https://localhost:8080/"
        },
        "id": "75vViDQGWszu",
        "outputId": "7ca7247f-f56d-4e41-dd84-6b45a21444ae"
      },
      "execution_count": null,
      "outputs": [
        {
          "output_type": "execute_result",
          "data": {
            "text/plain": [
              "(500, 224, 224)"
            ]
          },
          "metadata": {},
          "execution_count": 64
        }
      ]
    },
    {
      "cell_type": "code",
      "source": [
        "from keras.models import load_model\n",
        "from PIL import Image\n",
        "images = DUT_images\n",
        "predictions=[]\n",
        "for i in range(images.shape[0]):\n",
        "  img = images[i]\n",
        "  img = img.astype(np.float32)/ 255.0\n",
        "  img = np.expand_dims(img, -1)\n",
        "  img = np.expand_dims(img, 0)\n",
        "  pred = model.predict(img)\n",
        "  predictions.append(pred)"
      ],
      "metadata": {
        "id": "pPl0X8OmW_tp"
      },
      "execution_count": null,
      "outputs": []
    },
    {
      "cell_type": "code",
      "source": [
        "ground_truth_total=DUT_labels/255.0\n",
        "ground_truth_total=np.where(ground_truth_total>0.5,0.0,1.0)"
      ],
      "metadata": {
        "id": "bCNm0PCeXZje"
      },
      "execution_count": null,
      "outputs": []
    },
    {
      "cell_type": "code",
      "source": [
        "def get_mae(true_label, y_pred_label):\n",
        "  absolute_error=[]\n",
        "  for i in range(0,len(true_label)):\n",
        "    #true_label = eval_labels[i]/255.0\n",
        "    pp=np.where(((y_pred_label[i])[0])>0.5,1.0,0.0)\n",
        "    y_pred=reshape(pp,[224,224])\n",
        "    y_true=true_label[i]\n",
        "    mae = tf.keras.losses.MeanAbsoluteError()\n",
        "    m = mae(y_true, y_pred).numpy()\n",
        "    absolute_error.append(m)\n",
        "  return mean(absolute_error)\n",
        "mean_absolute_error= get_mae(ground_truth_total,predictions)\n",
        "print('Mean Absolute Error for Evaluation set: ',mean_absolute_error)"
      ],
      "metadata": {
        "colab": {
          "base_uri": "https://localhost:8080/"
        },
        "id": "caIUce8tXooZ",
        "outputId": "af33c57c-3cf6-404b-d3f5-ed34ad2a7b25"
      },
      "execution_count": null,
      "outputs": [
        {
          "output_type": "stream",
          "name": "stdout",
          "text": [
            "Mean Absolute Error for Evaluation set:  0.16480955038265307\n"
          ]
        }
      ]
    },
    {
      "cell_type": "markdown",
      "source": [
        "## Precision-Recall "
      ],
      "metadata": {
        "id": "YT79n8TDUoc4"
      }
    },
    {
      "cell_type": "code",
      "source": [
        "Y_ts_pred =reshape(predictions,[len(predictions),224,224])\n",
        "Y_ts_pred = Y_ts_pred.reshape(Y_ts_pred.shape[0]*Y_ts_pred.shape[1]*Y_ts_pred.shape[2], 1)\n",
        "print(Y_ts_pred.shape)\n",
        "Y_ts = ground_truth_total.reshape(ground_truth_total.shape[0]*ground_truth_total.shape[1]*ground_truth_total.shape[2], 1)\n",
        "print(Y_ts.shape)\n",
        "Y_ts_pred = np.where(Y_ts_pred>0.5, 1, 0)\n",
        "Y_ts  = np.where(Y_ts>0.5, 1, 0)"
      ],
      "metadata": {
        "id": "NGaK6ve3UrTQ",
        "outputId": "24b66493-b94d-43d9-aee5-8687de1b55e6",
        "colab": {
          "base_uri": "https://localhost:8080/"
        }
      },
      "execution_count": null,
      "outputs": [
        {
          "output_type": "stream",
          "name": "stdout",
          "text": [
            "(25088000, 1)\n",
            "(25088000, 1)\n"
          ]
        }
      ]
    },
    {
      "cell_type": "code",
      "source": [
        "from sklearn.metrics import precision_recall_curve\n",
        "from sklearn.metrics import average_precision_score\n",
        "import numpy as np\n",
        "import matplotlib.pyplot as plt\n",
        "precision, recall, thresholds = precision_recall_curve(Y_ts, Y_ts_pred)\n",
        "average_precision = average_precision_score(Y_ts, Y_ts_pred)\n",
        "precision = np.fliplr([precision])[0]  #to avoid getting negative AUC)\n",
        "recall = np.fliplr([recall])[0]  #to avoid getting negative AUC)\n",
        "AUC_prec_rec = np.trapz(precision,recall)\n",
        "print(\"\\nArea under Precision-Recall curve: \" +str(AUC_prec_rec))\n",
        "prec_rec_curve = plt.figure()\n",
        "plt.figure(figsize=(10,5))\n",
        "plt.plot(recall,precision,'-',label='Area Under the Curve (AUC = %0.4f)' % AUC_prec_rec,color=\"darkorange\")\n",
        "plt.title('Precision - Recall curve',fontsize=18)\n",
        "plt.xlabel(\"Recall\",fontsize=16)\n",
        "plt.ylabel(\"Precision\",fontsize=16)\n",
        "plt.legend(loc=\"best\",prop={'size': 14})\n",
        "plt.savefig(\"Precision_recall.png\")\n",
        "print(\"Average Precision Scores: \" +str(average_precision))"
      ],
      "metadata": {
        "colab": {
          "base_uri": "https://localhost:8080/",
          "height": 428
        },
        "id": "RUew4DG1VAZB",
        "outputId": "f1b48351-3015-4c92-8efa-54e0346e5d02"
      },
      "execution_count": null,
      "outputs": [
        {
          "output_type": "stream",
          "name": "stdout",
          "text": [
            "\n",
            "Area under Precision-Recall curve: 0.9142959737440616\n",
            "Average Precision Scores: 0.8399384094198149\n"
          ]
        },
        {
          "output_type": "display_data",
          "data": {
            "text/plain": [
              "<Figure size 432x288 with 0 Axes>"
            ]
          },
          "metadata": {}
        },
        {
          "output_type": "display_data",
          "data": {
            "text/plain": [
              "<Figure size 720x360 with 1 Axes>"
            ],
            "image/png": "[encoded data removed]"
          },
          "metadata": {
            "needs_background": "light"
          }
        }
      ]
    },
    {
      "cell_type": "code",
      "source": [
        "beta2=0.3\n",
        "fb=(1+beta2)*precision[1]*recall[1]/((beta2 * precision[1])+recall[1])\n",
        "fb"
      ],
      "metadata": {
        "colab": {
          "base_uri": "https://localhost:8080/"
        },
        "id": "qJAtuE6vVIoO",
        "outputId": "c1047c53-8e78-4782-bc91-10e1b1d83049"
      },
      "execution_count": null,
      "outputs": [
        {
          "output_type": "execute_result",
          "data": {
            "text/plain": [
              "0.8674369790886218"
            ]
          },
          "metadata": {},
          "execution_count": 73
        }
      ]
    },
    {
      "cell_type": "code",
      "source": [
        "from sklearn.metrics import precision_score,recall_score\n",
        "threshoulds=[0.3,0.4,0.5,0.6,0.7]\n",
        "beta2=0.2\n",
        "def recall_precison(y_true,y_pred):\n",
        "  OIS_F=[]\n",
        "  Fb=[]\n",
        "  for i in range(0,len(y_pred)):\n",
        "    OIS_F_thr=[]\n",
        "    fb_thr=[]\n",
        "    for thr in threshoulds:\n",
        "      pr=np.where(((y_pred[i])[0])>thr,1.0,0.0)\n",
        "      pr=reshape(pr,[224,224])\n",
        "      pred_precision_score=precision_score(y_true[i],pr, average='weighted')\n",
        "      pred_recall_score=recall_score(y_true[i],pr, average='weighted')\n",
        "      OIS=2*pred_precision_score*pred_recall_score/(pred_precision_score+pred_recall_score)\n",
        "      fb=(1+beta2)*pred_precision_score*pred_recall_score/(beta2 * pred_precision_score+pred_recall_score)\n",
        "      fb_thr.append(fb)\n",
        "      OIS_F_thr.append(OIS)\n",
        "    Fb.append(fb_thr)\n",
        "    OIS_F.append(OIS_F_thr)\n",
        "  return OIS_F,Fb"
      ],
      "metadata": {
        "id": "_f7dXoLGX0sj"
      },
      "execution_count": null,
      "outputs": []
    },
    {
      "cell_type": "code",
      "source": [
        "OIS_array,Fb_array=recall_precison(ground_truth_total,predictions)"
      ],
      "metadata": {
        "id": "Vxag1g3xYMH9"
      },
      "execution_count": null,
      "outputs": []
    },
    {
      "cell_type": "code",
      "source": [
        "def Fb_score(Fb_array):\n",
        "  best_Fb=[]\n",
        "  for results in Fb_array:\n",
        "    f_score=max(results)\n",
        "    best_Fb.append(f_score)\n",
        "  return np.nanmean(best_Fb)\n",
        "mean_Fb_score= Fb_score(Fb_array)\n",
        "print('Fb score: ',mean_Fb_score)"
      ],
      "metadata": {
        "colab": {
          "base_uri": "https://localhost:8080/"
        },
        "id": "caeGx74rYhBt",
        "outputId": "78ac446e-a990-4e85-a723-e37e0634388b"
      },
      "execution_count": null,
      "outputs": [
        {
          "output_type": "stream",
          "name": "stdout",
          "text": [
            "Fb score:  0.8896259694277624\n"
          ]
        }
      ]
    },
    {
      "cell_type": "code",
      "source": [
        "def OIS_F_score(OIS_array):\n",
        "  best_OIS_F=[]\n",
        "  index_max=[]\n",
        "  for results in OIS_array:\n",
        "    f_score=max(results)\n",
        "    best_OIS_F.append(f_score)\n",
        "    index = results.index(f_score)\n",
        "    index_max.append(index)\n",
        "  return best_OIS_F,index_max\n",
        "OIS_f1,indexes=OIS_F_score(OIS_array)\n",
        "print('Average Optimal Image Scale F score: ',np.nanmean(OIS_f1))"
      ],
      "metadata": {
        "colab": {
          "base_uri": "https://localhost:8080/"
        },
        "id": "YJEmJVQIYv9B",
        "outputId": "4177eefa-4688-41ee-92de-87768e0089ff"
      },
      "execution_count": null,
      "outputs": [
        {
          "output_type": "stream",
          "name": "stdout",
          "text": [
            "Average Optimal Image Scale F score:  0.9002774455047008\n"
          ]
        }
      ]
    }
  ]
}