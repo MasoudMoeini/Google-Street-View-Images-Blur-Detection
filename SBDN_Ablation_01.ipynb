{
  "nbformat": 4,
  "nbformat_minor": 0,
  "metadata": {
    "colab": {
      "provenance": [],
      "machine_shape": "hm",
      "authorship_tag": "ABX9TyP9yg+UVQzL4VjFmbvIn4cK",
      "include_colab_link": true
    },
    "kernelspec": {
      "name": "python3",
      "display_name": "Python 3"
    },
    "language_info": {
      "name": "python"
    },
    "accelerator": "GPU",
    "gpuClass": "standard"
  },
  "cells": [
    {
      "cell_type": "markdown",
      "metadata": {
        "id": "view-in-github",
        "colab_type": "text"
      },
      "source": [
        "<a href=\"https://colab.research.google.com/github/MasoudMoeini/Google-Street-View-Images-Blur-Detection/blob/main/SBDN_Ablation_01.ipynb\" target=\"_parent\"><img src=\"https://colab.research.google.com/assets/colab-badge.svg\" alt=\"Open In Colab\"/></a>"
      ]
    },
    {
      "cell_type": "code",
      "execution_count": null,
      "metadata": {
        "id": "FwIyBoJJGU-7"
      },
      "outputs": [],
      "source": [
        "import cv2\n",
        "import numpy as np\n",
        "import os\n",
        "import glob\n",
        "import matplotlib.pyplot as plt\n",
        "from PIL import Image\n",
        "import tensorflow as tf\n",
        "from tensorflow import keras\n",
        "from keras import layers\n",
        "from keras.models import Sequential, Model,load_model\n",
        "from keras.optimizers import gradient_descent_v2 \n",
        "from google.colab.patches import cv2_imshow\n",
        "from keras.layers import Input, Add, Dense, Activation, ZeroPadding2D, BatchNormalization, Flatten, Conv2D, AveragePooling2D, MaxPooling2D, GlobalMaxPooling2D,MaxPool2D\n",
        "from keras.preprocessing import image\n",
        "from keras.initializers import glorot_uniform\n",
        "from keras import regularizers"
      ]
    },
    {
      "cell_type": "code",
      "source": [
        "!unzip -qq shi800train.zip"
      ],
      "metadata": {
        "id": "UN-3Xh7eJ0mc"
      },
      "execution_count": null,
      "outputs": []
    },
    {
      "cell_type": "code",
      "source": [
        "!unzip -qq shi800train-gt.zip"
      ],
      "metadata": {
        "id": "oayF0RXzFWz5"
      },
      "execution_count": null,
      "outputs": []
    },
    {
      "cell_type": "code",
      "source": [
        "from numpy import *\n",
        "images_folder= \"shi800train/*\"\n",
        "labels_folder = \"shi800train-gt/\"\n",
        "def data_preprocessing(images_folder,labels_folder):\n",
        "  total_img = []\n",
        "  label = []\n",
        "  files = glob.glob (images_folder)\n",
        "  for myFile in files:\n",
        "      image_name=os.path.split(myFile)[1]\n",
        "      # image resize\n",
        "      image = Image.open(myFile)\n",
        "      image = image.resize((224, 224))\n",
        "      image = np.asarray(image)\n",
        "      total_img.append(image)\n",
        "      #Gt\n",
        "      image_name=image_name[:-3]\n",
        "      image_name=image_name+'png'\n",
        "      label_image = Image.open(labels_folder+image_name)\n",
        "      label_image = label_image.resize((224, 224))\n",
        "      label_image = np.asarray(label_image)\n",
        "      if (label_image.shape!=(224,224)):\n",
        "        label_image=label_image[:,:,0]\n",
        "      label.append (label_image)\n",
        "  total_img = np.array(total_img)\n",
        "  label = np.array(label)\n",
        "  label= np.reshape(label,[label.shape[0],label.shape[1],label.shape[2]])\n",
        "  total_img= np.reshape(total_img,[total_img.shape[0],total_img.shape[1],total_img.shape[2],total_img.shape[3]]) \n",
        "  return label,total_img"
      ],
      "metadata": {
        "id": "ld7MfddsKv8q"
      },
      "execution_count": null,
      "outputs": []
    },
    {
      "cell_type": "code",
      "source": [
        "CHUK_labels,CHUK_images=data_preprocessing(images_folder,labels_folder)"
      ],
      "metadata": {
        "id": "xilvlhatK3mJ"
      },
      "execution_count": null,
      "outputs": []
    },
    {
      "cell_type": "code",
      "source": [
        "CHUK_images.shape"
      ],
      "metadata": {
        "colab": {
          "base_uri": "https://localhost:8080/"
        },
        "id": "QVg004lMK8Zn",
        "outputId": "18bda73a-4638-46cb-cf61-6264dc1b8cc2"
      },
      "execution_count": null,
      "outputs": [
        {
          "output_type": "execute_result",
          "data": {
            "text/plain": [
              "(800, 224, 224, 3)"
            ]
          },
          "metadata": {},
          "execution_count": 19
        }
      ]
    },
    {
      "cell_type": "code",
      "source": [
        "CHUK_labels.shape"
      ],
      "metadata": {
        "colab": {
          "base_uri": "https://localhost:8080/"
        },
        "id": "Kr5n3dVtGNEU",
        "outputId": "54b32a61-9d88-429e-c70c-772d486ddf9e"
      },
      "execution_count": null,
      "outputs": [
        {
          "output_type": "execute_result",
          "data": {
            "text/plain": [
              "(800, 224, 224)"
            ]
          },
          "metadata": {},
          "execution_count": 20
        }
      ]
    },
    {
      "cell_type": "code",
      "source": [
        "def identity_block(X, f, filters, stage, block):\n",
        "   \n",
        "    conv_name_base = 'res' + str(stage) + block + '_branch'\n",
        "    bn_name_base = 'bn' + str(stage) + block + '_branch'\n",
        "    F1, F2, F3 = filters\n",
        "\n",
        "    X_shortcut = X\n",
        "   \n",
        "    X = Conv2D(filters=F1, kernel_size=(1, 1), strides=(1, 1), padding='valid', name=conv_name_base + '2a', kernel_initializer=glorot_uniform(seed=0))(X)\n",
        "    X = BatchNormalization(axis=3, name=bn_name_base + '2a')(X)\n",
        "    X = Activation('relu')(X)\n",
        "\n",
        "    X = Conv2D(filters=F2, kernel_size=(f, f), strides=(1, 1), padding='same', name=conv_name_base + '2b', kernel_initializer=glorot_uniform(seed=0))(X)\n",
        "    X = BatchNormalization(axis=3, name=bn_name_base + '2b')(X)\n",
        "    X = Activation('relu')(X)\n",
        "\n",
        "    X = Conv2D(filters=F3, kernel_size=(1, 1), strides=(1, 1), padding='valid', name=conv_name_base + '2c', kernel_initializer=glorot_uniform(seed=0))(X)\n",
        "    X = BatchNormalization(axis=3, name=bn_name_base + '2c')(X)\n",
        "\n",
        "    X = Add()([X, X_shortcut])# SKIP Connection\n",
        "    X = Activation('relu')(X)\n",
        "\n",
        "    return X"
      ],
      "metadata": {
        "id": "SBJB2EglLB-H"
      },
      "execution_count": null,
      "outputs": []
    },
    {
      "cell_type": "code",
      "source": [
        "def convolutional_block(X, f, filters, stage, block, s=2):\n",
        "   \n",
        "    conv_name_base = 'res' + str(stage) + block + '_branch'\n",
        "    bn_name_base = 'bn' + str(stage) + block + '_branch'\n",
        "\n",
        "    F1, F2, F3 = filters\n",
        "\n",
        "    X_shortcut = X\n",
        "\n",
        "    X = Conv2D(filters=F1, kernel_size=(1, 1), strides=(s, s), padding='valid', name=conv_name_base + '2a', kernel_initializer=glorot_uniform(seed=0))(X)\n",
        "    X = BatchNormalization(axis=3, name=bn_name_base + '2a')(X)\n",
        "    X = Activation('relu')(X)\n",
        "\n",
        "    X = Conv2D(filters=F2, kernel_size=(f, f), strides=(1, 1), padding='same', name=conv_name_base + '2b', kernel_initializer=glorot_uniform(seed=0))(X)\n",
        "    X = BatchNormalization(axis=3, name=bn_name_base + '2b')(X)\n",
        "    X = Activation('relu')(X)\n",
        "\n",
        "    X = Conv2D(filters=F3, kernel_size=(1, 1), strides=(1, 1), padding='valid', name=conv_name_base + '2c', kernel_initializer=glorot_uniform(seed=0))(X)\n",
        "    X = BatchNormalization(axis=3, name=bn_name_base + '2c')(X)\n",
        "\n",
        "    X_shortcut = Conv2D(filters=F3, kernel_size=(1, 1), strides=(s, s), padding='valid', name=conv_name_base + '1', kernel_initializer=glorot_uniform(seed=0))(X_shortcut)\n",
        "    X_shortcut = BatchNormalization(axis=3, name=bn_name_base + '1')(X_shortcut)\n",
        "\n",
        "    X = Add()([X, X_shortcut])\n",
        "    X = Activation('relu')(X)\n",
        "\n",
        "    return X"
      ],
      "metadata": {
        "id": "S-1piaKJLGuQ"
      },
      "execution_count": null,
      "outputs": []
    },
    {
      "cell_type": "code",
      "source": [
        "def decoder_network(HLSF):\n",
        "  # 7*7*2048 is input tensor \n",
        "  #decoder \n",
        "  dec2 = layers.Conv2DTranspose(2048, (3, 3), strides=2, activation=\"relu\", padding=\"same\")(HLSF) #14*14*2048\n",
        "  dec3 = layers.Conv2DTranspose(512, (3, 3), strides=2, activation=\"relu\", padding=\"same\")(dec2)#28*28*512\n",
        "  dec4 = layers.Conv2DTranspose(128, (3, 3), strides=2, activation=\"relu\", padding=\"same\")(dec3)#56*56*128\n",
        "  dec5 = layers.Conv2DTranspose(32, (3, 3), strides=2, activation=\"relu\", padding=\"same\")(dec4)#112*112*32\n",
        "  dec6 = layers.Conv2DTranspose(3, (3, 3), strides=2, activation=\"relu\", padding=\"same\")(dec5)#224*224*3\n",
        "  dec7 = layers.Conv2DTranspose(3, (3, 3), strides=1, activation=\"relu\",padding=\"same\")(dec6)#224*224*1\n",
        "  dec8 = layers.Conv2DTranspose(1, (3, 3), strides=1, activation=\"relu\",padding=\"same\",name='DecBM')(dec7)#224*224*1\n",
        "  #FusionNetwork1\n",
        "  #Upsam_Deep1 = layers.Conv2DTranspose(128, (3, 3), strides=32, activation=\"relu\", padding=\"same\")(HLSF)\n",
        "  #Upsam_Deep2 = layers.Conv2DTranspose(128, (3, 3), strides=16, activation=\"relu\", padding=\"same\")(dec2)\n",
        "  #Upsam_Deep3 = layers.Conv2DTranspose(128, (3, 3), strides=8, activation=\"relu\", padding=\"same\")(dec3)\n",
        "  #concatted_deep = tf.keras.layers.Concatenate(axis=3)([Upsam_Deep1,Upsam_Deep2,Upsam_Deep3])\n",
        "  #result_concatted_deep= layers.Conv2D(1, (1, 1), strides=1, activation=\"relu\", padding=\"same\",name='HLBM')(concatted_deep) #224*224*1\n",
        "  #FusionNetwork2\n",
        "  #Upsam_Shallow1=layers.Conv2DTranspose(16, (3, 3), strides=4, activation=\"relu\", padding=\"same\")(dec4)\n",
        "  #Upsam_Shallow2=layers.Conv2DTranspose(16, (3, 3), strides=2, activation=\"relu\", padding=\"same\")(dec5)\n",
        "  #concatted_Shallow = tf.keras.layers.Concatenate()([Upsam_Shallow1,Upsam_Shallow2,dec6])\n",
        "  #result_concatted_Shallow= layers.Conv2D(1, (1, 1), strides=1, activation=\"relu\", padding=\"same\",name='LLBM')(concatted_Shallow) #224*224*1\n",
        "  #Concatenate all results\n",
        "  #concatted_all = tf.keras.layers.Concatenate()([dec7,result_concatted_deep])\n",
        "  final_output= layers.Conv2D(1, (1, 1), strides=1, activation=\"sigmoid\", padding=\"same\",kernel_regularizer=regularizers.L2(l2=0.005),\n",
        "      bias_regularizer=regularizers.L2(l2=0.0005),name='FBME')(dec8) #224*224*1\n",
        "  return final_output"
      ],
      "metadata": {
        "id": "kqgADHTkLIC_"
      },
      "execution_count": null,
      "outputs": []
    },
    {
      "cell_type": "code",
      "source": [
        "data_augmentation = keras.Sequential(\n",
        "    [\n",
        "        layers.RandomFlip(\"horizontal\"),\n",
        "        layers.RandomRotation(0.1),\n",
        "    ]\n",
        ")"
      ],
      "metadata": {
        "id": "BHwKu1lsLqKd"
      },
      "execution_count": null,
      "outputs": []
    },
    {
      "cell_type": "code",
      "source": [
        "def ResNet50():\n",
        "    X_input = layers.Input(shape=(224, 224, 3))\n",
        "    X = data_augmentation(X_input)\n",
        "    X = layers.Rescaling(1./255)(X)\n",
        "    X = ZeroPadding2D((3, 3))(X_input)\n",
        "    X = Conv2D(64, (7, 7), strides=(2, 2), name='conv1', kernel_initializer=glorot_uniform(seed=0))(X)\n",
        "    X = BatchNormalization(axis=3, name='bn_conv1')(X)\n",
        "    X = Activation('relu')(X)\n",
        "    X = MaxPooling2D((3, 3), strides=(2, 2))(X)\n",
        "\n",
        "    X = convolutional_block(X, f=3, filters=[64, 64, 256], stage=2, block='a', s=1)\n",
        "    X = identity_block(X, 3, [64, 64, 256], stage=2, block='b')\n",
        "    X = identity_block(X, 3, [64, 64, 256], stage=2, block='c')\n",
        "\n",
        "\n",
        "    X = convolutional_block(X, f=3, filters=[128, 128, 512], stage=3, block='a', s=2)\n",
        "    X = identity_block(X, 3, [128, 128, 512], stage=3, block='b')\n",
        "    X = identity_block(X, 3, [128, 128, 512], stage=3, block='c')\n",
        "    X = identity_block(X, 3, [128, 128, 512], stage=3, block='d')\n",
        "\n",
        "    X = convolutional_block(X, f=3, filters=[256, 256, 1024], stage=4, block='a', s=2)\n",
        "    X = identity_block(X, 3, [256, 256, 1024], stage=4, block='b')\n",
        "    X = identity_block(X, 3, [256, 256, 1024], stage=4, block='c')\n",
        "    X = identity_block(X, 3, [256, 256, 1024], stage=4, block='d')\n",
        "    X = identity_block(X, 3, [256, 256, 1024], stage=4, block='e')\n",
        "    X = identity_block(X, 3, [256, 256, 1024], stage=4, block='f')\n",
        "    X = X = convolutional_block(X, f=3, filters=[512, 512, 2048], stage=5, block='a', s=2)\n",
        "    X = identity_block(X, 3, [512, 512, 2048], stage=5, block='b')\n",
        "    X = identity_block(X, 3, [512, 512, 2048], stage=5, block='c')\n",
        "    #7*7*2048\n",
        "    output1=decoder_network(X)\n",
        "    #X = AveragePooling2D(pool_size=(2, 2), padding='same')(X)\n",
        "    #X = Flatten()(X)\n",
        "    #X = Dense(256, activation='relu', name='fc1',kernel_initializer=glorot_uniform(seed=0))(X)\n",
        "    #X = Dense(128, activation='relu', name='fc2',kernel_initializer=glorot_uniform(seed=0))(X)\n",
        "    #main = Dense( 1,activation='sigmoid', name='main',kernel_initializer=glorot_uniform(seed=0))(X)\n",
        "    model = Model(inputs=X_input, outputs=output1, name='ResNet50')\n",
        "    return model"
      ],
      "metadata": {
        "id": "Ms3LyVLlLNcg"
      },
      "execution_count": null,
      "outputs": []
    },
    {
      "cell_type": "code",
      "source": [
        "model= ResNet50()\n",
        "model.summary()"
      ],
      "metadata": {
        "id": "N8S-12BaLyrd",
        "colab": {
          "base_uri": "https://localhost:8080/"
        },
        "outputId": "4d64b6af-52e3-4b62-d531-7a0f263d7dbc"
      },
      "execution_count": null,
      "outputs": [
        {
          "output_type": "stream",
          "name": "stdout",
          "text": [
            "Model: \"ResNet50\"\n",
            "__________________________________________________________________________________________________\n",
            " Layer (type)                   Output Shape         Param #     Connected to                     \n",
            "==================================================================================================\n",
            " input_4 (InputLayer)           [(None, 224, 224, 3  0           []                               \n",
            "                                )]                                                                \n",
            "                                                                                                  \n",
            " zero_padding2d_3 (ZeroPadding2  (None, 230, 230, 3)  0          ['input_4[0][0]']                \n",
            " D)                                                                                               \n",
            "                                                                                                  \n",
            " conv1 (Conv2D)                 (None, 112, 112, 64  9472        ['zero_padding2d_3[0][0]']       \n",
            "                                )                                                                 \n",
            "                                                                                                  \n",
            " bn_conv1 (BatchNormalization)  (None, 112, 112, 64  256         ['conv1[0][0]']                  \n",
            "                                )                                                                 \n",
            "                                                                                                  \n",
            " activation_147 (Activation)    (None, 112, 112, 64  0           ['bn_conv1[0][0]']               \n",
            "                                )                                                                 \n",
            "                                                                                                  \n",
            " max_pooling2d_3 (MaxPooling2D)  (None, 55, 55, 64)  0           ['activation_147[0][0]']         \n",
            "                                                                                                  \n",
            " res2a_branch2a (Conv2D)        (None, 55, 55, 64)   4160        ['max_pooling2d_3[0][0]']        \n",
            "                                                                                                  \n",
            " bn2a_branch2a (BatchNormalizat  (None, 55, 55, 64)  256         ['res2a_branch2a[0][0]']         \n",
            " ion)                                                                                             \n",
            "                                                                                                  \n",
            " activation_148 (Activation)    (None, 55, 55, 64)   0           ['bn2a_branch2a[0][0]']          \n",
            "                                                                                                  \n",
            " res2a_branch2b (Conv2D)        (None, 55, 55, 64)   36928       ['activation_148[0][0]']         \n",
            "                                                                                                  \n",
            " bn2a_branch2b (BatchNormalizat  (None, 55, 55, 64)  256         ['res2a_branch2b[0][0]']         \n",
            " ion)                                                                                             \n",
            "                                                                                                  \n",
            " activation_149 (Activation)    (None, 55, 55, 64)   0           ['bn2a_branch2b[0][0]']          \n",
            "                                                                                                  \n",
            " res2a_branch2c (Conv2D)        (None, 55, 55, 256)  16640       ['activation_149[0][0]']         \n",
            "                                                                                                  \n",
            " res2a_branch1 (Conv2D)         (None, 55, 55, 256)  16640       ['max_pooling2d_3[0][0]']        \n",
            "                                                                                                  \n",
            " bn2a_branch2c (BatchNormalizat  (None, 55, 55, 256)  1024       ['res2a_branch2c[0][0]']         \n",
            " ion)                                                                                             \n",
            "                                                                                                  \n",
            " bn2a_branch1 (BatchNormalizati  (None, 55, 55, 256)  1024       ['res2a_branch1[0][0]']          \n",
            " on)                                                                                              \n",
            "                                                                                                  \n",
            " add_48 (Add)                   (None, 55, 55, 256)  0           ['bn2a_branch2c[0][0]',          \n",
            "                                                                  'bn2a_branch1[0][0]']           \n",
            "                                                                                                  \n",
            " activation_150 (Activation)    (None, 55, 55, 256)  0           ['add_48[0][0]']                 \n",
            "                                                                                                  \n",
            " res2b_branch2a (Conv2D)        (None, 55, 55, 64)   16448       ['activation_150[0][0]']         \n",
            "                                                                                                  \n",
            " bn2b_branch2a (BatchNormalizat  (None, 55, 55, 64)  256         ['res2b_branch2a[0][0]']         \n",
            " ion)                                                                                             \n",
            "                                                                                                  \n",
            " activation_151 (Activation)    (None, 55, 55, 64)   0           ['bn2b_branch2a[0][0]']          \n",
            "                                                                                                  \n",
            " res2b_branch2b (Conv2D)        (None, 55, 55, 64)   36928       ['activation_151[0][0]']         \n",
            "                                                                                                  \n",
            " bn2b_branch2b (BatchNormalizat  (None, 55, 55, 64)  256         ['res2b_branch2b[0][0]']         \n",
            " ion)                                                                                             \n",
            "                                                                                                  \n",
            " activation_152 (Activation)    (None, 55, 55, 64)   0           ['bn2b_branch2b[0][0]']          \n",
            "                                                                                                  \n",
            " res2b_branch2c (Conv2D)        (None, 55, 55, 256)  16640       ['activation_152[0][0]']         \n",
            "                                                                                                  \n",
            " bn2b_branch2c (BatchNormalizat  (None, 55, 55, 256)  1024       ['res2b_branch2c[0][0]']         \n",
            " ion)                                                                                             \n",
            "                                                                                                  \n",
            " add_49 (Add)                   (None, 55, 55, 256)  0           ['bn2b_branch2c[0][0]',          \n",
            "                                                                  'activation_150[0][0]']         \n",
            "                                                                                                  \n",
            " activation_153 (Activation)    (None, 55, 55, 256)  0           ['add_49[0][0]']                 \n",
            "                                                                                                  \n",
            " res2c_branch2a (Conv2D)        (None, 55, 55, 64)   16448       ['activation_153[0][0]']         \n",
            "                                                                                                  \n",
            " bn2c_branch2a (BatchNormalizat  (None, 55, 55, 64)  256         ['res2c_branch2a[0][0]']         \n",
            " ion)                                                                                             \n",
            "                                                                                                  \n",
            " activation_154 (Activation)    (None, 55, 55, 64)   0           ['bn2c_branch2a[0][0]']          \n",
            "                                                                                                  \n",
            " res2c_branch2b (Conv2D)        (None, 55, 55, 64)   36928       ['activation_154[0][0]']         \n",
            "                                                                                                  \n",
            " bn2c_branch2b (BatchNormalizat  (None, 55, 55, 64)  256         ['res2c_branch2b[0][0]']         \n",
            " ion)                                                                                             \n",
            "                                                                                                  \n",
            " activation_155 (Activation)    (None, 55, 55, 64)   0           ['bn2c_branch2b[0][0]']          \n",
            "                                                                                                  \n",
            " res2c_branch2c (Conv2D)        (None, 55, 55, 256)  16640       ['activation_155[0][0]']         \n",
            "                                                                                                  \n",
            " bn2c_branch2c (BatchNormalizat  (None, 55, 55, 256)  1024       ['res2c_branch2c[0][0]']         \n",
            " ion)                                                                                             \n",
            "                                                                                                  \n",
            " add_50 (Add)                   (None, 55, 55, 256)  0           ['bn2c_branch2c[0][0]',          \n",
            "                                                                  'activation_153[0][0]']         \n",
            "                                                                                                  \n",
            " activation_156 (Activation)    (None, 55, 55, 256)  0           ['add_50[0][0]']                 \n",
            "                                                                                                  \n",
            " res3a_branch2a (Conv2D)        (None, 28, 28, 128)  32896       ['activation_156[0][0]']         \n",
            "                                                                                                  \n",
            " bn3a_branch2a (BatchNormalizat  (None, 28, 28, 128)  512        ['res3a_branch2a[0][0]']         \n",
            " ion)                                                                                             \n",
            "                                                                                                  \n",
            " activation_157 (Activation)    (None, 28, 28, 128)  0           ['bn3a_branch2a[0][0]']          \n",
            "                                                                                                  \n",
            " res3a_branch2b (Conv2D)        (None, 28, 28, 128)  147584      ['activation_157[0][0]']         \n",
            "                                                                                                  \n",
            " bn3a_branch2b (BatchNormalizat  (None, 28, 28, 128)  512        ['res3a_branch2b[0][0]']         \n",
            " ion)                                                                                             \n",
            "                                                                                                  \n",
            " activation_158 (Activation)    (None, 28, 28, 128)  0           ['bn3a_branch2b[0][0]']          \n",
            "                                                                                                  \n",
            " res3a_branch2c (Conv2D)        (None, 28, 28, 512)  66048       ['activation_158[0][0]']         \n",
            "                                                                                                  \n",
            " res3a_branch1 (Conv2D)         (None, 28, 28, 512)  131584      ['activation_156[0][0]']         \n",
            "                                                                                                  \n",
            " bn3a_branch2c (BatchNormalizat  (None, 28, 28, 512)  2048       ['res3a_branch2c[0][0]']         \n",
            " ion)                                                                                             \n",
            "                                                                                                  \n",
            " bn3a_branch1 (BatchNormalizati  (None, 28, 28, 512)  2048       ['res3a_branch1[0][0]']          \n",
            " on)                                                                                              \n",
            "                                                                                                  \n",
            " add_51 (Add)                   (None, 28, 28, 512)  0           ['bn3a_branch2c[0][0]',          \n",
            "                                                                  'bn3a_branch1[0][0]']           \n",
            "                                                                                                  \n",
            " activation_159 (Activation)    (None, 28, 28, 512)  0           ['add_51[0][0]']                 \n",
            "                                                                                                  \n",
            " res3b_branch2a (Conv2D)        (None, 28, 28, 128)  65664       ['activation_159[0][0]']         \n",
            "                                                                                                  \n",
            " bn3b_branch2a (BatchNormalizat  (None, 28, 28, 128)  512        ['res3b_branch2a[0][0]']         \n",
            " ion)                                                                                             \n",
            "                                                                                                  \n",
            " activation_160 (Activation)    (None, 28, 28, 128)  0           ['bn3b_branch2a[0][0]']          \n",
            "                                                                                                  \n",
            " res3b_branch2b (Conv2D)        (None, 28, 28, 128)  147584      ['activation_160[0][0]']         \n",
            "                                                                                                  \n",
            " bn3b_branch2b (BatchNormalizat  (None, 28, 28, 128)  512        ['res3b_branch2b[0][0]']         \n",
            " ion)                                                                                             \n",
            "                                                                                                  \n",
            " activation_161 (Activation)    (None, 28, 28, 128)  0           ['bn3b_branch2b[0][0]']          \n",
            "                                                                                                  \n",
            " res3b_branch2c (Conv2D)        (None, 28, 28, 512)  66048       ['activation_161[0][0]']         \n",
            "                                                                                                  \n",
            " bn3b_branch2c (BatchNormalizat  (None, 28, 28, 512)  2048       ['res3b_branch2c[0][0]']         \n",
            " ion)                                                                                             \n",
            "                                                                                                  \n",
            " add_52 (Add)                   (None, 28, 28, 512)  0           ['bn3b_branch2c[0][0]',          \n",
            "                                                                  'activation_159[0][0]']         \n",
            "                                                                                                  \n",
            " activation_162 (Activation)    (None, 28, 28, 512)  0           ['add_52[0][0]']                 \n",
            "                                                                                                  \n",
            " res3c_branch2a (Conv2D)        (None, 28, 28, 128)  65664       ['activation_162[0][0]']         \n",
            "                                                                                                  \n",
            " bn3c_branch2a (BatchNormalizat  (None, 28, 28, 128)  512        ['res3c_branch2a[0][0]']         \n",
            " ion)                                                                                             \n",
            "                                                                                                  \n",
            " activation_163 (Activation)    (None, 28, 28, 128)  0           ['bn3c_branch2a[0][0]']          \n",
            "                                                                                                  \n",
            " res3c_branch2b (Conv2D)        (None, 28, 28, 128)  147584      ['activation_163[0][0]']         \n",
            "                                                                                                  \n",
            " bn3c_branch2b (BatchNormalizat  (None, 28, 28, 128)  512        ['res3c_branch2b[0][0]']         \n",
            " ion)                                                                                             \n",
            "                                                                                                  \n",
            " activation_164 (Activation)    (None, 28, 28, 128)  0           ['bn3c_branch2b[0][0]']          \n",
            "                                                                                                  \n",
            " res3c_branch2c (Conv2D)        (None, 28, 28, 512)  66048       ['activation_164[0][0]']         \n",
            "                                                                                                  \n",
            " bn3c_branch2c (BatchNormalizat  (None, 28, 28, 512)  2048       ['res3c_branch2c[0][0]']         \n",
            " ion)                                                                                             \n",
            "                                                                                                  \n",
            " add_53 (Add)                   (None, 28, 28, 512)  0           ['bn3c_branch2c[0][0]',          \n",
            "                                                                  'activation_162[0][0]']         \n",
            "                                                                                                  \n",
            " activation_165 (Activation)    (None, 28, 28, 512)  0           ['add_53[0][0]']                 \n",
            "                                                                                                  \n",
            " res3d_branch2a (Conv2D)        (None, 28, 28, 128)  65664       ['activation_165[0][0]']         \n",
            "                                                                                                  \n",
            " bn3d_branch2a (BatchNormalizat  (None, 28, 28, 128)  512        ['res3d_branch2a[0][0]']         \n",
            " ion)                                                                                             \n",
            "                                                                                                  \n",
            " activation_166 (Activation)    (None, 28, 28, 128)  0           ['bn3d_branch2a[0][0]']          \n",
            "                                                                                                  \n",
            " res3d_branch2b (Conv2D)        (None, 28, 28, 128)  147584      ['activation_166[0][0]']         \n",
            "                                                                                                  \n",
            " bn3d_branch2b (BatchNormalizat  (None, 28, 28, 128)  512        ['res3d_branch2b[0][0]']         \n",
            " ion)                                                                                             \n",
            "                                                                                                  \n",
            " activation_167 (Activation)    (None, 28, 28, 128)  0           ['bn3d_branch2b[0][0]']          \n",
            "                                                                                                  \n",
            " res3d_branch2c (Conv2D)        (None, 28, 28, 512)  66048       ['activation_167[0][0]']         \n",
            "                                                                                                  \n",
            " bn3d_branch2c (BatchNormalizat  (None, 28, 28, 512)  2048       ['res3d_branch2c[0][0]']         \n",
            " ion)                                                                                             \n",
            "                                                                                                  \n",
            " add_54 (Add)                   (None, 28, 28, 512)  0           ['bn3d_branch2c[0][0]',          \n",
            "                                                                  'activation_165[0][0]']         \n",
            "                                                                                                  \n",
            " activation_168 (Activation)    (None, 28, 28, 512)  0           ['add_54[0][0]']                 \n",
            "                                                                                                  \n",
            " res4a_branch2a (Conv2D)        (None, 14, 14, 256)  131328      ['activation_168[0][0]']         \n",
            "                                                                                                  \n",
            " bn4a_branch2a (BatchNormalizat  (None, 14, 14, 256)  1024       ['res4a_branch2a[0][0]']         \n",
            " ion)                                                                                             \n",
            "                                                                                                  \n",
            " activation_169 (Activation)    (None, 14, 14, 256)  0           ['bn4a_branch2a[0][0]']          \n",
            "                                                                                                  \n",
            " res4a_branch2b (Conv2D)        (None, 14, 14, 256)  590080      ['activation_169[0][0]']         \n",
            "                                                                                                  \n",
            " bn4a_branch2b (BatchNormalizat  (None, 14, 14, 256)  1024       ['res4a_branch2b[0][0]']         \n",
            " ion)                                                                                             \n",
            "                                                                                                  \n",
            " activation_170 (Activation)    (None, 14, 14, 256)  0           ['bn4a_branch2b[0][0]']          \n",
            "                                                                                                  \n",
            " res4a_branch2c (Conv2D)        (None, 14, 14, 1024  263168      ['activation_170[0][0]']         \n",
            "                                )                                                                 \n",
            "                                                                                                  \n",
            " res4a_branch1 (Conv2D)         (None, 14, 14, 1024  525312      ['activation_168[0][0]']         \n",
            "                                )                                                                 \n",
            "                                                                                                  \n",
            " bn4a_branch2c (BatchNormalizat  (None, 14, 14, 1024  4096       ['res4a_branch2c[0][0]']         \n",
            " ion)                           )                                                                 \n",
            "                                                                                                  \n",
            " bn4a_branch1 (BatchNormalizati  (None, 14, 14, 1024  4096       ['res4a_branch1[0][0]']          \n",
            " on)                            )                                                                 \n",
            "                                                                                                  \n",
            " add_55 (Add)                   (None, 14, 14, 1024  0           ['bn4a_branch2c[0][0]',          \n",
            "                                )                                 'bn4a_branch1[0][0]']           \n",
            "                                                                                                  \n",
            " activation_171 (Activation)    (None, 14, 14, 1024  0           ['add_55[0][0]']                 \n",
            "                                )                                                                 \n",
            "                                                                                                  \n",
            " res4b_branch2a (Conv2D)        (None, 14, 14, 256)  262400      ['activation_171[0][0]']         \n",
            "                                                                                                  \n",
            " bn4b_branch2a (BatchNormalizat  (None, 14, 14, 256)  1024       ['res4b_branch2a[0][0]']         \n",
            " ion)                                                                                             \n",
            "                                                                                                  \n",
            " activation_172 (Activation)    (None, 14, 14, 256)  0           ['bn4b_branch2a[0][0]']          \n",
            "                                                                                                  \n",
            " res4b_branch2b (Conv2D)        (None, 14, 14, 256)  590080      ['activation_172[0][0]']         \n",
            "                                                                                                  \n",
            " bn4b_branch2b (BatchNormalizat  (None, 14, 14, 256)  1024       ['res4b_branch2b[0][0]']         \n",
            " ion)                                                                                             \n",
            "                                                                                                  \n",
            " activation_173 (Activation)    (None, 14, 14, 256)  0           ['bn4b_branch2b[0][0]']          \n",
            "                                                                                                  \n",
            " res4b_branch2c (Conv2D)        (None, 14, 14, 1024  263168      ['activation_173[0][0]']         \n",
            "                                )                                                                 \n",
            "                                                                                                  \n",
            " bn4b_branch2c (BatchNormalizat  (None, 14, 14, 1024  4096       ['res4b_branch2c[0][0]']         \n",
            " ion)                           )                                                                 \n",
            "                                                                                                  \n",
            " add_56 (Add)                   (None, 14, 14, 1024  0           ['bn4b_branch2c[0][0]',          \n",
            "                                )                                 'activation_171[0][0]']         \n",
            "                                                                                                  \n",
            " activation_174 (Activation)    (None, 14, 14, 1024  0           ['add_56[0][0]']                 \n",
            "                                )                                                                 \n",
            "                                                                                                  \n",
            " res4c_branch2a (Conv2D)        (None, 14, 14, 256)  262400      ['activation_174[0][0]']         \n",
            "                                                                                                  \n",
            " bn4c_branch2a (BatchNormalizat  (None, 14, 14, 256)  1024       ['res4c_branch2a[0][0]']         \n",
            " ion)                                                                                             \n",
            "                                                                                                  \n",
            " activation_175 (Activation)    (None, 14, 14, 256)  0           ['bn4c_branch2a[0][0]']          \n",
            "                                                                                                  \n",
            " res4c_branch2b (Conv2D)        (None, 14, 14, 256)  590080      ['activation_175[0][0]']         \n",
            "                                                                                                  \n",
            " bn4c_branch2b (BatchNormalizat  (None, 14, 14, 256)  1024       ['res4c_branch2b[0][0]']         \n",
            " ion)                                                                                             \n",
            "                                                                                                  \n",
            " activation_176 (Activation)    (None, 14, 14, 256)  0           ['bn4c_branch2b[0][0]']          \n",
            "                                                                                                  \n",
            " res4c_branch2c (Conv2D)        (None, 14, 14, 1024  263168      ['activation_176[0][0]']         \n",
            "                                )                                                                 \n",
            "                                                                                                  \n",
            " bn4c_branch2c (BatchNormalizat  (None, 14, 14, 1024  4096       ['res4c_branch2c[0][0]']         \n",
            " ion)                           )                                                                 \n",
            "                                                                                                  \n",
            " add_57 (Add)                   (None, 14, 14, 1024  0           ['bn4c_branch2c[0][0]',          \n",
            "                                )                                 'activation_174[0][0]']         \n",
            "                                                                                                  \n",
            " activation_177 (Activation)    (None, 14, 14, 1024  0           ['add_57[0][0]']                 \n",
            "                                )                                                                 \n",
            "                                                                                                  \n",
            " res4d_branch2a (Conv2D)        (None, 14, 14, 256)  262400      ['activation_177[0][0]']         \n",
            "                                                                                                  \n",
            " bn4d_branch2a (BatchNormalizat  (None, 14, 14, 256)  1024       ['res4d_branch2a[0][0]']         \n",
            " ion)                                                                                             \n",
            "                                                                                                  \n",
            " activation_178 (Activation)    (None, 14, 14, 256)  0           ['bn4d_branch2a[0][0]']          \n",
            "                                                                                                  \n",
            " res4d_branch2b (Conv2D)        (None, 14, 14, 256)  590080      ['activation_178[0][0]']         \n",
            "                                                                                                  \n",
            " bn4d_branch2b (BatchNormalizat  (None, 14, 14, 256)  1024       ['res4d_branch2b[0][0]']         \n",
            " ion)                                                                                             \n",
            "                                                                                                  \n",
            " activation_179 (Activation)    (None, 14, 14, 256)  0           ['bn4d_branch2b[0][0]']          \n",
            "                                                                                                  \n",
            " res4d_branch2c (Conv2D)        (None, 14, 14, 1024  263168      ['activation_179[0][0]']         \n",
            "                                )                                                                 \n",
            "                                                                                                  \n",
            " bn4d_branch2c (BatchNormalizat  (None, 14, 14, 1024  4096       ['res4d_branch2c[0][0]']         \n",
            " ion)                           )                                                                 \n",
            "                                                                                                  \n",
            " add_58 (Add)                   (None, 14, 14, 1024  0           ['bn4d_branch2c[0][0]',          \n",
            "                                )                                 'activation_177[0][0]']         \n",
            "                                                                                                  \n",
            " activation_180 (Activation)    (None, 14, 14, 1024  0           ['add_58[0][0]']                 \n",
            "                                )                                                                 \n",
            "                                                                                                  \n",
            " res4e_branch2a (Conv2D)        (None, 14, 14, 256)  262400      ['activation_180[0][0]']         \n",
            "                                                                                                  \n",
            " bn4e_branch2a (BatchNormalizat  (None, 14, 14, 256)  1024       ['res4e_branch2a[0][0]']         \n",
            " ion)                                                                                             \n",
            "                                                                                                  \n",
            " activation_181 (Activation)    (None, 14, 14, 256)  0           ['bn4e_branch2a[0][0]']          \n",
            "                                                                                                  \n",
            " res4e_branch2b (Conv2D)        (None, 14, 14, 256)  590080      ['activation_181[0][0]']         \n",
            "                                                                                                  \n",
            " bn4e_branch2b (BatchNormalizat  (None, 14, 14, 256)  1024       ['res4e_branch2b[0][0]']         \n",
            " ion)                                                                                             \n",
            "                                                                                                  \n",
            " activation_182 (Activation)    (None, 14, 14, 256)  0           ['bn4e_branch2b[0][0]']          \n",
            "                                                                                                  \n",
            " res4e_branch2c (Conv2D)        (None, 14, 14, 1024  263168      ['activation_182[0][0]']         \n",
            "                                )                                                                 \n",
            "                                                                                                  \n",
            " bn4e_branch2c (BatchNormalizat  (None, 14, 14, 1024  4096       ['res4e_branch2c[0][0]']         \n",
            " ion)                           )                                                                 \n",
            "                                                                                                  \n",
            " add_59 (Add)                   (None, 14, 14, 1024  0           ['bn4e_branch2c[0][0]',          \n",
            "                                )                                 'activation_180[0][0]']         \n",
            "                                                                                                  \n",
            " activation_183 (Activation)    (None, 14, 14, 1024  0           ['add_59[0][0]']                 \n",
            "                                )                                                                 \n",
            "                                                                                                  \n",
            " res4f_branch2a (Conv2D)        (None, 14, 14, 256)  262400      ['activation_183[0][0]']         \n",
            "                                                                                                  \n",
            " bn4f_branch2a (BatchNormalizat  (None, 14, 14, 256)  1024       ['res4f_branch2a[0][0]']         \n",
            " ion)                                                                                             \n",
            "                                                                                                  \n",
            " activation_184 (Activation)    (None, 14, 14, 256)  0           ['bn4f_branch2a[0][0]']          \n",
            "                                                                                                  \n",
            " res4f_branch2b (Conv2D)        (None, 14, 14, 256)  590080      ['activation_184[0][0]']         \n",
            "                                                                                                  \n",
            " bn4f_branch2b (BatchNormalizat  (None, 14, 14, 256)  1024       ['res4f_branch2b[0][0]']         \n",
            " ion)                                                                                             \n",
            "                                                                                                  \n",
            " activation_185 (Activation)    (None, 14, 14, 256)  0           ['bn4f_branch2b[0][0]']          \n",
            "                                                                                                  \n",
            " res4f_branch2c (Conv2D)        (None, 14, 14, 1024  263168      ['activation_185[0][0]']         \n",
            "                                )                                                                 \n",
            "                                                                                                  \n",
            " bn4f_branch2c (BatchNormalizat  (None, 14, 14, 1024  4096       ['res4f_branch2c[0][0]']         \n",
            " ion)                           )                                                                 \n",
            "                                                                                                  \n",
            " add_60 (Add)                   (None, 14, 14, 1024  0           ['bn4f_branch2c[0][0]',          \n",
            "                                )                                 'activation_183[0][0]']         \n",
            "                                                                                                  \n",
            " activation_186 (Activation)    (None, 14, 14, 1024  0           ['add_60[0][0]']                 \n",
            "                                )                                                                 \n",
            "                                                                                                  \n",
            " res5a_branch2a (Conv2D)        (None, 7, 7, 512)    524800      ['activation_186[0][0]']         \n",
            "                                                                                                  \n",
            " bn5a_branch2a (BatchNormalizat  (None, 7, 7, 512)   2048        ['res5a_branch2a[0][0]']         \n",
            " ion)                                                                                             \n",
            "                                                                                                  \n",
            " activation_187 (Activation)    (None, 7, 7, 512)    0           ['bn5a_branch2a[0][0]']          \n",
            "                                                                                                  \n",
            " res5a_branch2b (Conv2D)        (None, 7, 7, 512)    2359808     ['activation_187[0][0]']         \n",
            "                                                                                                  \n",
            " bn5a_branch2b (BatchNormalizat  (None, 7, 7, 512)   2048        ['res5a_branch2b[0][0]']         \n",
            " ion)                                                                                             \n",
            "                                                                                                  \n",
            " activation_188 (Activation)    (None, 7, 7, 512)    0           ['bn5a_branch2b[0][0]']          \n",
            "                                                                                                  \n",
            " res5a_branch2c (Conv2D)        (None, 7, 7, 2048)   1050624     ['activation_188[0][0]']         \n",
            "                                                                                                  \n",
            " res5a_branch1 (Conv2D)         (None, 7, 7, 2048)   2099200     ['activation_186[0][0]']         \n",
            "                                                                                                  \n",
            " bn5a_branch2c (BatchNormalizat  (None, 7, 7, 2048)  8192        ['res5a_branch2c[0][0]']         \n",
            " ion)                                                                                             \n",
            "                                                                                                  \n",
            " bn5a_branch1 (BatchNormalizati  (None, 7, 7, 2048)  8192        ['res5a_branch1[0][0]']          \n",
            " on)                                                                                              \n",
            "                                                                                                  \n",
            " add_61 (Add)                   (None, 7, 7, 2048)   0           ['bn5a_branch2c[0][0]',          \n",
            "                                                                  'bn5a_branch1[0][0]']           \n",
            "                                                                                                  \n",
            " activation_189 (Activation)    (None, 7, 7, 2048)   0           ['add_61[0][0]']                 \n",
            "                                                                                                  \n",
            " res5b_branch2a (Conv2D)        (None, 7, 7, 512)    1049088     ['activation_189[0][0]']         \n",
            "                                                                                                  \n",
            " bn5b_branch2a (BatchNormalizat  (None, 7, 7, 512)   2048        ['res5b_branch2a[0][0]']         \n",
            " ion)                                                                                             \n",
            "                                                                                                  \n",
            " activation_190 (Activation)    (None, 7, 7, 512)    0           ['bn5b_branch2a[0][0]']          \n",
            "                                                                                                  \n",
            " res5b_branch2b (Conv2D)        (None, 7, 7, 512)    2359808     ['activation_190[0][0]']         \n",
            "                                                                                                  \n",
            " bn5b_branch2b (BatchNormalizat  (None, 7, 7, 512)   2048        ['res5b_branch2b[0][0]']         \n",
            " ion)                                                                                             \n",
            "                                                                                                  \n",
            " activation_191 (Activation)    (None, 7, 7, 512)    0           ['bn5b_branch2b[0][0]']          \n",
            "                                                                                                  \n",
            " res5b_branch2c (Conv2D)        (None, 7, 7, 2048)   1050624     ['activation_191[0][0]']         \n",
            "                                                                                                  \n",
            " bn5b_branch2c (BatchNormalizat  (None, 7, 7, 2048)  8192        ['res5b_branch2c[0][0]']         \n",
            " ion)                                                                                             \n",
            "                                                                                                  \n",
            " add_62 (Add)                   (None, 7, 7, 2048)   0           ['bn5b_branch2c[0][0]',          \n",
            "                                                                  'activation_189[0][0]']         \n",
            "                                                                                                  \n",
            " activation_192 (Activation)    (None, 7, 7, 2048)   0           ['add_62[0][0]']                 \n",
            "                                                                                                  \n",
            " res5c_branch2a (Conv2D)        (None, 7, 7, 512)    1049088     ['activation_192[0][0]']         \n",
            "                                                                                                  \n",
            " bn5c_branch2a (BatchNormalizat  (None, 7, 7, 512)   2048        ['res5c_branch2a[0][0]']         \n",
            " ion)                                                                                             \n",
            "                                                                                                  \n",
            " activation_193 (Activation)    (None, 7, 7, 512)    0           ['bn5c_branch2a[0][0]']          \n",
            "                                                                                                  \n",
            " res5c_branch2b (Conv2D)        (None, 7, 7, 512)    2359808     ['activation_193[0][0]']         \n",
            "                                                                                                  \n",
            " bn5c_branch2b (BatchNormalizat  (None, 7, 7, 512)   2048        ['res5c_branch2b[0][0]']         \n",
            " ion)                                                                                             \n",
            "                                                                                                  \n",
            " activation_194 (Activation)    (None, 7, 7, 512)    0           ['bn5c_branch2b[0][0]']          \n",
            "                                                                                                  \n",
            " res5c_branch2c (Conv2D)        (None, 7, 7, 2048)   1050624     ['activation_194[0][0]']         \n",
            "                                                                                                  \n",
            " bn5c_branch2c (BatchNormalizat  (None, 7, 7, 2048)  8192        ['res5c_branch2c[0][0]']         \n",
            " ion)                                                                                             \n",
            "                                                                                                  \n",
            " add_63 (Add)                   (None, 7, 7, 2048)   0           ['bn5c_branch2c[0][0]',          \n",
            "                                                                  'activation_192[0][0]']         \n",
            "                                                                                                  \n",
            " activation_195 (Activation)    (None, 7, 7, 2048)   0           ['add_63[0][0]']                 \n",
            "                                                                                                  \n",
            " conv2d_transpose_24 (Conv2DTra  (None, 14, 14, 2048  37750784   ['activation_195[0][0]']         \n",
            " nspose)                        )                                                                 \n",
            "                                                                                                  \n",
            " conv2d_transpose_25 (Conv2DTra  (None, 28, 28, 512)  9437696    ['conv2d_transpose_24[0][0]']    \n",
            " nspose)                                                                                          \n",
            "                                                                                                  \n",
            " conv2d_transpose_26 (Conv2DTra  (None, 56, 56, 128)  589952     ['conv2d_transpose_25[0][0]']    \n",
            " nspose)                                                                                          \n",
            "                                                                                                  \n",
            " conv2d_transpose_27 (Conv2DTra  (None, 112, 112, 32  36896      ['conv2d_transpose_26[0][0]']    \n",
            " nspose)                        )                                                                 \n",
            "                                                                                                  \n",
            " conv2d_transpose_28 (Conv2DTra  (None, 224, 224, 3)  867        ['conv2d_transpose_27[0][0]']    \n",
            " nspose)                                                                                          \n",
            "                                                                                                  \n",
            " conv2d_transpose_29 (Conv2DTra  (None, 224, 224, 3)  84         ['conv2d_transpose_28[0][0]']    \n",
            " nspose)                                                                                          \n",
            "                                                                                                  \n",
            " DecBM (Conv2DTranspose)        (None, 224, 224, 1)  28          ['conv2d_transpose_29[0][0]']    \n",
            "                                                                                                  \n",
            " FBME (Conv2D)                  (None, 224, 224, 1)  2           ['DecBM[0][0]']                  \n",
            "                                                                                                  \n",
            "==================================================================================================\n",
            "Total params: 71,404,021\n",
            "Trainable params: 71,350,901\n",
            "Non-trainable params: 53,120\n",
            "__________________________________________________________________________________________________\n"
          ]
        }
      ]
    },
    {
      "cell_type": "code",
      "source": [
        "class StopOnPoint(tf.keras.callbacks.Callback):\n",
        "    def __init__(self, point):\n",
        "        super(StopOnPoint, self).__init__()\n",
        "        self.point = point\n",
        "    def on_epoch_end(self, epoch, logs=None): \n",
        "        accuracy = logs[\"accuracy\"]\n",
        "        if accuracy >= self.point:\n",
        "            self.model.stop_training = True\n",
        "callbacks = [StopOnPoint(0.995)]"
      ],
      "metadata": {
        "id": "D0lfiNDOL3Ab"
      },
      "execution_count": null,
      "outputs": []
    },
    {
      "cell_type": "code",
      "source": [
        "loss1=tf.keras.losses.MeanSquaredError()\n",
        "model.compile(keras.optimizers.Adam(learning_rate=1e-3),loss = [loss1],metrics=[\"accuracy\"])"
      ],
      "metadata": {
        "id": "uiVla0XVL7Og"
      },
      "execution_count": null,
      "outputs": []
    },
    {
      "cell_type": "code",
      "source": [
        "x_train = CHUK_images.astype(np.float32)/ 255.0\n",
        "y_train=CHUK_labels.astype(np.float32)/ 255.0\n",
        "y_train=np.where(y_train>0.5,1.0,0.0)\n",
        "y_train=(y_train)"
      ],
      "metadata": {
        "id": "PJsG9rdkMDtx"
      },
      "execution_count": null,
      "outputs": []
    },
    {
      "cell_type": "code",
      "source": [
        "history = model.fit(x_train,y_train, epochs=120,batch_size=25, validation_split=0.0,shuffle=True,callbacks=[callbacks])\n",
        "model.save('sbdn-ablation-01-dec-model.h5')"
      ],
      "metadata": {
        "colab": {
          "base_uri": "https://localhost:8080/"
        },
        "id": "-KwsCmIUMD2n",
        "outputId": "7f205679-a87c-478e-d2af-edcb331ed3aa"
      },
      "execution_count": null,
      "outputs": [
        {
          "output_type": "stream",
          "name": "stdout",
          "text": [
            "Epoch 1/120\n",
            " 6/32 [====>.........................] - ETA: 14s - loss: 0.2707 - accuracy: 0.5592"
          ]
        },
        {
          "output_type": "stream",
          "name": "stderr",
          "text": [
            "WARNING:tensorflow:Callback method `on_train_batch_end` is slow compared to the batch time (batch time: 0.2533s vs `on_train_batch_end` time: 0.3134s). Check your callbacks.\n"
          ]
        },
        {
          "output_type": "stream",
          "name": "stdout",
          "text": [
            "32/32 [==============================] - 24s 568ms/step - loss: 0.2677 - accuracy: 0.6292\n",
            "Epoch 2/120\n",
            "32/32 [==============================] - 18s 577ms/step - loss: 0.2592 - accuracy: 0.6890\n",
            "Epoch 3/120\n",
            "32/32 [==============================] - 19s 588ms/step - loss: 0.2493 - accuracy: 0.7200\n",
            "Epoch 4/120\n",
            "32/32 [==============================] - 19s 589ms/step - loss: 0.2424 - accuracy: 0.7326\n",
            "Epoch 5/120\n",
            "32/32 [==============================] - 19s 581ms/step - loss: 0.2389 - accuracy: 0.7348\n",
            "Epoch 6/120\n",
            "32/32 [==============================] - 19s 580ms/step - loss: 0.2304 - accuracy: 0.7550\n",
            "Epoch 7/120\n",
            "32/32 [==============================] - 19s 585ms/step - loss: 0.2267 - accuracy: 0.7577\n",
            "Epoch 8/120\n",
            "32/32 [==============================] - 19s 586ms/step - loss: 0.2255 - accuracy: 0.7463\n",
            "Epoch 9/120\n",
            "32/32 [==============================] - 19s 584ms/step - loss: 0.2213 - accuracy: 0.7560\n",
            "Epoch 10/120\n",
            "32/32 [==============================] - 19s 582ms/step - loss: 0.2163 - accuracy: 0.7634\n",
            "Epoch 11/120\n",
            "32/32 [==============================] - 19s 585ms/step - loss: 0.2123 - accuracy: 0.7687\n",
            "Epoch 12/120\n",
            "32/32 [==============================] - 19s 585ms/step - loss: 0.2068 - accuracy: 0.7758\n",
            "Epoch 13/120\n",
            "32/32 [==============================] - 19s 583ms/step - loss: 0.2013 - accuracy: 0.7852\n",
            "Epoch 14/120\n",
            "32/32 [==============================] - 19s 584ms/step - loss: 0.1995 - accuracy: 0.7858\n",
            "Epoch 15/120\n",
            "32/32 [==============================] - 19s 582ms/step - loss: 0.1969 - accuracy: 0.7872\n",
            "Epoch 16/120\n",
            "32/32 [==============================] - 19s 583ms/step - loss: 0.1916 - accuracy: 0.7938\n",
            "Epoch 17/120\n",
            "32/32 [==============================] - 19s 582ms/step - loss: 0.1894 - accuracy: 0.7950\n",
            "Epoch 18/120\n",
            "32/32 [==============================] - 19s 583ms/step - loss: 0.1848 - accuracy: 0.8029\n",
            "Epoch 19/120\n",
            "32/32 [==============================] - 19s 583ms/step - loss: 0.1826 - accuracy: 0.8028\n",
            "Epoch 20/120\n",
            "32/32 [==============================] - 19s 583ms/step - loss: 0.1778 - accuracy: 0.8101\n",
            "Epoch 21/120\n",
            "32/32 [==============================] - 19s 583ms/step - loss: 0.1730 - accuracy: 0.8164\n",
            "Epoch 22/120\n",
            "32/32 [==============================] - 19s 583ms/step - loss: 0.1715 - accuracy: 0.8155\n",
            "Epoch 23/120\n",
            "32/32 [==============================] - 19s 584ms/step - loss: 0.1668 - accuracy: 0.8236\n",
            "Epoch 24/120\n",
            "32/32 [==============================] - 19s 583ms/step - loss: 0.1641 - accuracy: 0.8261\n",
            "Epoch 25/120\n",
            "32/32 [==============================] - 19s 584ms/step - loss: 0.1611 - accuracy: 0.8297\n",
            "Epoch 26/120\n",
            "32/32 [==============================] - 19s 583ms/step - loss: 0.1579 - accuracy: 0.8310\n",
            "Epoch 27/120\n",
            "32/32 [==============================] - 19s 583ms/step - loss: 0.1569 - accuracy: 0.8301\n",
            "Epoch 28/120\n",
            "32/32 [==============================] - 19s 582ms/step - loss: 0.1538 - accuracy: 0.8349\n",
            "Epoch 29/120\n",
            "32/32 [==============================] - 19s 582ms/step - loss: 0.1449 - accuracy: 0.8494\n",
            "Epoch 30/120\n",
            "32/32 [==============================] - 19s 582ms/step - loss: 0.1442 - accuracy: 0.8479\n",
            "Epoch 31/120\n",
            "32/32 [==============================] - 19s 582ms/step - loss: 0.1391 - accuracy: 0.8554\n",
            "Epoch 32/120\n",
            "32/32 [==============================] - 19s 583ms/step - loss: 0.1405 - accuracy: 0.8513\n",
            "Epoch 33/120\n",
            "32/32 [==============================] - 19s 583ms/step - loss: 0.1303 - accuracy: 0.8677\n",
            "Epoch 34/120\n",
            "32/32 [==============================] - 19s 583ms/step - loss: 0.1260 - accuracy: 0.8735\n",
            "Epoch 35/120\n",
            "32/32 [==============================] - 19s 584ms/step - loss: 0.1213 - accuracy: 0.8797\n",
            "Epoch 36/120\n",
            "32/32 [==============================] - 19s 584ms/step - loss: 0.1224 - accuracy: 0.8752\n",
            "Epoch 37/120\n",
            "32/32 [==============================] - 19s 584ms/step - loss: 0.1245 - accuracy: 0.8694\n",
            "Epoch 38/120\n",
            "32/32 [==============================] - 19s 584ms/step - loss: 0.1159 - accuracy: 0.8832\n",
            "Epoch 39/120\n",
            "32/32 [==============================] - 19s 584ms/step - loss: 0.1115 - accuracy: 0.8892\n",
            "Epoch 40/120\n",
            "32/32 [==============================] - 19s 582ms/step - loss: 0.1069 - accuracy: 0.8954\n",
            "Epoch 41/120\n",
            "32/32 [==============================] - 19s 582ms/step - loss: 0.1020 - accuracy: 0.9018\n",
            "Epoch 42/120\n",
            "32/32 [==============================] - 19s 582ms/step - loss: 0.1011 - accuracy: 0.9017\n",
            "Epoch 43/120\n",
            "32/32 [==============================] - 19s 581ms/step - loss: 0.0942 - accuracy: 0.9123\n",
            "Epoch 44/120\n",
            "32/32 [==============================] - 19s 582ms/step - loss: 0.0891 - accuracy: 0.9190\n",
            "Epoch 45/120\n",
            "32/32 [==============================] - 19s 582ms/step - loss: 0.0897 - accuracy: 0.9166\n",
            "Epoch 46/120\n",
            "32/32 [==============================] - 19s 583ms/step - loss: 0.0887 - accuracy: 0.9165\n",
            "Epoch 47/120\n",
            "32/32 [==============================] - 19s 584ms/step - loss: 0.0854 - accuracy: 0.9205\n",
            "Epoch 48/120\n",
            "32/32 [==============================] - 19s 583ms/step - loss: 0.0816 - accuracy: 0.9253\n",
            "Epoch 49/120\n",
            "32/32 [==============================] - 19s 583ms/step - loss: 0.0789 - accuracy: 0.9285\n",
            "Epoch 50/120\n",
            "32/32 [==============================] - 19s 584ms/step - loss: 0.0760 - accuracy: 0.9318\n",
            "Epoch 51/120\n",
            "32/32 [==============================] - 19s 584ms/step - loss: 0.0729 - accuracy: 0.9355\n",
            "Epoch 52/120\n",
            "32/32 [==============================] - 19s 584ms/step - loss: 0.0711 - accuracy: 0.9371\n",
            "Epoch 53/120\n",
            "32/32 [==============================] - 19s 584ms/step - loss: 0.0679 - accuracy: 0.9409\n",
            "Epoch 54/120\n",
            "32/32 [==============================] - 19s 584ms/step - loss: 0.0666 - accuracy: 0.9415\n",
            "Epoch 55/120\n",
            "32/32 [==============================] - 19s 583ms/step - loss: 0.0650 - accuracy: 0.9431\n",
            "Epoch 56/120\n",
            "32/32 [==============================] - 19s 583ms/step - loss: 0.0641 - accuracy: 0.9434\n",
            "Epoch 57/120\n",
            "32/32 [==============================] - 19s 582ms/step - loss: 0.0597 - accuracy: 0.9493\n",
            "Epoch 58/120\n",
            "32/32 [==============================] - 19s 582ms/step - loss: 0.0578 - accuracy: 0.9513\n",
            "Epoch 59/120\n",
            "32/32 [==============================] - 19s 583ms/step - loss: 0.0589 - accuracy: 0.9487\n",
            "Epoch 60/120\n",
            "32/32 [==============================] - 19s 583ms/step - loss: 0.0628 - accuracy: 0.9419\n",
            "Epoch 61/120\n",
            "32/32 [==============================] - 19s 582ms/step - loss: 0.0573 - accuracy: 0.9493\n",
            "Epoch 62/120\n",
            "32/32 [==============================] - 19s 583ms/step - loss: 0.0527 - accuracy: 0.9557\n",
            "Epoch 63/120\n",
            "32/32 [==============================] - 19s 584ms/step - loss: 0.0496 - accuracy: 0.9595\n",
            "Epoch 64/120\n",
            "32/32 [==============================] - 19s 585ms/step - loss: 0.0477 - accuracy: 0.9615\n",
            "Epoch 65/120\n",
            "32/32 [==============================] - 19s 584ms/step - loss: 0.0453 - accuracy: 0.9644\n",
            "Epoch 66/120\n",
            "32/32 [==============================] - 19s 585ms/step - loss: 0.0437 - accuracy: 0.9661\n",
            "Epoch 67/120\n",
            "32/32 [==============================] - 19s 584ms/step - loss: 0.0442 - accuracy: 0.9644\n",
            "Epoch 68/120\n",
            "32/32 [==============================] - 19s 584ms/step - loss: 0.0481 - accuracy: 0.9580\n",
            "Epoch 69/120\n",
            "32/32 [==============================] - 19s 584ms/step - loss: 0.0447 - accuracy: 0.9624\n",
            "Epoch 70/120\n",
            "32/32 [==============================] - 19s 584ms/step - loss: 0.0423 - accuracy: 0.9654\n",
            "Epoch 71/120\n",
            "32/32 [==============================] - 19s 583ms/step - loss: 0.0396 - accuracy: 0.9688\n",
            "Epoch 72/120\n",
            "32/32 [==============================] - 19s 583ms/step - loss: 0.0374 - accuracy: 0.9714\n",
            "Epoch 73/120\n",
            "32/32 [==============================] - 19s 582ms/step - loss: 0.0363 - accuracy: 0.9727\n",
            "Epoch 74/120\n",
            "32/32 [==============================] - 19s 585ms/step - loss: 0.0348 - accuracy: 0.9741\n",
            "Epoch 75/120\n",
            "32/32 [==============================] - 19s 584ms/step - loss: 0.0328 - accuracy: 0.9766\n",
            "Epoch 76/120\n",
            "32/32 [==============================] - 19s 585ms/step - loss: 0.0318 - accuracy: 0.9775\n",
            "Epoch 77/120\n",
            "32/32 [==============================] - 19s 584ms/step - loss: 0.0309 - accuracy: 0.9783\n",
            "Epoch 78/120\n",
            "32/32 [==============================] - 19s 584ms/step - loss: 0.0299 - accuracy: 0.9793\n",
            "Epoch 79/120\n",
            "32/32 [==============================] - 19s 585ms/step - loss: 0.0292 - accuracy: 0.9798\n",
            "Epoch 80/120\n",
            "32/32 [==============================] - 19s 584ms/step - loss: 0.0286 - accuracy: 0.9803\n",
            "Epoch 81/120\n",
            "32/32 [==============================] - 19s 584ms/step - loss: 0.0277 - accuracy: 0.9811\n",
            "Epoch 82/120\n",
            "32/32 [==============================] - 19s 584ms/step - loss: 0.0265 - accuracy: 0.9824\n",
            "Epoch 83/120\n",
            "32/32 [==============================] - 19s 584ms/step - loss: 0.0259 - accuracy: 0.9830\n",
            "Epoch 84/120\n",
            "32/32 [==============================] - 19s 584ms/step - loss: 0.0252 - accuracy: 0.9835\n",
            "Epoch 85/120\n",
            "32/32 [==============================] - 19s 583ms/step - loss: 0.0241 - accuracy: 0.9847\n",
            "Epoch 86/120\n",
            "32/32 [==============================] - 19s 584ms/step - loss: 0.0233 - accuracy: 0.9856\n",
            "Epoch 87/120\n",
            "32/32 [==============================] - 19s 584ms/step - loss: 0.0225 - accuracy: 0.9863\n",
            "Epoch 88/120\n",
            "32/32 [==============================] - 19s 584ms/step - loss: 0.0223 - accuracy: 0.9863\n",
            "Epoch 89/120\n",
            "32/32 [==============================] - 19s 583ms/step - loss: 0.0219 - accuracy: 0.9865\n",
            "Epoch 90/120\n",
            "32/32 [==============================] - 19s 583ms/step - loss: 0.0210 - accuracy: 0.9874\n",
            "Epoch 91/120\n",
            "32/32 [==============================] - 19s 583ms/step - loss: 0.0204 - accuracy: 0.9879\n",
            "Epoch 92/120\n",
            "32/32 [==============================] - 19s 583ms/step - loss: 0.0201 - accuracy: 0.9881\n",
            "Epoch 93/120\n",
            "32/32 [==============================] - 19s 583ms/step - loss: 0.0193 - accuracy: 0.9889\n",
            "Epoch 94/120\n",
            "32/32 [==============================] - 19s 584ms/step - loss: 0.0188 - accuracy: 0.9894\n",
            "Epoch 95/120\n",
            "32/32 [==============================] - 19s 584ms/step - loss: 0.0185 - accuracy: 0.9895\n",
            "Epoch 96/120\n",
            "32/32 [==============================] - 19s 584ms/step - loss: 0.0181 - accuracy: 0.9898\n",
            "Epoch 97/120\n",
            "32/32 [==============================] - 19s 584ms/step - loss: 0.0175 - accuracy: 0.9906\n",
            "Epoch 98/120\n",
            "32/32 [==============================] - 19s 584ms/step - loss: 0.0172 - accuracy: 0.9907\n",
            "Epoch 99/120\n",
            "32/32 [==============================] - 19s 586ms/step - loss: 0.0167 - accuracy: 0.9912\n",
            "Epoch 100/120\n",
            "32/32 [==============================] - 19s 585ms/step - loss: 0.0165 - accuracy: 0.9913\n",
            "Epoch 101/120\n",
            "32/32 [==============================] - 19s 585ms/step - loss: 0.0162 - accuracy: 0.9915\n",
            "Epoch 102/120\n",
            "32/32 [==============================] - 19s 585ms/step - loss: 0.0159 - accuracy: 0.9918\n",
            "Epoch 103/120\n",
            "32/32 [==============================] - 19s 585ms/step - loss: 0.0156 - accuracy: 0.9919\n",
            "Epoch 104/120\n",
            "32/32 [==============================] - 19s 585ms/step - loss: 0.0153 - accuracy: 0.9922\n",
            "Epoch 105/120\n",
            "32/32 [==============================] - 19s 585ms/step - loss: 0.0150 - accuracy: 0.9925\n",
            "Epoch 106/120\n",
            "32/32 [==============================] - 19s 585ms/step - loss: 0.0147 - accuracy: 0.9927\n",
            "Epoch 107/120\n",
            "32/32 [==============================] - 19s 584ms/step - loss: 0.0147 - accuracy: 0.9925\n",
            "Epoch 108/120\n",
            "32/32 [==============================] - 19s 584ms/step - loss: 0.0143 - accuracy: 0.9929\n",
            "Epoch 109/120\n",
            "32/32 [==============================] - 19s 584ms/step - loss: 0.0138 - accuracy: 0.9934\n",
            "Epoch 110/120\n",
            "32/32 [==============================] - 19s 584ms/step - loss: 0.0136 - accuracy: 0.9936\n",
            "Epoch 111/120\n",
            "32/32 [==============================] - 19s 584ms/step - loss: 0.0134 - accuracy: 0.9937\n",
            "Epoch 112/120\n",
            "32/32 [==============================] - 19s 584ms/step - loss: 0.0132 - accuracy: 0.9940\n",
            "Epoch 113/120\n",
            "32/32 [==============================] - 19s 585ms/step - loss: 0.0128 - accuracy: 0.9943\n",
            "Epoch 114/120\n",
            "32/32 [==============================] - 19s 584ms/step - loss: 0.0126 - accuracy: 0.9945\n",
            "Epoch 115/120\n",
            "32/32 [==============================] - 19s 583ms/step - loss: 0.0127 - accuracy: 0.9942\n",
            "Epoch 116/120\n",
            "32/32 [==============================] - 19s 584ms/step - loss: 0.0129 - accuracy: 0.9937\n",
            "Epoch 117/120\n",
            "32/32 [==============================] - 19s 584ms/step - loss: 0.0128 - accuracy: 0.9938\n",
            "Epoch 118/120\n",
            "32/32 [==============================] - 19s 584ms/step - loss: 0.0124 - accuracy: 0.9942\n",
            "Epoch 119/120\n",
            "32/32 [==============================] - 19s 585ms/step - loss: 0.0120 - accuracy: 0.9947\n",
            "Epoch 120/120\n",
            "32/32 [==============================] - 19s 584ms/step - loss: 0.0119 - accuracy: 0.9947\n"
          ]
        }
      ]
    },
    {
      "cell_type": "code",
      "source": [
        "history_dict = history.history\n",
        "print(history_dict.keys())"
      ],
      "metadata": {
        "colab": {
          "base_uri": "https://localhost:8080/"
        },
        "id": "AKC5KCCIQlnk",
        "outputId": "c3ee3e5d-a1f6-4bb4-92c0-78dc04cf50f7"
      },
      "execution_count": null,
      "outputs": [
        {
          "output_type": "stream",
          "name": "stdout",
          "text": [
            "dict_keys(['loss', 'accuracy'])\n"
          ]
        }
      ]
    },
    {
      "cell_type": "code",
      "source": [
        "model = load_model(\"sbdn-ablation-01-dec-model.h5\")"
      ],
      "metadata": {
        "id": "ER5iaMB6Q6Tp"
      },
      "execution_count": null,
      "outputs": []
    },
    {
      "cell_type": "code",
      "source": [
        "import pandas as pd\n",
        "hist_df = pd.DataFrame(history.history)\n",
        "hist_csv_file = 'sbdn-shi-history.csv'\n",
        "with open(hist_csv_file, mode='w') as f:\n",
        "    hist_df.to_csv(f)"
      ],
      "metadata": {
        "id": "1XVFNd71QozD"
      },
      "execution_count": null,
      "outputs": []
    },
    {
      "cell_type": "code",
      "source": [
        "import matplotlib.pyplot as plt\n",
        "plt.plot(history.history[\"accuracy\"])\n",
        "#plt.plot(history.history['val_accuracy'])\n",
        "plt.plot(history.history['loss'])\n",
        "#plt.plot(history.history['val_loss'])\n",
        "plt.title(\"model accuracy\")\n",
        "plt.ylabel(\"Accuracy\")\n",
        "plt.xlabel(\"Epoch\")\n",
        "plt.legend([\"Accuracy\",\"loss\"])\n",
        "plt.show()"
      ],
      "metadata": {
        "colab": {
          "base_uri": "https://localhost:8080/",
          "height": 295
        },
        "id": "lqVirRptQpnE",
        "outputId": "f85ee21b-dab5-4432-d7d8-acc7fe45e75a"
      },
      "execution_count": null,
      "outputs": [
        {
          "output_type": "display_data",
          "data": {
            "text/plain": [
              "<Figure size 432x288 with 1 Axes>"
            ],
            "image/png": "[encoded data removed]"
          },
          "metadata": {
            "needs_background": "light"
          }
        }
      ]
    },
    {
      "cell_type": "code",
      "source": [
        "!unzip -qq shi200test.zip\n",
        "!unzip -qq shi200test-gt.zip"
      ],
      "metadata": {
        "id": "VHc-Gj6hLcN_"
      },
      "execution_count": null,
      "outputs": []
    },
    {
      "cell_type": "code",
      "source": [
        "images_folder= \"shi200test/*\"\n",
        "labels_folder = \"shi200test-gt/\"\n",
        "def data_preprocessing(images_folder,labels_folder):\n",
        "  total_img = []\n",
        "  label = []\n",
        "  labels_identities=[]\n",
        "  files = glob.glob (images_folder)\n",
        "  for myFile in files:\n",
        "      image_name=os.path.split(myFile)[1]\n",
        "      # image resize\n",
        "      image = Image.open(myFile)\n",
        "      image = image.resize((224, 224))\n",
        "      image = np.asarray(image)\n",
        "      total_img.append(image)\n",
        "      #Gt\n",
        "      image_name=image_name[:-3]\n",
        "      image_name=image_name+'png'\n",
        "      labels_identities.append(image_name)\n",
        "      label_image = Image.open(labels_folder+image_name)\n",
        "      label_image = label_image.resize((224, 224))\n",
        "      label_image = np.asarray(label_image)\n",
        "      if (label_image.shape!=(224,224)):\n",
        "        label_image=label_image[:,:,0]\n",
        "      label.append (label_image)\n",
        "  total_img = np.array(total_img)\n",
        "  label = np.array(label)\n",
        "  label= np.reshape(label,[label.shape[0],label.shape[1],label.shape[2]])\n",
        "  total_img= np.reshape(total_img,[total_img.shape[0],total_img.shape[1],total_img.shape[2],total_img.shape[3]]) \n",
        "  return label,total_img,labels_identities"
      ],
      "metadata": {
        "id": "2xG3PvuFLqV3"
      },
      "execution_count": null,
      "outputs": []
    },
    {
      "cell_type": "code",
      "source": [
        "eval_labels,eval_images,labels_names=data_preprocessing(images_folder,labels_folder)"
      ],
      "metadata": {
        "id": "VEtgwMDrLu1X"
      },
      "execution_count": null,
      "outputs": []
    },
    {
      "cell_type": "code",
      "source": [
        "eval_images.shape"
      ],
      "metadata": {
        "colab": {
          "base_uri": "https://localhost:8080/"
        },
        "id": "tr-F9ebGLwpb",
        "outputId": "2c18ba89-e0a0-479f-dd04-83d882e6c04d"
      },
      "execution_count": null,
      "outputs": [
        {
          "output_type": "execute_result",
          "data": {
            "text/plain": [
              "(200, 224, 224, 3)"
            ]
          },
          "metadata": {},
          "execution_count": 138
        }
      ]
    },
    {
      "cell_type": "code",
      "source": [
        "eval_labels.shape"
      ],
      "metadata": {
        "colab": {
          "base_uri": "https://localhost:8080/"
        },
        "id": "RAmjGM5tL0rl",
        "outputId": "6776ae40-2ac3-4f2b-ed4d-e96e45c4fa0a"
      },
      "execution_count": null,
      "outputs": [
        {
          "output_type": "execute_result",
          "data": {
            "text/plain": [
              "(200, 224, 224)"
            ]
          },
          "metadata": {},
          "execution_count": 139
        }
      ]
    },
    {
      "cell_type": "code",
      "source": [
        "\n",
        "from keras.models import load_model\n",
        "from PIL import Image\n",
        "images = eval_images\n",
        "predictions=[]\n",
        "for i in range(images.shape[0]):\n",
        "  img = images[i]\n",
        "  img = img.astype(np.float32)/ 255.0\n",
        "  img = np.expand_dims(img, -1)\n",
        "  img = np.expand_dims(img, 0)\n",
        "  pred = model.predict(img)\n",
        "  predictions.append(pred)"
      ],
      "metadata": {
        "id": "q48BJRIcL91z"
      },
      "execution_count": null,
      "outputs": []
    },
    {
      "cell_type": "code",
      "source": [
        "len(predictions)"
      ],
      "metadata": {
        "colab": {
          "base_uri": "https://localhost:8080/"
        },
        "id": "o_bBVM1JQ31n",
        "outputId": "3cda25b1-dad2-416f-c622-13f79f43df83"
      },
      "execution_count": null,
      "outputs": [
        {
          "output_type": "execute_result",
          "data": {
            "text/plain": [
              "200"
            ]
          },
          "metadata": {},
          "execution_count": 141
        }
      ]
    },
    {
      "cell_type": "markdown",
      "source": [
        "## **Evaluation with Shi et al (Chuk) Dataset**"
      ],
      "metadata": {
        "id": "Z-7A18OFTQvq"
      }
    },
    {
      "cell_type": "markdown",
      "source": [
        "## Instantiate Optimal Threshould for Evaluation Ground Truths"
      ],
      "metadata": {
        "id": "SSvGXwoXROxm"
      }
    },
    {
      "cell_type": "code",
      "source": [
        "ground_truth_total=eval_labels/255.0\n",
        "ground_truth_total=np.where(ground_truth_total>0.5,1.0,0.0)"
      ],
      "metadata": {
        "id": "b7A9wPNgRRGo"
      },
      "execution_count": null,
      "outputs": []
    },
    {
      "cell_type": "code",
      "source": [
        "pred_labels_total=[]\n",
        "for i in range(len(predictions)):\n",
        "  hh = (predictions[i])[0]\n",
        "  hh = hh[:,:,0]\n",
        "  pred_labels_total.append(hh)\n",
        "pred_labels_total=np.array(pred_labels_total)"
      ],
      "metadata": {
        "id": "7ufrTDIlMU-2"
      },
      "execution_count": null,
      "outputs": []
    },
    {
      "cell_type": "markdown",
      "source": [
        "## Mean Absolute Error"
      ],
      "metadata": {
        "id": "UChJBbGeRWD4"
      }
    },
    {
      "cell_type": "code",
      "source": [
        "def get_mae(true_label, y_pred_label):\n",
        "  absolute_error=[]\n",
        "  for i in range(0,len(true_label)):\n",
        "    y_pred = np.where(y_pred_label[i]>0.5,1.0,0.0)\n",
        "    y_true=true_label[i]\n",
        "    mae = tf.keras.losses.MeanAbsoluteError()\n",
        "    m = mae(y_true, y_pred).numpy()\n",
        "    absolute_error.append(m)\n",
        "  return mean(absolute_error)\n",
        "mean_absolute_error= get_mae(ground_truth_total,pred_labels_total)\n",
        "print('Mean Absolute Error for Evaluation set: ',mean_absolute_error)"
      ],
      "metadata": {
        "colab": {
          "base_uri": "https://localhost:8080/"
        },
        "id": "kvINYOQWRaAO",
        "outputId": "fcb8a388-3a27-476b-cc67-d215483ff099"
      },
      "execution_count": null,
      "outputs": [
        {
          "output_type": "stream",
          "name": "stdout",
          "text": [
            "Mean Absolute Error for Evaluation set:  0.198360670440051\n"
          ]
        }
      ]
    },
    {
      "cell_type": "markdown",
      "source": [
        "## Average Optimal Image Scale OIS-F score"
      ],
      "metadata": {
        "id": "WcD-6EhfSYn7"
      }
    },
    {
      "cell_type": "code",
      "source": [
        "from sklearn.metrics import precision_score,recall_score\n",
        "threshoulds=[0.3,0.4,0.5,0.6,0.7]\n",
        "beta2=0.2\n",
        "def recall_precison(y_true,y_pred):\n",
        "  OIS_F=[]\n",
        "  Fb=[]\n",
        "  for i in range(0,len(y_pred)):\n",
        "    OIS_F_thr=[]\n",
        "    fb_thr=[]\n",
        "    for thr in threshoulds:\n",
        "      pr=np.where(y_pred[i]>thr,1.0,0.0)\n",
        "      #pr=reshape(pr,[224,224])\n",
        "      pred_precision_score=precision_score(y_true[i],pr, average='weighted')\n",
        "      pred_recall_score=recall_score(y_true[i],pr, average='weighted')\n",
        "      OIS=2*pred_precision_score*pred_recall_score/(pred_precision_score+pred_recall_score)\n",
        "      fb=(1+beta2)*pred_precision_score*pred_recall_score/(beta2 * pred_precision_score+pred_recall_score)\n",
        "      fb_thr.append(fb)\n",
        "      OIS_F_thr.append(OIS)\n",
        "    Fb.append(fb_thr)\n",
        "    OIS_F.append(OIS_F_thr)\n",
        "  return OIS_F,Fb"
      ],
      "metadata": {
        "id": "cEgayh4_MmDI"
      },
      "execution_count": null,
      "outputs": []
    },
    {
      "cell_type": "code",
      "source": [
        "OIS_array,Fb_array=recall_precison(ground_truth_total,pred_labels_total)"
      ],
      "metadata": {
        "id": "xSQoNrKcMoWl"
      },
      "execution_count": null,
      "outputs": []
    },
    {
      "cell_type": "code",
      "source": [
        "def Fb_score(Fb_array):\n",
        "  best_Fb=[]\n",
        "  for results in Fb_array:\n",
        "    f_score=max(results)\n",
        "    best_Fb.append(f_score)\n",
        "  return np.nanmean(best_Fb)\n",
        "mean_Fb_score= Fb_score(Fb_array)\n",
        "print('F-measure score: ',mean_Fb_score)"
      ],
      "metadata": {
        "colab": {
          "base_uri": "https://localhost:8080/"
        },
        "id": "ZPDDGQ8mMrWb",
        "outputId": "4ca58eca-9127-4e46-ce3a-a57007166afa"
      },
      "execution_count": null,
      "outputs": [
        {
          "output_type": "stream",
          "name": "stdout",
          "text": [
            "F-measure score:  0.8494342846737521\n"
          ]
        }
      ]
    },
    {
      "cell_type": "code",
      "source": [
        "def OIS_F_score(OIS_array):\n",
        "  best_OIS_F=[]\n",
        "  index_max=[]\n",
        "  for results in OIS_array:\n",
        "    f_score=max(results)\n",
        "    best_OIS_F.append(f_score)\n",
        "    index = results.index(f_score)\n",
        "    index_max.append(index)\n",
        "  return best_OIS_F,index_max\n",
        "OIS_f1,indexes=OIS_F_score(OIS_array)\n",
        "print('Average Optimal Image Scale F score: ',np.nanmean(OIS_f1))"
      ],
      "metadata": {
        "colab": {
          "base_uri": "https://localhost:8080/"
        },
        "id": "2QutMmzYMvO6",
        "outputId": "e1a7b1eb-f390-4ec6-e240-4cd160a0c277"
      },
      "execution_count": null,
      "outputs": [
        {
          "output_type": "stream",
          "name": "stdout",
          "text": [
            "Average Optimal Image Scale F score:  0.8309126159662568\n"
          ]
        }
      ]
    },
    {
      "cell_type": "markdown",
      "source": [
        "## Precision Recall Graph"
      ],
      "metadata": {
        "id": "G-y9EdT1R3Np"
      }
    },
    {
      "cell_type": "code",
      "source": [
        "Y_ts_pred =reshape(predictions,[len(predictions),224,224])\n",
        "Y_ts_pred = Y_ts_pred.reshape(Y_ts_pred.shape[0]*Y_ts_pred.shape[1]*Y_ts_pred.shape[2], 1)\n",
        "print(Y_ts_pred.shape)\n",
        "Y_ts = ground_truth_total.reshape(ground_truth_total.shape[0]*ground_truth_total.shape[1]*ground_truth_total.shape[2], 1)\n",
        "print(Y_ts.shape)\n",
        "Y_ts_pred = np.where(Y_ts_pred>0.5, 1, 0)\n",
        "Y_ts  = np.where(Y_ts>0.5, 1, 0)"
      ],
      "metadata": {
        "colab": {
          "base_uri": "https://localhost:8080/"
        },
        "id": "bafWnsf5R15A",
        "outputId": "bae33fd3-a0cd-4394-8ebe-8c045b73412a"
      },
      "execution_count": null,
      "outputs": [
        {
          "output_type": "stream",
          "name": "stdout",
          "text": [
            "(10035200, 1)\n",
            "(10035200, 1)\n"
          ]
        }
      ]
    },
    {
      "cell_type": "code",
      "source": [
        "from sklearn.metrics import precision_recall_curve\n",
        "from sklearn.metrics import average_precision_score\n",
        "import numpy as np\n",
        "import matplotlib.pyplot as plt\n",
        "precision, recall, thresholds = precision_recall_curve(Y_ts, Y_ts_pred)\n",
        "average_precision = average_precision_score(Y_ts, Y_ts_pred)\n",
        "precision = np.fliplr([precision])[0]  #to avoid getting negative AUC)\n",
        "recall = np.fliplr([recall])[0]  #to avoid getting negative AUC)\n",
        "AUC_prec_rec = np.trapz(precision,recall)\n",
        "print(\"\\nArea under Precision-Recall curve: \" +str(AUC_prec_rec))\n",
        "prec_rec_curve = plt.figure()\n",
        "plt.figure(figsize=(10,5))\n",
        "plt.plot(recall,precision,'-',label='Area Under the Curve (AUC = %0.4f)' % AUC_prec_rec,color=\"darkorange\")\n",
        "plt.title('Precision - Recall curve',fontsize=18)\n",
        "plt.xlabel(\"Recall\",fontsize=16)\n",
        "plt.ylabel(\"Precision\",fontsize=16)\n",
        "plt.legend(loc=\"best\",prop={'size': 14})\n",
        "plt.savefig(\"Precision_recall.png\")\n",
        "print(\"Average Precision Scores: \" +str(average_precision))"
      ],
      "metadata": {
        "colab": {
          "base_uri": "https://localhost:8080/",
          "height": 428
        },
        "id": "m1uFZ1QFSBnS",
        "outputId": "43c367d3-ead2-4e07-be1d-fe9f0e08c5b4"
      },
      "execution_count": null,
      "outputs": [
        {
          "output_type": "stream",
          "name": "stdout",
          "text": [
            "\n",
            "Area under Precision-Recall curve: 0.9030191980901148\n",
            "Average Precision Scores: 0.8281080986630418\n"
          ]
        },
        {
          "output_type": "display_data",
          "data": {
            "text/plain": [
              "<Figure size 432x288 with 0 Axes>"
            ]
          },
          "metadata": {}
        },
        {
          "output_type": "display_data",
          "data": {
            "text/plain": [
              "<Figure size 720x360 with 1 Axes>"
            ],
            "image/png": "[encoded data removed]"
          },
          "metadata": {
            "needs_background": "light"
          }
        }
      ]
    },
    {
      "cell_type": "code",
      "source": [
        "beta2=0.3\n",
        "fb=(1+beta2)*precision[1]*recall[1]/((beta2 * precision[1])+recall[1])\n",
        "fb"
      ],
      "metadata": {
        "colab": {
          "base_uri": "https://localhost:8080/"
        },
        "id": "UBm1HuXKSFv4",
        "outputId": "567e0385-db38-4d21-cac3-30f9f9a2a4a7"
      },
      "execution_count": null,
      "outputs": [
        {
          "output_type": "execute_result",
          "data": {
            "text/plain": [
              "0.8541853760426317"
            ]
          },
          "metadata": {},
          "execution_count": 152
        }
      ]
    },
    {
      "cell_type": "markdown",
      "source": [
        "## **Evaluation with DUT Dataset**"
      ],
      "metadata": {
        "id": "OicAog5BTAhn"
      }
    },
    {
      "cell_type": "code",
      "source": [
        "!unzip -qq dut500-source.zip"
      ],
      "metadata": {
        "id": "bPXqrv9GTKM2"
      },
      "execution_count": null,
      "outputs": []
    },
    {
      "cell_type": "code",
      "source": [
        "!unzip -qq dut500-gt.zip"
      ],
      "metadata": {
        "id": "KTos1gkNUzhH"
      },
      "execution_count": null,
      "outputs": []
    },
    {
      "cell_type": "code",
      "source": [
        "from numpy import *\n",
        "images_folder= \"dut500-source/*.bmp\"\n",
        "labels_folder = \"dut500-gt/\"\n",
        "def data_preprocessing(images_folder,labels_folder):\n",
        "  total_img = []\n",
        "  label = []\n",
        "  files = glob.glob (images_folder)\n",
        "  for myFile in files:\n",
        "      image_name=os.path.split(myFile)[1]\n",
        "      img = Image.open(myFile)\n",
        "      new_img = img.resize( (224, 224))\n",
        "      image = array(new_img)\n",
        "      new_label=Image.open(labels_folder+image_name)\n",
        "      new_label = new_label.resize((224, 224))\n",
        "      label_image = array(new_label)\n",
        "      label.append (label_image)\n",
        "      total_img.append (image)\n",
        "  total_img = np.array(total_img)\n",
        "  label = np.array(label)\n",
        "  label= np.reshape(label,[label.shape[0],label.shape[1],label.shape[2]])\n",
        "  total_img= np.reshape(total_img,[total_img.shape[0],total_img.shape[1],total_img.shape[2],total_img.shape[3]])\n",
        "  return label,total_img"
      ],
      "metadata": {
        "id": "iiK0-vyTUe-Z"
      },
      "execution_count": null,
      "outputs": []
    },
    {
      "cell_type": "code",
      "source": [
        "DUT_labels,DUT_images=data_preprocessing(images_folder,labels_folder)"
      ],
      "metadata": {
        "id": "AvywuY6CWRhJ"
      },
      "execution_count": null,
      "outputs": []
    },
    {
      "cell_type": "code",
      "source": [
        "DUT_images.shape"
      ],
      "metadata": {
        "colab": {
          "base_uri": "https://localhost:8080/"
        },
        "id": "8z9LrchRWqVV",
        "outputId": "e94657a6-8b1a-41b4-ae26-9aa88129d0f6"
      },
      "execution_count": null,
      "outputs": [
        {
          "output_type": "execute_result",
          "data": {
            "text/plain": [
              "(500, 224, 224, 3)"
            ]
          },
          "metadata": {},
          "execution_count": 155
        }
      ]
    },
    {
      "cell_type": "code",
      "source": [
        "DUT_labels.shape"
      ],
      "metadata": {
        "colab": {
          "base_uri": "https://localhost:8080/"
        },
        "id": "75vViDQGWszu",
        "outputId": "be6ad699-1452-4e13-ee4e-8ec1127f3ad0"
      },
      "execution_count": null,
      "outputs": [
        {
          "output_type": "execute_result",
          "data": {
            "text/plain": [
              "(500, 224, 224)"
            ]
          },
          "metadata": {},
          "execution_count": 156
        }
      ]
    },
    {
      "cell_type": "code",
      "source": [
        "from keras.models import load_model\n",
        "from PIL import Image\n",
        "images = DUT_images\n",
        "predictions=[]\n",
        "for i in range(images.shape[0]):\n",
        "  img = images[i]\n",
        "  img = img.astype(np.float32)/ 255.0\n",
        "  img = np.expand_dims(img, -1)\n",
        "  img = np.expand_dims(img, 0)\n",
        "  pred = model.predict(img)\n",
        "  predictions.append(pred)"
      ],
      "metadata": {
        "id": "pPl0X8OmW_tp"
      },
      "execution_count": null,
      "outputs": []
    },
    {
      "cell_type": "code",
      "source": [
        "ground_truth_total=DUT_labels/255.0\n",
        "ground_truth_total=np.where(ground_truth_total>0.5,0.0,1.0)"
      ],
      "metadata": {
        "id": "bCNm0PCeXZje"
      },
      "execution_count": null,
      "outputs": []
    },
    {
      "cell_type": "code",
      "source": [
        "def get_mae(true_label, y_pred_label):\n",
        "  absolute_error=[]\n",
        "  for i in range(0,len(true_label)):\n",
        "    #true_label = eval_labels[i]/255.0\n",
        "    pp=np.where(((y_pred_label[i])[0])>0.5,1.0,0.0)\n",
        "    y_pred=reshape(pp,[224,224])\n",
        "    y_true=true_label[i]\n",
        "    mae = tf.keras.losses.MeanAbsoluteError()\n",
        "    m = mae(y_true, y_pred).numpy()\n",
        "    absolute_error.append(m)\n",
        "  return mean(absolute_error)\n",
        "mean_absolute_error= get_mae(ground_truth_total,predictions)\n",
        "print('Mean Absolute Error for Evaluation set: ',mean_absolute_error)"
      ],
      "metadata": {
        "colab": {
          "base_uri": "https://localhost:8080/"
        },
        "id": "caIUce8tXooZ",
        "outputId": "e772ea69-08bf-4bb4-f1f7-76f6ce2f80a9"
      },
      "execution_count": null,
      "outputs": [
        {
          "output_type": "stream",
          "name": "stdout",
          "text": [
            "Mean Absolute Error for Evaluation set:  0.15795412149234692\n"
          ]
        }
      ]
    },
    {
      "cell_type": "markdown",
      "source": [
        "## Precision-Recall "
      ],
      "metadata": {
        "id": "YT79n8TDUoc4"
      }
    },
    {
      "cell_type": "code",
      "source": [
        "Y_ts_pred =reshape(predictions,[len(predictions),224,224])\n",
        "Y_ts_pred = Y_ts_pred.reshape(Y_ts_pred.shape[0]*Y_ts_pred.shape[1]*Y_ts_pred.shape[2], 1)\n",
        "print(Y_ts_pred.shape)\n",
        "Y_ts = ground_truth_total.reshape(ground_truth_total.shape[0]*ground_truth_total.shape[1]*ground_truth_total.shape[2], 1)\n",
        "print(Y_ts.shape)\n",
        "Y_ts_pred = np.where(Y_ts_pred>0.5, 1, 0)\n",
        "Y_ts  = np.where(Y_ts>0.5, 1, 0)"
      ],
      "metadata": {
        "id": "NGaK6ve3UrTQ",
        "outputId": "cdef4ddc-aac1-4613-f512-a29f67ee9a34",
        "colab": {
          "base_uri": "https://localhost:8080/"
        }
      },
      "execution_count": null,
      "outputs": [
        {
          "output_type": "stream",
          "name": "stdout",
          "text": [
            "(25088000, 1)\n",
            "(25088000, 1)\n"
          ]
        }
      ]
    },
    {
      "cell_type": "code",
      "source": [
        "from sklearn.metrics import precision_recall_curve\n",
        "from sklearn.metrics import average_precision_score\n",
        "import numpy as np\n",
        "import matplotlib.pyplot as plt\n",
        "precision, recall, thresholds = precision_recall_curve(Y_ts, Y_ts_pred)\n",
        "average_precision = average_precision_score(Y_ts, Y_ts_pred)\n",
        "precision = np.fliplr([precision])[0]  #to avoid getting negative AUC)\n",
        "recall = np.fliplr([recall])[0]  #to avoid getting negative AUC)\n",
        "AUC_prec_rec = np.trapz(precision,recall)\n",
        "print(\"\\nArea under Precision-Recall curve: \" +str(AUC_prec_rec))\n",
        "prec_rec_curve = plt.figure()\n",
        "plt.figure(figsize=(10,5))\n",
        "plt.plot(recall,precision,'-',label='Area Under the Curve (AUC = %0.4f)' % AUC_prec_rec,color=\"darkorange\")\n",
        "plt.title('Precision - Recall curve',fontsize=18)\n",
        "plt.xlabel(\"Recall\",fontsize=16)\n",
        "plt.ylabel(\"Precision\",fontsize=16)\n",
        "plt.legend(loc=\"best\",prop={'size': 14})\n",
        "plt.savefig(\"Precision_recall.png\")\n",
        "print(\"Average Precision Scores: \" +str(average_precision))"
      ],
      "metadata": {
        "colab": {
          "base_uri": "https://localhost:8080/",
          "height": 428
        },
        "id": "RUew4DG1VAZB",
        "outputId": "1f93c0f0-581a-454d-8470-ff787f570c38"
      },
      "execution_count": null,
      "outputs": [
        {
          "output_type": "stream",
          "name": "stdout",
          "text": [
            "\n",
            "Area under Precision-Recall curve: 0.9181009180673839\n",
            "Average Precision Scores: 0.8468962923444752\n"
          ]
        },
        {
          "output_type": "display_data",
          "data": {
            "text/plain": [
              "<Figure size 432x288 with 0 Axes>"
            ]
          },
          "metadata": {}
        },
        {
          "output_type": "display_data",
          "data": {
            "text/plain": [
              "<Figure size 720x360 with 1 Axes>"
            ],
            "image/png": "[encoded data removed]"
          },
          "metadata": {
            "needs_background": "light"
          }
        }
      ]
    },
    {
      "cell_type": "code",
      "source": [
        "beta2=0.3\n",
        "fb=(1+beta2)*precision[1]*recall[1]/((beta2 * precision[1])+recall[1])\n",
        "fb"
      ],
      "metadata": {
        "colab": {
          "base_uri": "https://localhost:8080/"
        },
        "id": "qJAtuE6vVIoO",
        "outputId": "e08ee126-9503-45c1-d905-e5801c9e1cb8"
      },
      "execution_count": null,
      "outputs": [
        {
          "output_type": "execute_result",
          "data": {
            "text/plain": [
              "0.8734726322704016"
            ]
          },
          "metadata": {},
          "execution_count": 164
        }
      ]
    },
    {
      "cell_type": "code",
      "source": [
        "from sklearn.metrics import precision_score,recall_score\n",
        "threshoulds=[0.3,0.4,0.5,0.6,0.7]\n",
        "beta2=0.2\n",
        "def recall_precison(y_true,y_pred):\n",
        "  OIS_F=[]\n",
        "  Fb=[]\n",
        "  for i in range(0,len(y_pred)):\n",
        "    OIS_F_thr=[]\n",
        "    fb_thr=[]\n",
        "    for thr in threshoulds:\n",
        "      pr=np.where(((y_pred[i])[0])>thr,1.0,0.0)\n",
        "      pr=reshape(pr,[224,224])\n",
        "      pred_precision_score=precision_score(y_true[i],pr, average='weighted')\n",
        "      pred_recall_score=recall_score(y_true[i],pr, average='weighted')\n",
        "      OIS=2*pred_precision_score*pred_recall_score/(pred_precision_score+pred_recall_score)\n",
        "      fb=(1+beta2)*pred_precision_score*pred_recall_score/(beta2 * pred_precision_score+pred_recall_score)\n",
        "      fb_thr.append(fb)\n",
        "      OIS_F_thr.append(OIS)\n",
        "    Fb.append(fb_thr)\n",
        "    OIS_F.append(OIS_F_thr)\n",
        "  return OIS_F,Fb"
      ],
      "metadata": {
        "id": "_f7dXoLGX0sj"
      },
      "execution_count": null,
      "outputs": []
    },
    {
      "cell_type": "code",
      "source": [
        "OIS_array,Fb_array=recall_precison(ground_truth_total,predictions)"
      ],
      "metadata": {
        "id": "Vxag1g3xYMH9"
      },
      "execution_count": null,
      "outputs": []
    },
    {
      "cell_type": "code",
      "source": [
        "def Fb_score(Fb_array):\n",
        "  best_Fb=[]\n",
        "  for results in Fb_array:\n",
        "    f_score=max(results)\n",
        "    best_Fb.append(f_score)\n",
        "  return np.nanmean(best_Fb)\n",
        "mean_Fb_score= Fb_score(Fb_array)\n",
        "print('Fb score: ',mean_Fb_score)"
      ],
      "metadata": {
        "colab": {
          "base_uri": "https://localhost:8080/"
        },
        "id": "caeGx74rYhBt",
        "outputId": "33762995-ed75-4466-cec9-69edb0c41ceb"
      },
      "execution_count": null,
      "outputs": [
        {
          "output_type": "stream",
          "name": "stdout",
          "text": [
            "Fb score:  0.8922960592115007\n"
          ]
        }
      ]
    },
    {
      "cell_type": "code",
      "source": [
        "def OIS_F_score(OIS_array):\n",
        "  best_OIS_F=[]\n",
        "  index_max=[]\n",
        "  for results in OIS_array:\n",
        "    f_score=max(results)\n",
        "    best_OIS_F.append(f_score)\n",
        "    index = results.index(f_score)\n",
        "    index_max.append(index)\n",
        "  return best_OIS_F,index_max\n",
        "OIS_f1,indexes=OIS_F_score(OIS_array)\n",
        "print('Average Optimal Image Scale F score: ',np.nanmean(OIS_f1))"
      ],
      "metadata": {
        "colab": {
          "base_uri": "https://localhost:8080/"
        },
        "id": "YJEmJVQIYv9B",
        "outputId": "00f88121-d040-45da-9eaf-1134b7136262"
      },
      "execution_count": null,
      "outputs": [
        {
          "output_type": "stream",
          "name": "stdout",
          "text": [
            "Average Optimal Image Scale F score:  0.9013503529615498\n"
          ]
        }
      ]
    }
  ]
}