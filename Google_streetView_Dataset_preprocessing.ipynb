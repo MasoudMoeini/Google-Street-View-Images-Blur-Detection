{
 "cells": [
  {
   "cell_type": "code",
   "execution_count": 57,
   "id": "0ad9ef08",
   "metadata": {},
   "outputs": [],
   "source": [
    "from PIL import Image, ImageFilter\n",
    "import glob\n",
    "import os\n",
    "import numpy as np\n",
    "import cv2\n",
    "from random import *\n",
    "import shutil"
   ]
  },
  {
   "cell_type": "code",
   "execution_count": 58,
   "id": "55477a5e",
   "metadata": {},
   "outputs": [],
   "source": [
    "no_blur_path = 'StreetView/train/no_blur'\n",
    "no_blur_label_path ='StreetView/train/no_blur_label'\n",
    "blur_label_path = 'StreetView/train/blur_label'\n",
    "blur_path = 'StreetView/train/blur'\n",
    "folder= 'part1'"
   ]
  },
  {
   "cell_type": "code",
   "execution_count": 59,
   "id": "ced9f30d",
   "metadata": {},
   "outputs": [
    {
     "data": {
      "text/plain": [
       "'01.jpg'"
      ]
     },
     "execution_count": 59,
     "metadata": {},
     "output_type": "execute_result"
    }
   ],
   "source": [
    "#img = cv2.imread('temp/0.jpg')\n",
    "#print(img.shape)\n",
    "os.path.split('StreetView/train/blur/01.jpg')[1]"
   ]
  },
  {
   "cell_type": "code",
   "execution_count": 60,
   "id": "2e73ce1d",
   "metadata": {},
   "outputs": [],
   "source": [
    "def blurizing_creating_blur_label(blur_path,blur_label_path,filename):\n",
    "    #image_blur = image.copy()\n",
    "    image_blur =Image.open(filename)\n",
    "    img = cv2.imread(filename)\n",
    "    width, height = image_blur.size\n",
    "    dic ={'1':{'h1':int( height / 4),'h2':800,'w1':900,'w2':1100,'left':900},\n",
    "      '2':{'h1':int( height / 3),'h2':600,'w1':100,'w2':500,'left':100},\n",
    "       '3':{'h1':int( height / 4),'h2':700,'w1':500,'w2':800,'left':500},\n",
    "       '4':{'h1':int( height / 4),'h2':700,'w1':700,'w2':1000,'left':700},\n",
    "       '5':{'h1':int( height / 4),'h2':1000,'w1':100,'w2':400,'left':100},\n",
    "       '6':{'h1':int(2* height / 4),'h2':1000,'w1':100,'w2':400,'left':100},\n",
    "       '7':{'h1':int(height / 4),'h2':900,'w1':100,'w2':400,'left':100},\n",
    "       '8':{'h1':int(height / 5),'h2':800,'w1':800,'w2':1100,'left':800}}\n",
    "    # Cropping an image\n",
    "    x = randint(1,8)\n",
    "    cropped_image = img[dic[str(x)]['h1']:dic[str(x)]['h2'], dic[str(x)]['w1']:dic[str(x)]['w2']]\n",
    "    cropped_image=cv2.cvtColor(cropped_image, cv2.COLOR_BGR2RGB)\n",
    "    blurred_image = Image.fromarray(cropped_image).filter(ImageFilter.GaussianBlur(10))\n",
    "    image_blur.paste(blurred_image, (dic[str(x)]['left'], dic[str(x)]['h1']))\n",
    "    image_blur = image_blur.resize((224,224))\n",
    "    image_blur.save(blur_path+'/'+ os.path.split(filename)[1])\n",
    "    #image_blur.save('{}{}{}'.format(blur_path,'/',os.path.split(filename)[1]))\n",
    "    #label for blureed image \n",
    "    label_img = np.zeros((height, width, 3), dtype = \"uint8\")\n",
    "    label_img = Image.fromarray(label_img)\n",
    "    w,h = Image.fromarray(cropped_image).size\n",
    "    whiteFrame = 255 * np.ones((h,w,3), np.uint8)\n",
    "    whiteFrame = Image.fromarray(whiteFrame)\n",
    "    label_img.paste(whiteFrame,(dic[str(x)]['left'], dic[str(x)]['h1']))\n",
    "    label_img = label_img.resize((224,224))\n",
    "    label_img.save('{}{}{}'.format(blur_label_path,'/',os.path.split(filename)[1]))\n",
    "    "
   ]
  },
  {
   "cell_type": "code",
   "execution_count": 61,
   "id": "0fa95c4b",
   "metadata": {},
   "outputs": [],
   "source": [
    "def resize_images_creating_label(new_path,no_blur_label_path,blur_path,blur_label_path,folder):\n",
    "    temp = 'temp'\n",
    "    if not os.path.exists(new_path ):\n",
    "        os.makedirs(new_path )\n",
    "    if not os.path.exists(no_blur_label_path):\n",
    "        os.makedirs(no_blur_label_path)\n",
    "    if not os.path.exists(temp):\n",
    "        os.makedirs(temp)\n",
    "    if not os.path.exists(blur_label_path):\n",
    "        os.makedirs(blur_label_path)\n",
    "    if not os.path.exists(blur_path):\n",
    "        os.makedirs(blur_path)\n",
    "    #starting processing images\n",
    "    images_list=os.listdir(folder)\n",
    "    i=0\n",
    "    for item in images_list[:1000]:\n",
    "        image = Image.open(folder+\"/\"+item)   \n",
    "        image.save(temp +'/' + str(i)+'.jpg', 'JPEG', quality=90) \n",
    "        i+=1\n",
    "    for filename in glob.glob(temp+'/' +'*.jpg'): #path of raw images\n",
    "        blurizing_creating_blur_label(blur_path,blur_label_path,filename)\n",
    "        image = Image.open(filename)\n",
    "        width, height = image.size\n",
    "        image = image.resize((224,224))\n",
    "        # save resized images to new folder with existing filename\n",
    "        image.save('{}{}{}'.format(no_blur_path,'/',os.path.split(filename)[1]))\n",
    "        label_img = np.zeros((height, width, 3), dtype = \"uint8\")\n",
    "        label_img = Image.fromarray(label_img)\n",
    "        label_img = label_img.resize((224,224))\n",
    "        label_img.save('{}{}{}'.format(no_blur_label_path,'/',os.path.split(filename)[1]))\n",
    "    shutil.rmtree(temp)\n",
    "    "
   ]
  },
  {
   "cell_type": "code",
   "execution_count": 62,
   "id": "dbfa5876",
   "metadata": {},
   "outputs": [],
   "source": [
    "resize_images_creating_label(no_blur_path,no_blur_label_path,blur_path,blur_label_path,folder)"
   ]
  },
  {
   "cell_type": "code",
   "execution_count": null,
   "id": "b0d52265",
   "metadata": {},
   "outputs": [],
   "source": []
  }
 ],
 "metadata": {
  "kernelspec": {
   "display_name": "Python 3 (ipykernel)",
   "language": "python",
   "name": "python3"
  },
  "language_info": {
   "codemirror_mode": {
    "name": "ipython",
    "version": 3
   },
   "file_extension": ".py",
   "mimetype": "text/x-python",
   "name": "python",
   "nbconvert_exporter": "python",
   "pygments_lexer": "ipython3",
   "version": "3.9.7"
  }
 },
 "nbformat": 4,
 "nbformat_minor": 5
}
